{
 "cells": [
  {
   "cell_type": "markdown",
   "metadata": {},
   "source": [
    "X1\tnet profit / total assets <br>\n",
    "X2\ttotal liabilities / total assets <br>\n",
    "X3\tworking capital / total assets <br>\n",
    "X4\tcurrent assets / short-term liabilities <br>\n",
    "X5\t[(cash + short-term securities + receivables - short-term liabilities) / (operating expenses - depreciation)] * 365 <br>\n",
    "X6\tretained earnings / total assets <br>\n",
    "X7\tEBIT / total assets <br>\n",
    "X8\tbook value of equity / total liabilities <br>\n",
    "X9\tsales / total assets <br>\n",
    "X10\tequity / total assets <br>\n",
    "X11\t(gross profit + extraordinary items + financial expenses) / total assets <br>\n",
    "X12\tgross profit / short-term liabilities <br>\n",
    "X13\t(gross profit + depreciation) / sales <br>\n",
    "X14\t(gross profit + interest) / total assets <br>\n",
    "X15\t(total liabilities * 365) / (gross profit + depreciation) <br>\n",
    "X16\t(gross profit + depreciation) / total liabilities <br>\n",
    "X17\ttotal assets / total liabilities <br>\n",
    "X18\tgross profit / total assets <br>\n",
    "X19\tgross profit / sales <br>\n",
    "X20\t(inventory * 365) / sales <br>\n",
    "X21\tsales (n) / sales (n-1) <br>\n",
    "X22\tprofit on operating activities / total assets <br>\n",
    "X23\tnet profit / sales <br>\n",
    "X24\tgross profit (in 3 years) / total assets <br>\n",
    "X25\t(equity - share capital) / total assets <br>\n",
    "X26\t(net profit + depreciation) / total liabilities <br>\n",
    "X27\tprofit on operating activities / financial expenses <br>\n",
    "X28\tworking capital / fixed assets <br>\n",
    "X29\tlogarithm of total assets <br>\n",
    "X30\t(total liabilities - cash) / sales <br>\n",
    "X31\t(gross profit + interest) / sales<br> \n",
    "X32\t(current liabilities * 365) / cost of products sold <br>\n",
    "X33\toperating expenses / short-term liabilities <br>\n",
    "X34\toperating expenses / total liabilities <br>\n",
    "X35\tprofit on sales / total assets <br>\n",
    "X36\ttotal sales / total assets <br>\n",
    "X37\t(current assets - inventories) / long-term liabilities <br>\n",
    "X38\tconstant capital / total assets <br>\n",
    "X39\tprofit on sales / sales <br>\n",
    "X40\t(current assets - inventory - receivables) / short-term liabilities <br>\n",
    "X41\ttotal liabilities / ((profit on operating activities + depreciation) * (12/365)) <br>\n",
    "X42\tprofit on operating activities / sales <br>\n",
    "X43\trotation receivables + inventory turnover in days <br>\n",
    "X44\t(receivables * 365) / sales <br>\n",
    "X45\tnet profit / inventory <br>\n",
    "X46\t(current assets - inventory) / short-term liabilities <br>\n",
    "X47\t(inventory * 365) / cost of products sold <br>\n",
    "X48\tEBITDA (profit on operating activities - depreciation) / total assets <br>\n",
    "X49\tEBITDA (profit on operating activities - depreciation) / sales <br>\n",
    "X50\tcurrent assets / total liabilities <br>\n",
    "X51\tshort-term liabilities / total assets <br>\n",
    "X52\t(short-term liabilities * 365) / cost of products sold) <br>\n",
    "X53\tequity / fixed assets <br>\n",
    "X54\tconstant capital / fixed assets <br>\n",
    "X55\tworking capital <br>\n",
    "X56\t(sales - cost of products sold) / sales <br>\n",
    "X57\t(current assets - inventory - short-term liabilities) / (sales - gross profit - depreciation) <br>\n",
    "X58\ttotal costs /total sales <br>\n",
    "X59\tlong-term liabilities / equity <br>\n",
    "X60\tsales / inventory <br>\n",
    "X61\tsales / receivables <br>\n",
    "X62\t(short-term liabilities *365) / sales <br>\n",
    "X63\tsales / short-term liabilities <br>\n",
    "X64\tsales / fixed assets<br>"
   ]
  },
  {
   "cell_type": "code",
   "execution_count": 386,
   "metadata": {},
   "outputs": [
    {
     "name": "stdout",
     "output_type": "stream",
     "text": [
      "Populating the interactive namespace from numpy and matplotlib\n"
     ]
    }
   ],
   "source": [
    "import pandas as pd\n",
    "import numpy as np\n",
    "import matplotlib.pyplot as plt\n",
    "import seaborn as sns\n",
    "from sklearn.model_selection import train_test_split\n",
    "from sklearn.model_selection import StratifiedKFold\n",
    "from sklearn.feature_selection import SelectFromModel\n",
    "from sklearn.ensemble import RandomForestClassifier\n",
    "from sklearn.metrics import accuracy_score,f1_score,precision_score,recall_score\n",
    "import matplotlib.pyplot as plt\n",
    "from sklearn.model_selection import StratifiedKFold\n",
    "from imblearn.over_sampling import SMOTE \n",
    "from collections import Counter\n",
    "from sklearn.pipeline import make_pipeline\n",
    "from imblearn.pipeline import make_pipeline as make_pipline_imb\n",
    "from sklearn.feature_selection import SelectKBest, VarianceThreshold\n",
    "from sklearn.pipeline import FeatureUnion\n",
    "from fancyimpute import  KNN\n",
    "from sklearn.preprocessing import StandardScaler\n",
    "import warnings\n",
    "import impyute\n",
    "from sklearn import tree\n",
    "from sklearn.tree import DecisionTreeClassifier\n",
    "from sklearn.linear_model import LogisticRegression\n",
    "from sklearn.metrics import roc_auc_score\n",
    "from sklearn.metrics import roc_curve,auc\n",
    "%pylab inline\n",
    "import warnings\n",
    "from sklearn.metrics import classification_report,confusion_matrix,accuracy_score\n",
    "from mlxtend.plotting import plot_decision_regions, plot_confusion_matrix\n",
    "\n",
    "from IPython.display import Image  \n",
    "from sklearn.externals.six import StringIO  \n",
    "from sklearn.tree import export_graphviz\n",
    "import pydot \n",
    "from sklearn import tree\n",
    "\n",
    "warnings.filterwarnings(\"ignore\")\n",
    "pd.options.display.max_rows = 999"
   ]
  },
  {
   "cell_type": "code",
   "execution_count": 387,
   "metadata": {},
   "outputs": [],
   "source": [
    "df=pd.read_csv('csv_result-5year.csv',index_col=0)\n",
    "df.replace('?',np.nan,inplace=True)\n",
    "df=df.astype('float')"
   ]
  },
  {
   "cell_type": "code",
   "execution_count": 388,
   "metadata": {},
   "outputs": [
    {
     "data": {
      "text/plain": [
       "(5910, 65)"
      ]
     },
     "execution_count": 388,
     "metadata": {},
     "output_type": "execute_result"
    }
   ],
   "source": [
    "df.shape"
   ]
  },
  {
   "cell_type": "code",
   "execution_count": null,
   "metadata": {},
   "outputs": [],
   "source": []
  },
  {
   "cell_type": "code",
   "execution_count": 389,
   "metadata": {},
   "outputs": [
    {
     "data": {
      "image/png": "[encoded data removed]",
      "text/plain": [
       "<Figure size 1152x576 with 1 Axes>"
      ]
     },
     "metadata": {
      "needs_background": "light"
     },
     "output_type": "display_data"
    }
   ],
   "source": [
    "missing=df.isna().sum()\n",
    "plt.figure(figsize=(16,8))\n",
    "missing.plot.bar()\n",
    "plt.title('Missing values')\n",
    "plt.show()"
   ]
  },
  {
   "cell_type": "code",
   "execution_count": null,
   "metadata": {},
   "outputs": [],
   "source": []
  },
  {
   "cell_type": "markdown",
   "metadata": {},
   "source": [
    "# Create a machine learning algorithm to predict missing value"
   ]
  },
  {
   "cell_type": "markdown",
   "metadata": {},
   "source": [
    "# Using KNN to estimate missing value"
   ]
  },
  {
   "cell_type": "code",
   "execution_count": 390,
   "metadata": {},
   "outputs": [],
   "source": [
    "X=df.drop(['class'],axis=1)\n",
    "y=df['class']"
   ]
  },
  {
   "cell_type": "code",
   "execution_count": 391,
   "metadata": {},
   "outputs": [
    {
     "name": "stdout",
     "output_type": "stream",
     "text": [
      "Imputing row 1/5910 with 0 missing, elapsed time: 11.416\n",
      "Imputing row 101/5910 with 1 missing, elapsed time: 11.424\n",
      "Imputing row 201/5910 with 1 missing, elapsed time: 11.431\n",
      "Imputing row 301/5910 with 0 missing, elapsed time: 11.435\n",
      "Imputing row 401/5910 with 1 missing, elapsed time: 11.438\n",
      "Imputing row 501/5910 with 0 missing, elapsed time: 11.442\n",
      "Imputing row 601/5910 with 1 missing, elapsed time: 11.446\n",
      "Imputing row 701/5910 with 1 missing, elapsed time: 11.449\n",
      "Imputing row 801/5910 with 1 missing, elapsed time: 11.452\n",
      "Imputing row 901/5910 with 0 missing, elapsed time: 11.458\n",
      "Imputing row 1001/5910 with 3 missing, elapsed time: 11.461\n",
      "Imputing row 1101/5910 with 0 missing, elapsed time: 11.465\n",
      "Imputing row 1201/5910 with 1 missing, elapsed time: 11.469\n",
      "Imputing row 1301/5910 with 1 missing, elapsed time: 11.472\n",
      "Imputing row 1401/5910 with 1 missing, elapsed time: 11.476\n",
      "Imputing row 1501/5910 with 0 missing, elapsed time: 11.479\n",
      "Imputing row 1601/5910 with 0 missing, elapsed time: 11.482\n",
      "Imputing row 1701/5910 with 0 missing, elapsed time: 11.484\n",
      "Imputing row 1801/5910 with 1 missing, elapsed time: 11.488\n",
      "Imputing row 1901/5910 with 0 missing, elapsed time: 11.492\n",
      "Imputing row 2001/5910 with 1 missing, elapsed time: 11.496\n",
      "Imputing row 2101/5910 with 1 missing, elapsed time: 11.502\n",
      "Imputing row 2201/5910 with 1 missing, elapsed time: 11.506\n",
      "Imputing row 2301/5910 with 0 missing, elapsed time: 11.511\n",
      "Imputing row 2401/5910 with 1 missing, elapsed time: 11.516\n",
      "Imputing row 2501/5910 with 0 missing, elapsed time: 11.519\n",
      "Imputing row 2601/5910 with 1 missing, elapsed time: 11.524\n",
      "Imputing row 2701/5910 with 1 missing, elapsed time: 11.533\n",
      "Imputing row 2801/5910 with 0 missing, elapsed time: 11.537\n",
      "Imputing row 2901/5910 with 1 missing, elapsed time: 11.541\n",
      "Imputing row 3001/5910 with 0 missing, elapsed time: 11.545\n",
      "Imputing row 3101/5910 with 0 missing, elapsed time: 11.548\n",
      "Imputing row 3201/5910 with 0 missing, elapsed time: 11.552\n",
      "Imputing row 3301/5910 with 4 missing, elapsed time: 11.557\n",
      "Imputing row 3401/5910 with 1 missing, elapsed time: 11.565\n",
      "Imputing row 3501/5910 with 0 missing, elapsed time: 11.569\n",
      "Imputing row 3601/5910 with 1 missing, elapsed time: 11.571\n",
      "Imputing row 3701/5910 with 0 missing, elapsed time: 11.575\n",
      "Imputing row 3801/5910 with 0 missing, elapsed time: 11.579\n",
      "Imputing row 3901/5910 with 0 missing, elapsed time: 11.584\n",
      "Imputing row 4001/5910 with 1 missing, elapsed time: 11.588\n",
      "Imputing row 4101/5910 with 0 missing, elapsed time: 11.593\n",
      "Imputing row 4201/5910 with 0 missing, elapsed time: 11.597\n",
      "Imputing row 4301/5910 with 0 missing, elapsed time: 11.602\n",
      "Imputing row 4401/5910 with 0 missing, elapsed time: 11.604\n",
      "Imputing row 4501/5910 with 1 missing, elapsed time: 11.607\n",
      "Imputing row 4601/5910 with 1 missing, elapsed time: 11.611\n",
      "Imputing row 4701/5910 with 0 missing, elapsed time: 11.614\n",
      "Imputing row 4801/5910 with 0 missing, elapsed time: 11.618\n",
      "Imputing row 4901/5910 with 0 missing, elapsed time: 11.623\n",
      "Imputing row 5001/5910 with 0 missing, elapsed time: 11.628\n",
      "Imputing row 5101/5910 with 1 missing, elapsed time: 11.632\n",
      "Imputing row 5201/5910 with 0 missing, elapsed time: 11.637\n",
      "Imputing row 5301/5910 with 0 missing, elapsed time: 11.643\n",
      "Imputing row 5401/5910 with 0 missing, elapsed time: 11.647\n",
      "Imputing row 5501/5910 with 0 missing, elapsed time: 11.652\n",
      "Imputing row 5601/5910 with 1 missing, elapsed time: 11.657\n",
      "Imputing row 5701/5910 with 5 missing, elapsed time: 11.675\n",
      "Imputing row 5801/5910 with 2 missing, elapsed time: 11.682\n",
      "Imputing row 5901/5910 with 1 missing, elapsed time: 11.689\n"
     ]
    }
   ],
   "source": [
    "X_filled_knn = KNN(k=75).fit_transform(X)"
   ]
  },
  {
   "cell_type": "code",
   "execution_count": 392,
   "metadata": {},
   "outputs": [],
   "source": [
    "#Normalization\n",
    "scaler=StandardScaler()\n",
    "X_filled_knn=scaler.fit_transform(X_filled_knn)"
   ]
  },
  {
   "cell_type": "code",
   "execution_count": 393,
   "metadata": {},
   "outputs": [],
   "source": [
    "df_KNN=pd.DataFrame(X_filled_knn,columns=X.columns)"
   ]
  },
  {
   "cell_type": "markdown",
   "metadata": {},
   "source": [
    "# Features selections "
   ]
  },
  {
   "cell_type": "code",
   "execution_count": 394,
   "metadata": {},
   "outputs": [],
   "source": [
    "corr=df_KNN.corr()"
   ]
  },
  {
   "cell_type": "code",
   "execution_count": 395,
   "metadata": {},
   "outputs": [],
   "source": [
    "corr_matrix =corr.abs()"
   ]
  },
  {
   "cell_type": "code",
   "execution_count": 396,
   "metadata": {},
   "outputs": [
    {
     "data": {
      "text/plain": [
       "<matplotlib.axes._subplots.AxesSubplot at 0x21c54d8cac8>"
      ]
     },
     "execution_count": 396,
     "metadata": {},
     "output_type": "execute_result"
    },
    {
     "data": {
      "image/png": "[encoded data removed]",
      "text/plain": [
       "<Figure size 1440x1152 with 2 Axes>"
      ]
     },
     "metadata": {},
     "output_type": "display_data"
    }
   ],
   "source": [
    "sns.set(style=\"white\")\n",
    "mask = np.zeros_like(corr_matrix, dtype=np.bool)\n",
    "mask[np.triu_indices_from(mask)] = True\n",
    "f, ax = plt.subplots(figsize=(20, 16))\n",
    "cmap = sns.diverging_palette(250, 15, as_cmap=True,s=75, l=40,sep=20)\n",
    "sns.heatmap(corr_matrix, mask=mask, cmap=cmap, vmax=1, center=0,square=True, linewidths=.5, cbar_kws={\"shrink\": .5})"
   ]
  },
  {
   "cell_type": "code",
   "execution_count": 397,
   "metadata": {},
   "outputs": [],
   "source": [
    "#filter out features that are greater than threshold\n",
    "upper = corr_matrix.where(np.triu(np.ones(corr_matrix.shape), k=1).astype(np.bool)) #upper matrix\n",
    "to_drop = [column for column in upper.columns if any(upper[column] > 0.8)]  #drop correlation >0.8\n",
    "df_important_features=df_KNN.drop(df_KNN[to_drop], axis=1)  # drop high correlated features"
   ]
  },
  {
   "cell_type": "code",
   "execution_count": 398,
   "metadata": {},
   "outputs": [
    {
     "data": {
      "text/plain": [
       "Index(['Attr1', 'Attr2', 'Attr3', 'Attr4', 'Attr5', 'Attr6', 'Attr7', 'Attr9',\n",
       "       'Attr13', 'Attr15', 'Attr19', 'Attr20', 'Attr21', 'Attr27', 'Attr28',\n",
       "       'Attr29', 'Attr30', 'Attr32', 'Attr37', 'Attr39', 'Attr41', 'Attr42',\n",
       "       'Attr43', 'Attr45', 'Attr47', 'Attr52', 'Attr55', 'Attr57', 'Attr59',\n",
       "       'Attr61'],\n",
       "      dtype='object')"
      ]
     },
     "execution_count": 398,
     "metadata": {},
     "output_type": "execute_result"
    }
   ],
   "source": [
    "df_important_features.columns"
   ]
  },
  {
   "cell_type": "markdown",
   "metadata": {},
   "source": [
    "# Handling imbalance data"
   ]
  },
  {
   "cell_type": "markdown",
   "metadata": {},
   "source": [
    "# Stratified CV and SMOTE and Data Modeling"
   ]
  },
  {
   "cell_type": "code",
   "execution_count": 399,
   "metadata": {},
   "outputs": [],
   "source": [
    "from imblearn.over_sampling import SMOTE\n",
    "sm=SMOTE(random_state=2019)\n",
    "pipe1=make_pipline_imb(SMOTE(random_state=2019),LogisticRegression(solver='lbfgs',random_state=2019)) \n",
    "skf=StratifiedKFold(n_splits=5,shuffle=True,random_state=2019)"
   ]
  },
  {
   "cell_type": "code",
   "execution_count": 400,
   "metadata": {},
   "outputs": [],
   "source": [
    "#prepare a df to metrics\n",
    "metrics=pd.DataFrame(index=['accuracy','precision','recall','f1 score'],\n",
    "                     columns=['LogisticReg','DecisionTree','SVM','RandomForest','AdaBoost','XGBoosting'])"
   ]
  },
  {
   "cell_type": "code",
   "execution_count": 401,
   "metadata": {},
   "outputs": [
    {
     "data": {
      "text/html": [
       "<div>\n",
       "<style scoped>\n",
       "    .dataframe tbody tr th:only-of-type {\n",
       "        vertical-align: middle;\n",
       "    }\n",
       "\n",
       "    .dataframe tbody tr th {\n",
       "        vertical-align: top;\n",
       "    }\n",
       "\n",
       "    .dataframe thead th {\n",
       "        text-align: right;\n",
       "    }\n",
       "</style>\n",
       "<table border=\"1\" class=\"dataframe\">\n",
       "  <thead>\n",
       "    <tr style=\"text-align: right;\">\n",
       "      <th></th>\n",
       "      <th>LogisticReg</th>\n",
       "      <th>DecisionTree</th>\n",
       "      <th>SVM</th>\n",
       "      <th>RandomForest</th>\n",
       "      <th>AdaBoost</th>\n",
       "      <th>XGBoosting</th>\n",
       "    </tr>\n",
       "  </thead>\n",
       "  <tbody>\n",
       "    <tr>\n",
       "      <th>accuracy</th>\n",
       "      <td>NaN</td>\n",
       "      <td>NaN</td>\n",
       "      <td>NaN</td>\n",
       "      <td>NaN</td>\n",
       "      <td>NaN</td>\n",
       "      <td>NaN</td>\n",
       "    </tr>\n",
       "    <tr>\n",
       "      <th>precision</th>\n",
       "      <td>NaN</td>\n",
       "      <td>NaN</td>\n",
       "      <td>NaN</td>\n",
       "      <td>NaN</td>\n",
       "      <td>NaN</td>\n",
       "      <td>NaN</td>\n",
       "    </tr>\n",
       "    <tr>\n",
       "      <th>recall</th>\n",
       "      <td>NaN</td>\n",
       "      <td>NaN</td>\n",
       "      <td>NaN</td>\n",
       "      <td>NaN</td>\n",
       "      <td>NaN</td>\n",
       "      <td>NaN</td>\n",
       "    </tr>\n",
       "    <tr>\n",
       "      <th>f1 score</th>\n",
       "      <td>NaN</td>\n",
       "      <td>NaN</td>\n",
       "      <td>NaN</td>\n",
       "      <td>NaN</td>\n",
       "      <td>NaN</td>\n",
       "      <td>NaN</td>\n",
       "    </tr>\n",
       "  </tbody>\n",
       "</table>\n",
       "</div>"
      ],
      "text/plain": [
       "          LogisticReg DecisionTree  SVM RandomForest AdaBoost XGBoosting\n",
       "accuracy          NaN          NaN  NaN          NaN      NaN        NaN\n",
       "precision         NaN          NaN  NaN          NaN      NaN        NaN\n",
       "recall            NaN          NaN  NaN          NaN      NaN        NaN\n",
       "f1 score          NaN          NaN  NaN          NaN      NaN        NaN"
      ]
     },
     "execution_count": 401,
     "metadata": {},
     "output_type": "execute_result"
    }
   ],
   "source": [
    "metrics"
   ]
  },
  {
   "cell_type": "code",
   "execution_count": 402,
   "metadata": {
    "scrolled": false
   },
   "outputs": [
    {
     "name": "stdout",
     "output_type": "stream",
     "text": [
      "############################################################\n",
      "[[873 227]\n",
      " [ 25  57]]\n",
      "accuracy score 0.7868020304568528\n",
      "              precision    recall  f1-score   support\n",
      "\n",
      "         0.0       0.97      0.79      0.87      1100\n",
      "         1.0       0.20      0.70      0.31        82\n",
      "\n",
      "    accuracy                           0.79      1182\n",
      "   macro avg       0.59      0.74      0.59      1182\n",
      "weighted avg       0.92      0.79      0.83      1182\n",
      "\n",
      "############################################################\n",
      "############################################################\n",
      "############################################################\n",
      "[[873 227]\n",
      " [ 28  54]]\n",
      "accuracy score 0.7842639593908629\n",
      "              precision    recall  f1-score   support\n",
      "\n",
      "         0.0       0.97      0.79      0.87      1100\n",
      "         1.0       0.19      0.66      0.30        82\n",
      "\n",
      "    accuracy                           0.78      1182\n",
      "   macro avg       0.58      0.73      0.59      1182\n",
      "weighted avg       0.92      0.78      0.83      1182\n",
      "\n",
      "############################################################\n",
      "############################################################\n",
      "############################################################\n",
      "[[890 210]\n",
      " [ 24  58]]\n",
      "accuracy score 0.8020304568527918\n",
      "              precision    recall  f1-score   support\n",
      "\n",
      "         0.0       0.97      0.81      0.88      1100\n",
      "         1.0       0.22      0.71      0.33        82\n",
      "\n",
      "    accuracy                           0.80      1182\n",
      "   macro avg       0.60      0.76      0.61      1182\n",
      "weighted avg       0.92      0.80      0.85      1182\n",
      "\n",
      "############################################################\n",
      "############################################################\n",
      "############################################################\n",
      "[[908 192]\n",
      " [ 32  50]]\n",
      "accuracy score 0.8104906937394247\n",
      "              precision    recall  f1-score   support\n",
      "\n",
      "         0.0       0.97      0.83      0.89      1100\n",
      "         1.0       0.21      0.61      0.31        82\n",
      "\n",
      "    accuracy                           0.81      1182\n",
      "   macro avg       0.59      0.72      0.60      1182\n",
      "weighted avg       0.91      0.81      0.85      1182\n",
      "\n",
      "############################################################\n",
      "############################################################\n",
      "############################################################\n",
      "[[873 227]\n",
      " [ 25  57]]\n",
      "accuracy score 0.7868020304568528\n",
      "              precision    recall  f1-score   support\n",
      "\n",
      "         0.0       0.97      0.79      0.87      1100\n",
      "         1.0       0.20      0.70      0.31        82\n",
      "\n",
      "    accuracy                           0.79      1182\n",
      "   macro avg       0.59      0.74      0.59      1182\n",
      "weighted avg       0.92      0.79      0.83      1182\n",
      "\n",
      "############################################################\n",
      "############################################################\n",
      "\n",
      "Logistic Regression\n",
      "Stratified Kfold score with SMOTE: \n",
      "\n",
      "Accuracy: 0.7940778341793571\n",
      "Precision: 0.2033217499810517\n",
      "Recall: 0.673170731707317\n",
      "f1: 0.31210840551327385\n"
     ]
    },
    {
     "data": {
      "image/png": "[encoded data removed]",
      "text/plain": [
       "<Figure size 432x288 with 1 Axes>"
      ]
     },
     "metadata": {},
     "output_type": "display_data"
    },
    {
     "data": {
      "image/png": "[encoded data removed]",
      "text/plain": [
       "<Figure size 432x288 with 1 Axes>"
      ]
     },
     "metadata": {},
     "output_type": "display_data"
    },
    {
     "data": {
      "image/png": "[encoded data removed]",
      "text/plain": [
       "<Figure size 432x288 with 1 Axes>"
      ]
     },
     "metadata": {},
     "output_type": "display_data"
    },
    {
     "data": {
      "image/png": "[encoded data removed]",
      "text/plain": [
       "<Figure size 432x288 with 1 Axes>"
      ]
     },
     "metadata": {},
     "output_type": "display_data"
    },
    {
     "data": {
      "image/png": "[encoded data removed]",
      "text/plain": [
       "<Figure size 432x288 with 1 Axes>"
      ]
     },
     "metadata": {},
     "output_type": "display_data"
    }
   ],
   "source": [
    "#with SMOTE\n",
    "\n",
    "#skf.get_n_splits(X,y)\n",
    "accuracy_smote=[]\n",
    "precision_smote=[]\n",
    "recall_smote=[]\n",
    "f1_smote=[]\n",
    "auc_smote=[]\n",
    "for train_index,test_index in skf.split(df_important_features,y):\n",
    "    X_train,X_test=df_important_features.iloc[train_index].values,df_important_features.iloc[test_index].values\n",
    "    y_train,y_test=y.iloc[train_index].values,y.iloc[test_index].values\n",
    "    y_train,y_test=y_train.reshape(-1,1),y_test.reshape(-1,1)\n",
    "    \n",
    "    model=pipe1.fit(X_train,y_train.ravel())\n",
    "    prediction=model.predict(X_test)\n",
    "    \n",
    "    conf_matrix=confusion_matrix(y_test,prediction)\n",
    "    print(\"#\"*60)\n",
    "    print(conf_matrix)\n",
    "    print('accuracy score',accuracy_score(y_test,prediction))\n",
    "    print(classification_report(y_test, prediction))\n",
    "    print(\"#\"*60)\n",
    "    plot_confusion_matrix(confusion_matrix(y_test, prediction),cmap='RdYlBu')\n",
    "    print(\"#\"*60)\n",
    "    \n",
    "    accuracy_smote.append(pipe1.score(X_test,y_test))\n",
    "    precision_smote.append(precision_score(y_test,prediction))\n",
    "    recall_smote.append(recall_score(y_test,prediction))\n",
    "    f1_smote.append(f1_score(y_test,prediction))\n",
    "    #auc_smote.append(roc_auc_score(y_test,prediction))\n",
    "print()\n",
    "print(\"Logistic Regression\")\n",
    "print(\"Stratified Kfold score with SMOTE: \\n\")\n",
    "print(\"Accuracy: {}\".format(np.mean(accuracy_smote)))\n",
    "print(\"Precision: {}\".format(np.mean(precision_smote)))\n",
    "print(\"Recall: {}\".format(np.mean(recall_smote)))\n",
    "print(\"f1: {}\".format(np.mean(f1_smote)))\n",
    "metrics.loc['accuracy','LogisticReg']=np.mean(accuracy_smote)\n",
    "metrics.loc['precision','LogisticReg']=np.mean(precision_smote)\n",
    "metrics.loc['recall','LogisticReg']=np.mean(recall_smote)\n",
    "metrics.loc['f1 score','LogisticReg']=np.mean(f1_smote)"
   ]
  },
  {
   "cell_type": "code",
   "execution_count": 403,
   "metadata": {},
   "outputs": [
    {
     "data": {
      "text/html": [
       "<div>\n",
       "<style scoped>\n",
       "    .dataframe tbody tr th:only-of-type {\n",
       "        vertical-align: middle;\n",
       "    }\n",
       "\n",
       "    .dataframe tbody tr th {\n",
       "        vertical-align: top;\n",
       "    }\n",
       "\n",
       "    .dataframe thead th {\n",
       "        text-align: right;\n",
       "    }\n",
       "</style>\n",
       "<table border=\"1\" class=\"dataframe\">\n",
       "  <thead>\n",
       "    <tr style=\"text-align: right;\">\n",
       "      <th></th>\n",
       "      <th>LogisticReg</th>\n",
       "      <th>DecisionTree</th>\n",
       "      <th>SVM</th>\n",
       "      <th>RandomForest</th>\n",
       "      <th>AdaBoost</th>\n",
       "      <th>XGBoosting</th>\n",
       "    </tr>\n",
       "  </thead>\n",
       "  <tbody>\n",
       "    <tr>\n",
       "      <th>accuracy</th>\n",
       "      <td>0.794078</td>\n",
       "      <td>NaN</td>\n",
       "      <td>NaN</td>\n",
       "      <td>NaN</td>\n",
       "      <td>NaN</td>\n",
       "      <td>NaN</td>\n",
       "    </tr>\n",
       "    <tr>\n",
       "      <th>precision</th>\n",
       "      <td>0.203322</td>\n",
       "      <td>NaN</td>\n",
       "      <td>NaN</td>\n",
       "      <td>NaN</td>\n",
       "      <td>NaN</td>\n",
       "      <td>NaN</td>\n",
       "    </tr>\n",
       "    <tr>\n",
       "      <th>recall</th>\n",
       "      <td>0.673171</td>\n",
       "      <td>NaN</td>\n",
       "      <td>NaN</td>\n",
       "      <td>NaN</td>\n",
       "      <td>NaN</td>\n",
       "      <td>NaN</td>\n",
       "    </tr>\n",
       "    <tr>\n",
       "      <th>f1 score</th>\n",
       "      <td>0.312108</td>\n",
       "      <td>NaN</td>\n",
       "      <td>NaN</td>\n",
       "      <td>NaN</td>\n",
       "      <td>NaN</td>\n",
       "      <td>NaN</td>\n",
       "    </tr>\n",
       "  </tbody>\n",
       "</table>\n",
       "</div>"
      ],
      "text/plain": [
       "          LogisticReg DecisionTree  SVM RandomForest AdaBoost XGBoosting\n",
       "accuracy     0.794078          NaN  NaN          NaN      NaN        NaN\n",
       "precision    0.203322          NaN  NaN          NaN      NaN        NaN\n",
       "recall       0.673171          NaN  NaN          NaN      NaN        NaN\n",
       "f1 score     0.312108          NaN  NaN          NaN      NaN        NaN"
      ]
     },
     "execution_count": 403,
     "metadata": {},
     "output_type": "execute_result"
    }
   ],
   "source": [
    "metrics"
   ]
  },
  {
   "cell_type": "code",
   "execution_count": 404,
   "metadata": {
    "scrolled": false
   },
   "outputs": [
    {
     "name": "stdout",
     "output_type": "stream",
     "text": [
      "############################################################\n",
      "[[1096    4]\n",
      " [  74    8]]\n",
      "accuracy score 0.934010152284264\n",
      "              precision    recall  f1-score   support\n",
      "\n",
      "         0.0       0.94      1.00      0.97      1100\n",
      "         1.0       0.67      0.10      0.17        82\n",
      "\n",
      "    accuracy                           0.93      1182\n",
      "   macro avg       0.80      0.55      0.57      1182\n",
      "weighted avg       0.92      0.93      0.91      1182\n",
      "\n",
      "############################################################\n",
      "############################################################\n",
      "############################################################\n",
      "[[1095    5]\n",
      " [  75    7]]\n",
      "accuracy score 0.9323181049069373\n",
      "              precision    recall  f1-score   support\n",
      "\n",
      "         0.0       0.94      1.00      0.96      1100\n",
      "         1.0       0.58      0.09      0.15        82\n",
      "\n",
      "    accuracy                           0.93      1182\n",
      "   macro avg       0.76      0.54      0.56      1182\n",
      "weighted avg       0.91      0.93      0.91      1182\n",
      "\n",
      "############################################################\n",
      "############################################################\n",
      "############################################################\n",
      "[[1096    4]\n",
      " [  79    3]]\n",
      "accuracy score 0.9297800338409475\n",
      "              precision    recall  f1-score   support\n",
      "\n",
      "         0.0       0.93      1.00      0.96      1100\n",
      "         1.0       0.43      0.04      0.07        82\n",
      "\n",
      "    accuracy                           0.93      1182\n",
      "   macro avg       0.68      0.52      0.52      1182\n",
      "weighted avg       0.90      0.93      0.90      1182\n",
      "\n",
      "############################################################\n",
      "############################################################\n",
      "############################################################\n",
      "[[1086   14]\n",
      " [  75    7]]\n",
      "accuracy score 0.9247038917089678\n",
      "              precision    recall  f1-score   support\n",
      "\n",
      "         0.0       0.94      0.99      0.96      1100\n",
      "         1.0       0.33      0.09      0.14        82\n",
      "\n",
      "    accuracy                           0.92      1182\n",
      "   macro avg       0.63      0.54      0.55      1182\n",
      "weighted avg       0.89      0.92      0.90      1182\n",
      "\n",
      "############################################################\n",
      "############################################################\n",
      "############################################################\n",
      "[[1094    6]\n",
      " [  77    5]]\n",
      "accuracy score 0.9297800338409475\n",
      "              precision    recall  f1-score   support\n",
      "\n",
      "         0.0       0.93      0.99      0.96      1100\n",
      "         1.0       0.45      0.06      0.11        82\n",
      "\n",
      "    accuracy                           0.93      1182\n",
      "   macro avg       0.69      0.53      0.54      1182\n",
      "weighted avg       0.90      0.93      0.90      1182\n",
      "\n",
      "############################################################\n",
      "############################################################\n",
      "\n",
      "Logistic Regression\n",
      "Stratified Kfold score without SMOTE: \n",
      "\n",
      "Accuracy: 0.9301184433164129\n",
      "Precision: 0.4932900432900433\n",
      "Recall: 0.07317073170731707\n",
      "f1: 0.1260027756649618\n",
      "\n"
     ]
    },
    {
     "data": {
      "image/png": "[encoded data removed]",
      "text/plain": [
       "<Figure size 432x288 with 1 Axes>"
      ]
     },
     "metadata": {},
     "output_type": "display_data"
    },
    {
     "data": {
      "image/png": "[encoded data removed]",
      "text/plain": [
       "<Figure size 432x288 with 1 Axes>"
      ]
     },
     "metadata": {},
     "output_type": "display_data"
    },
    {
     "data": {
      "image/png": "[encoded data removed]",
      "text/plain": [
       "<Figure size 432x288 with 1 Axes>"
      ]
     },
     "metadata": {},
     "output_type": "display_data"
    },
    {
     "data": {
      "image/png": "[encoded data removed]",
      "text/plain": [
       "<Figure size 432x288 with 1 Axes>"
      ]
     },
     "metadata": {},
     "output_type": "display_data"
    },
    {
     "data": {
      "image/png": "[encoded data removed]",
      "text/plain": [
       "<Figure size 432x288 with 1 Axes>"
      ]
     },
     "metadata": {},
     "output_type": "display_data"
    }
   ],
   "source": [
    "#without SMOTE\n",
    "skf=StratifiedKFold(n_splits=5,shuffle=True,random_state=2019)\n",
    "accuracy=[]\n",
    "precision=[]\n",
    "recall=[]\n",
    "f1=[]\n",
    "auc=[]\n",
    "for train_index,test_index in skf.split(df_important_features,y):\n",
    "    X_train,X_test=df_important_features.iloc[train_index].values,df_important_features.iloc[test_index].values\n",
    "    y_train,y_test=y.iloc[train_index].values,y.iloc[test_index].values\n",
    "    y_train,y_test=y_train.reshape(-1,1),y_test.reshape(-1,1)\n",
    "    \n",
    "    logreg=LogisticRegression(random_state=2019,solver='lbfgs')\n",
    "    logreg.fit(X_train,y_train.ravel())\n",
    "    prediction=logreg.predict(X_test)\n",
    "    \n",
    "    conf_matrix=confusion_matrix(y_test,prediction)\n",
    "    print(\"#\"*60)\n",
    "    print(conf_matrix)\n",
    "    print('accuracy score',accuracy_score(y_test,prediction))\n",
    "    print(classification_report(y_test, prediction))\n",
    "    print(\"#\"*60)\n",
    "    plot_confusion_matrix(confusion_matrix(y_test, prediction),cmap='RdYlBu')\n",
    "    print(\"#\"*60)\n",
    "    \n",
    "    accuracy.append(logreg.score(X_test,y_test))\n",
    "    precision.append(precision_score(y_test,prediction))\n",
    "    recall.append(recall_score(y_test,prediction))\n",
    "    f1.append(f1_score(y_test,prediction))\n",
    "    #auc.append(roc_auc_score(y_test,prediction))\n",
    "print()\n",
    "print(\"Logistic Regression\")\n",
    "print(\"Stratified Kfold score without SMOTE: \\n\")\n",
    "print(\"Accuracy: {}\".format(np.mean(accuracy)))\n",
    "print(\"Precision: {}\".format(np.mean(precision)))\n",
    "print(\"Recall: {}\".format(np.mean(recall)))\n",
    "print(\"f1: {}\".format(np.mean(f1)))\n",
    "print()"
   ]
  },
  {
   "cell_type": "markdown",
   "metadata": {},
   "source": [
    "Because the data is imbalanced, we observed poor recall score even though the accuracy is high. <br>\n",
    "As most of classification is 0, we have many False Negative label in confusion matrix, leading to poor recall score. <br>\n",
    "In contrast, we have better recall score using SMOTE (over-sampling) to re-balance the classification. <br>\n",
    "We also  would like to emphasis on \"Recall\" and \"Precision\" <br> \n",
    "Recall is an important score in predicting potential bankcrupcy . <br>  This is because people want to know how many bankcrupcy companies the model can identify given that <br>the bankcrupcy companies are known.<br>\n",
    "Precision: Given that model predict 10 firms, how many are actual bankcrupt companies.<br>\n",
    "In other words, low Precision score can make investors to miss opportunity investing in good companies\n"
   ]
  },
  {
   "cell_type": "code",
   "execution_count": 405,
   "metadata": {
    "scrolled": false
   },
   "outputs": [
    {
     "name": "stdout",
     "output_type": "stream",
     "text": [
      "############################################################\n",
      "[[928 172]\n",
      " [ 26  56]]\n",
      "accuracy score 0.8324873096446701\n",
      "              precision    recall  f1-score   support\n",
      "\n",
      "         0.0       0.97      0.84      0.90      1100\n",
      "         1.0       0.25      0.68      0.36        82\n",
      "\n",
      "    accuracy                           0.83      1182\n",
      "   macro avg       0.61      0.76      0.63      1182\n",
      "weighted avg       0.92      0.83      0.87      1182\n",
      "\n",
      "############################################################\n",
      "############################################################\n",
      "############################################################\n",
      "[[896 204]\n",
      " [ 22  60]]\n",
      "accuracy score 0.8087986463620981\n",
      "              precision    recall  f1-score   support\n",
      "\n",
      "         0.0       0.98      0.81      0.89      1100\n",
      "         1.0       0.23      0.73      0.35        82\n",
      "\n",
      "    accuracy                           0.81      1182\n",
      "   macro avg       0.60      0.77      0.62      1182\n",
      "weighted avg       0.92      0.81      0.85      1182\n",
      "\n",
      "############################################################\n",
      "############################################################\n",
      "############################################################\n",
      "[[985 115]\n",
      " [ 35  47]]\n",
      "accuracy score 0.8730964467005076\n",
      "              precision    recall  f1-score   support\n",
      "\n",
      "         0.0       0.97      0.90      0.93      1100\n",
      "         1.0       0.29      0.57      0.39        82\n",
      "\n",
      "    accuracy                           0.87      1182\n",
      "   macro avg       0.63      0.73      0.66      1182\n",
      "weighted avg       0.92      0.87      0.89      1182\n",
      "\n",
      "############################################################\n",
      "############################################################\n",
      "############################################################\n",
      "[[937 163]\n",
      " [ 24  58]]\n",
      "accuracy score 0.8417935702199661\n",
      "              precision    recall  f1-score   support\n",
      "\n",
      "         0.0       0.98      0.85      0.91      1100\n",
      "         1.0       0.26      0.71      0.38        82\n",
      "\n",
      "    accuracy                           0.84      1182\n",
      "   macro avg       0.62      0.78      0.65      1182\n",
      "weighted avg       0.93      0.84      0.87      1182\n",
      "\n",
      "############################################################\n",
      "############################################################\n",
      "############################################################\n",
      "[[897 203]\n",
      " [ 25  57]]\n",
      "accuracy score 0.8071065989847716\n",
      "              precision    recall  f1-score   support\n",
      "\n",
      "         0.0       0.97      0.82      0.89      1100\n",
      "         1.0       0.22      0.70      0.33        82\n",
      "\n",
      "    accuracy                           0.81      1182\n",
      "   macro avg       0.60      0.76      0.61      1182\n",
      "weighted avg       0.92      0.81      0.85      1182\n",
      "\n",
      "############################################################\n",
      "############################################################\n",
      "\n",
      "Decision Tree\n",
      "Stratified Kfold score with SMOTE: \n",
      "\n",
      "Accuracy: 0.8326565143824027\n",
      "Precision: 0.2489368854590733\n",
      "Recall: 0.6780487804878049\n",
      "f1: 0.3619057301260521\n"
     ]
    },
    {
     "data": {
      "image/png": "[encoded data removed]",
      "text/plain": [
       "<Figure size 432x288 with 1 Axes>"
      ]
     },
     "metadata": {},
     "output_type": "display_data"
    },
    {
     "data": {
      "image/png": "[encoded data removed]",
      "text/plain": [
       "<Figure size 432x288 with 1 Axes>"
      ]
     },
     "metadata": {},
     "output_type": "display_data"
    },
    {
     "data": {
      "image/png": "[encoded data removed]",
      "text/plain": [
       "<Figure size 432x288 with 1 Axes>"
      ]
     },
     "metadata": {},
     "output_type": "display_data"
    },
    {
     "data": {
      "image/png": "[encoded data removed]",
      "text/plain": [
       "<Figure size 432x288 with 1 Axes>"
      ]
     },
     "metadata": {},
     "output_type": "display_data"
    },
    {
     "data": {
      "image/png": "[encoded data removed]",
      "text/plain": [
       "<Figure size 432x288 with 1 Axes>"
      ]
     },
     "metadata": {},
     "output_type": "display_data"
    }
   ],
   "source": [
    "\n",
    "#SMOTE with Decision Tree\n",
    "pipe2=make_pipline_imb(SMOTE(random_state=2019),DecisionTreeClassifier(random_state=2019,max_depth=7))\n",
    "\n",
    "accuracy_DT=[]\n",
    "precision_DT=[]\n",
    "recall_DT=[]\n",
    "f1_DT=[]\n",
    "auc_DT=[]\n",
    "for train_index,test_index in skf.split(df_important_features,y):\n",
    "    X_train,X_test=df_important_features.iloc[train_index].values,df_important_features.iloc[test_index].values\n",
    "    y_train,y_test=y.iloc[train_index].values,y.iloc[test_index].values\n",
    "    y_train,y_test=y_train.reshape(-1,1),y_test.reshape(-1,1)\n",
    "    \n",
    "    #model=pipe2.fit(X_train,y_train.ravel())\n",
    "    sm = SMOTE(random_state=2019)\n",
    "    X_res, y_res = sm.fit_resample(X_train, y_train)\n",
    "    model=DecisionTreeClassifier(random_state=2019,max_depth=7)\n",
    "    model.fit(X_res,y_res)\n",
    "    prediction=model.predict(X_test)\n",
    "    \n",
    "    accuracy_DT.append(model.score(X_test,y_test))\n",
    "    precision_DT.append(precision_score(y_test,prediction))\n",
    "    recall_DT.append(recall_score(y_test,prediction))\n",
    "    f1_DT.append(f1_score(y_test,prediction))\n",
    "    auc_DT.append(roc_auc_score(y_test,prediction))\n",
    "    \n",
    "    \n",
    "    conf_matrix=confusion_matrix(y_test,prediction)\n",
    "    print(\"#\"*60)\n",
    "    print(conf_matrix)\n",
    "    print('accuracy score',accuracy_score(y_test,prediction))\n",
    "    print(classification_report(y_test, prediction))\n",
    "    print(\"#\"*60)\n",
    "    plot_confusion_matrix(confusion_matrix(y_test, prediction),cmap='RdYlBu')\n",
    "    print(\"#\"*60)\n",
    "    \n",
    "    #try to plot decision tree\n",
    "    features = list(df_important_features.columns)\n",
    "    tree.export_graphviz(model,out_file='tree.dot')\n",
    "    dot_data = StringIO() \n",
    "    tree.export_graphviz(model, out_file=dot_data)\n",
    "    export_graphviz(model, out_file=dot_data,feature_names=features,filled=True,rounded=True)\n",
    "\n",
    "    graph = pydot.graph_from_dot_data(dot_data.getvalue())\n",
    "    #graph.write_pdf(\"tree.pdf\")\n",
    "    Image(graph[0].create_png()) \n",
    "    \n",
    "print()\n",
    "print(\"Decision Tree\")\n",
    "print(\"Stratified Kfold score with SMOTE: \\n\")\n",
    "print(\"Accuracy: {}\".format(np.mean(accuracy_DT)))\n",
    "print(\"Precision: {}\".format(np.mean(precision_DT)))\n",
    "print(\"Recall: {}\".format(np.mean(recall_DT)))\n",
    "print(\"f1: {}\".format(np.mean(f1_DT)))\n",
    "metrics.loc['accuracy','DecisionTree']=np.mean(accuracy_DT)\n",
    "metrics.loc['precision','DecisionTree']=np.mean(precision_DT)\n",
    "metrics.loc['recall','DecisionTree']=np.mean(recall_DT)\n",
    "metrics.loc['f1 score','DecisionTree']=np.mean(f1_DT)"
   ]
  },
  {
   "cell_type": "code",
   "execution_count": 406,
   "metadata": {},
   "outputs": [
    {
     "data": {
      "text/html": [
       "<div>\n",
       "<style scoped>\n",
       "    .dataframe tbody tr th:only-of-type {\n",
       "        vertical-align: middle;\n",
       "    }\n",
       "\n",
       "    .dataframe tbody tr th {\n",
       "        vertical-align: top;\n",
       "    }\n",
       "\n",
       "    .dataframe thead th {\n",
       "        text-align: right;\n",
       "    }\n",
       "</style>\n",
       "<table border=\"1\" class=\"dataframe\">\n",
       "  <thead>\n",
       "    <tr style=\"text-align: right;\">\n",
       "      <th></th>\n",
       "      <th>LogisticReg</th>\n",
       "      <th>DecisionTree</th>\n",
       "      <th>SVM</th>\n",
       "      <th>RandomForest</th>\n",
       "      <th>AdaBoost</th>\n",
       "      <th>XGBoosting</th>\n",
       "    </tr>\n",
       "  </thead>\n",
       "  <tbody>\n",
       "    <tr>\n",
       "      <th>accuracy</th>\n",
       "      <td>0.794078</td>\n",
       "      <td>0.832657</td>\n",
       "      <td>NaN</td>\n",
       "      <td>NaN</td>\n",
       "      <td>NaN</td>\n",
       "      <td>NaN</td>\n",
       "    </tr>\n",
       "    <tr>\n",
       "      <th>precision</th>\n",
       "      <td>0.203322</td>\n",
       "      <td>0.248937</td>\n",
       "      <td>NaN</td>\n",
       "      <td>NaN</td>\n",
       "      <td>NaN</td>\n",
       "      <td>NaN</td>\n",
       "    </tr>\n",
       "    <tr>\n",
       "      <th>recall</th>\n",
       "      <td>0.673171</td>\n",
       "      <td>0.678049</td>\n",
       "      <td>NaN</td>\n",
       "      <td>NaN</td>\n",
       "      <td>NaN</td>\n",
       "      <td>NaN</td>\n",
       "    </tr>\n",
       "    <tr>\n",
       "      <th>f1 score</th>\n",
       "      <td>0.312108</td>\n",
       "      <td>0.361906</td>\n",
       "      <td>NaN</td>\n",
       "      <td>NaN</td>\n",
       "      <td>NaN</td>\n",
       "      <td>NaN</td>\n",
       "    </tr>\n",
       "  </tbody>\n",
       "</table>\n",
       "</div>"
      ],
      "text/plain": [
       "          LogisticReg DecisionTree  SVM RandomForest AdaBoost XGBoosting\n",
       "accuracy     0.794078     0.832657  NaN          NaN      NaN        NaN\n",
       "precision    0.203322     0.248937  NaN          NaN      NaN        NaN\n",
       "recall       0.673171     0.678049  NaN          NaN      NaN        NaN\n",
       "f1 score     0.312108     0.361906  NaN          NaN      NaN        NaN"
      ]
     },
     "execution_count": 406,
     "metadata": {},
     "output_type": "execute_result"
    }
   ],
   "source": [
    "metrics"
   ]
  },
  {
   "cell_type": "code",
   "execution_count": 407,
   "metadata": {},
   "outputs": [],
   "source": [
    "#SVM\n",
    "from sklearn.svm import SVC"
   ]
  },
  {
   "cell_type": "code",
   "execution_count": 408,
   "metadata": {
    "scrolled": false
   },
   "outputs": [
    {
     "name": "stdout",
     "output_type": "stream",
     "text": [
      "############################################################\n",
      "[[893 207]\n",
      " [ 25  57]]\n",
      "accuracy score 0.8037225042301185\n",
      "              precision    recall  f1-score   support\n",
      "\n",
      "         0.0       0.97      0.81      0.89      1100\n",
      "         1.0       0.22      0.70      0.33        82\n",
      "\n",
      "    accuracy                           0.80      1182\n",
      "   macro avg       0.59      0.75      0.61      1182\n",
      "weighted avg       0.92      0.80      0.85      1182\n",
      "\n",
      "############################################################\n",
      "############################################################\n",
      "############################################################\n",
      "[[906 194]\n",
      " [ 36  46]]\n",
      "accuracy score 0.805414551607445\n",
      "              precision    recall  f1-score   support\n",
      "\n",
      "         0.0       0.96      0.82      0.89      1100\n",
      "         1.0       0.19      0.56      0.29        82\n",
      "\n",
      "    accuracy                           0.81      1182\n",
      "   macro avg       0.58      0.69      0.59      1182\n",
      "weighted avg       0.91      0.81      0.85      1182\n",
      "\n",
      "############################################################\n",
      "############################################################\n",
      "############################################################\n",
      "[[915 185]\n",
      " [ 22  60]]\n",
      "accuracy score 0.8248730964467005\n",
      "              precision    recall  f1-score   support\n",
      "\n",
      "         0.0       0.98      0.83      0.90      1100\n",
      "         1.0       0.24      0.73      0.37        82\n",
      "\n",
      "    accuracy                           0.82      1182\n",
      "   macro avg       0.61      0.78      0.63      1182\n",
      "weighted avg       0.93      0.82      0.86      1182\n",
      "\n",
      "############################################################\n",
      "############################################################\n",
      "############################################################\n",
      "[[923 177]\n",
      " [ 29  53]]\n",
      "accuracy score 0.8257191201353637\n",
      "              precision    recall  f1-score   support\n",
      "\n",
      "         0.0       0.97      0.84      0.90      1100\n",
      "         1.0       0.23      0.65      0.34        82\n",
      "\n",
      "    accuracy                           0.83      1182\n",
      "   macro avg       0.60      0.74      0.62      1182\n",
      "weighted avg       0.92      0.83      0.86      1182\n",
      "\n",
      "############################################################\n",
      "############################################################\n",
      "############################################################\n",
      "[[891 209]\n",
      " [ 28  54]]\n",
      "accuracy score 0.799492385786802\n",
      "              precision    recall  f1-score   support\n",
      "\n",
      "         0.0       0.97      0.81      0.88      1100\n",
      "         1.0       0.21      0.66      0.31        82\n",
      "\n",
      "    accuracy                           0.80      1182\n",
      "   macro avg       0.59      0.73      0.60      1182\n",
      "weighted avg       0.92      0.80      0.84      1182\n",
      "\n",
      "############################################################\n",
      "############################################################\n",
      "\n",
      "Support Vector Machine\n",
      "Stratified Kfold score with SMOTE: \n",
      "\n",
      "Accuracy: 0.811844331641286\n",
      "Precision: 0.21764633865689528\n",
      "Recall: 0.6585365853658537\n",
      "f1: 0.3269907199138185\n"
     ]
    },
    {
     "data": {
      "image/png": "[encoded data removed]",
      "text/plain": [
       "<Figure size 432x288 with 1 Axes>"
      ]
     },
     "metadata": {},
     "output_type": "display_data"
    },
    {
     "data": {
      "image/png": "[encoded data removed]",
      "text/plain": [
       "<Figure size 432x288 with 1 Axes>"
      ]
     },
     "metadata": {},
     "output_type": "display_data"
    },
    {
     "data": {
      "image/png": "[encoded data removed]",
      "text/plain": [
       "<Figure size 432x288 with 1 Axes>"
      ]
     },
     "metadata": {},
     "output_type": "display_data"
    },
    {
     "data": {
      "image/png": "[encoded data removed]",
      "text/plain": [
       "<Figure size 432x288 with 1 Axes>"
      ]
     },
     "metadata": {},
     "output_type": "display_data"
    },
    {
     "data": {
      "image/png": "[encoded data removed]",
      "text/plain": [
       "<Figure size 432x288 with 1 Axes>"
      ]
     },
     "metadata": {},
     "output_type": "display_data"
    }
   ],
   "source": [
    "pipe4=make_pipline_imb(SMOTE(),SVC(random_state=2019,C=1))\n",
    "\n",
    "accuracy_SVC=[]\n",
    "precision_SVC=[]\n",
    "recall_SVC=[]\n",
    "f1_SVC=[]\n",
    "auc_SVC=[]\n",
    "for train_index,test_index in skf.split(df_important_features,y):\n",
    "    X_train,X_test=df_important_features.iloc[train_index].values,df_important_features.iloc[test_index].values\n",
    "    y_train,y_test=y.iloc[train_index].values,y.iloc[test_index].values\n",
    "    y_train,y_test=y_train.reshape(-1,1),y_test.reshape(-1,1)\n",
    "    \n",
    "    model=pipe4.fit(X_train,y_train.ravel())\n",
    "    prediction=model.predict(X_test)\n",
    "    \n",
    "    conf_matrix=confusion_matrix(y_test,prediction)\n",
    "    print(\"#\"*60)\n",
    "    print(conf_matrix)\n",
    "    print('accuracy score',accuracy_score(y_test,prediction))\n",
    "    print(classification_report(y_test, prediction))\n",
    "    print(\"#\"*60)\n",
    "    plot_confusion_matrix(confusion_matrix(y_test, prediction),cmap='RdYlBu')\n",
    "    print(\"#\"*60)\n",
    "    \n",
    "    accuracy_SVC.append(pipe4.score(X_test,y_test))\n",
    "    precision_SVC.append(precision_score(y_test,prediction))\n",
    "    recall_SVC.append(recall_score(y_test,prediction))\n",
    "    f1_SVC.append(f1_score(y_test,prediction))\n",
    "    #auc_NB.append(roc_auc_score(y_test,prediction))\n",
    "    \n",
    "    \n",
    "print()\n",
    "print(\"Support Vector Machine\")\n",
    "print(\"Stratified Kfold score with SMOTE: \\n\")\n",
    "print(\"Accuracy: {}\".format(np.mean(accuracy_SVC)))\n",
    "print(\"Precision: {}\".format(np.mean(precision_SVC)))\n",
    "print(\"Recall: {}\".format(np.mean(recall_SVC)))\n",
    "print(\"f1: {}\".format(np.mean(f1_SVC)))\n",
    "metrics.loc['accuracy','SVM']=np.mean(accuracy_SVC)\n",
    "metrics.loc['precision','SVM']=np.mean(precision_SVC)\n",
    "metrics.loc['recall','SVM']=np.mean(recall_SVC)\n",
    "metrics.loc['f1 score','SVM']=np.mean(f1_SVC)"
   ]
  },
  {
   "cell_type": "code",
   "execution_count": 409,
   "metadata": {},
   "outputs": [
    {
     "data": {
      "text/html": [
       "<div>\n",
       "<style scoped>\n",
       "    .dataframe tbody tr th:only-of-type {\n",
       "        vertical-align: middle;\n",
       "    }\n",
       "\n",
       "    .dataframe tbody tr th {\n",
       "        vertical-align: top;\n",
       "    }\n",
       "\n",
       "    .dataframe thead th {\n",
       "        text-align: right;\n",
       "    }\n",
       "</style>\n",
       "<table border=\"1\" class=\"dataframe\">\n",
       "  <thead>\n",
       "    <tr style=\"text-align: right;\">\n",
       "      <th></th>\n",
       "      <th>LogisticReg</th>\n",
       "      <th>DecisionTree</th>\n",
       "      <th>SVM</th>\n",
       "      <th>RandomForest</th>\n",
       "      <th>AdaBoost</th>\n",
       "      <th>XGBoosting</th>\n",
       "    </tr>\n",
       "  </thead>\n",
       "  <tbody>\n",
       "    <tr>\n",
       "      <th>accuracy</th>\n",
       "      <td>0.794078</td>\n",
       "      <td>0.832657</td>\n",
       "      <td>0.811844</td>\n",
       "      <td>NaN</td>\n",
       "      <td>NaN</td>\n",
       "      <td>NaN</td>\n",
       "    </tr>\n",
       "    <tr>\n",
       "      <th>precision</th>\n",
       "      <td>0.203322</td>\n",
       "      <td>0.248937</td>\n",
       "      <td>0.217646</td>\n",
       "      <td>NaN</td>\n",
       "      <td>NaN</td>\n",
       "      <td>NaN</td>\n",
       "    </tr>\n",
       "    <tr>\n",
       "      <th>recall</th>\n",
       "      <td>0.673171</td>\n",
       "      <td>0.678049</td>\n",
       "      <td>0.658537</td>\n",
       "      <td>NaN</td>\n",
       "      <td>NaN</td>\n",
       "      <td>NaN</td>\n",
       "    </tr>\n",
       "    <tr>\n",
       "      <th>f1 score</th>\n",
       "      <td>0.312108</td>\n",
       "      <td>0.361906</td>\n",
       "      <td>0.326991</td>\n",
       "      <td>NaN</td>\n",
       "      <td>NaN</td>\n",
       "      <td>NaN</td>\n",
       "    </tr>\n",
       "  </tbody>\n",
       "</table>\n",
       "</div>"
      ],
      "text/plain": [
       "          LogisticReg DecisionTree       SVM RandomForest AdaBoost XGBoosting\n",
       "accuracy     0.794078     0.832657  0.811844          NaN      NaN        NaN\n",
       "precision    0.203322     0.248937  0.217646          NaN      NaN        NaN\n",
       "recall       0.673171     0.678049  0.658537          NaN      NaN        NaN\n",
       "f1 score     0.312108     0.361906  0.326991          NaN      NaN        NaN"
      ]
     },
     "execution_count": 409,
     "metadata": {},
     "output_type": "execute_result"
    }
   ],
   "source": [
    "metrics"
   ]
  },
  {
   "cell_type": "markdown",
   "metadata": {},
   "source": [
    "# Ensemble "
   ]
  },
  {
   "cell_type": "markdown",
   "metadata": {},
   "source": [
    "# RandomForest Classifier"
   ]
  },
  {
   "cell_type": "code",
   "execution_count": 410,
   "metadata": {},
   "outputs": [],
   "source": [
    "from sklearn.ensemble import RandomForestClassifier"
   ]
  },
  {
   "cell_type": "code",
   "execution_count": 411,
   "metadata": {},
   "outputs": [],
   "source": [
    "RF = RandomForestClassifier(random_state=2019)"
   ]
  },
  {
   "cell_type": "code",
   "execution_count": 412,
   "metadata": {},
   "outputs": [],
   "source": [
    "pipe5=make_pipline_imb(SMOTE(),RF)"
   ]
  },
  {
   "cell_type": "code",
   "execution_count": 413,
   "metadata": {
    "scrolled": false
   },
   "outputs": [
    {
     "name": "stdout",
     "output_type": "stream",
     "text": [
      "############################################################\n",
      "[[1040   60]\n",
      " [  40   42]]\n",
      "accuracy score 0.9153976311336718\n",
      "              precision    recall  f1-score   support\n",
      "\n",
      "         0.0       0.96      0.95      0.95      1100\n",
      "         1.0       0.41      0.51      0.46        82\n",
      "\n",
      "    accuracy                           0.92      1182\n",
      "   macro avg       0.69      0.73      0.71      1182\n",
      "weighted avg       0.92      0.92      0.92      1182\n",
      "\n",
      "############################################################\n",
      "############################################################\n",
      "############################################################\n",
      "[[1043   57]\n",
      " [  39   43]]\n",
      "accuracy score 0.9187817258883249\n",
      "              precision    recall  f1-score   support\n",
      "\n",
      "         0.0       0.96      0.95      0.96      1100\n",
      "         1.0       0.43      0.52      0.47        82\n",
      "\n",
      "    accuracy                           0.92      1182\n",
      "   macro avg       0.70      0.74      0.71      1182\n",
      "weighted avg       0.93      0.92      0.92      1182\n",
      "\n",
      "############################################################\n",
      "############################################################\n",
      "############################################################\n",
      "[[1045   55]\n",
      " [  50   32]]\n",
      "accuracy score 0.9111675126903553\n",
      "              precision    recall  f1-score   support\n",
      "\n",
      "         0.0       0.95      0.95      0.95      1100\n",
      "         1.0       0.37      0.39      0.38        82\n",
      "\n",
      "    accuracy                           0.91      1182\n",
      "   macro avg       0.66      0.67      0.67      1182\n",
      "weighted avg       0.91      0.91      0.91      1182\n",
      "\n",
      "############################################################\n",
      "############################################################\n",
      "############################################################\n",
      "[[1039   61]\n",
      " [  42   40]]\n",
      "accuracy score 0.9128595600676819\n",
      "              precision    recall  f1-score   support\n",
      "\n",
      "         0.0       0.96      0.94      0.95      1100\n",
      "         1.0       0.40      0.49      0.44        82\n",
      "\n",
      "    accuracy                           0.91      1182\n",
      "   macro avg       0.68      0.72      0.69      1182\n",
      "weighted avg       0.92      0.91      0.92      1182\n",
      "\n",
      "############################################################\n",
      "############################################################\n",
      "############################################################\n",
      "[[1032   68]\n",
      " [  39   43]]\n",
      "accuracy score 0.9094754653130288\n",
      "              precision    recall  f1-score   support\n",
      "\n",
      "         0.0       0.96      0.94      0.95      1100\n",
      "         1.0       0.39      0.52      0.45        82\n",
      "\n",
      "    accuracy                           0.91      1182\n",
      "   macro avg       0.68      0.73      0.70      1182\n",
      "weighted avg       0.92      0.91      0.92      1182\n",
      "\n",
      "############################################################\n",
      "############################################################\n",
      "\n",
      "Voting Classifier\n",
      "Stratified Kfold score with SMOTE: \n",
      "\n",
      "Accuracy: 0.9135363790186124\n",
      "Precision: 0.3986015578368319\n",
      "Recall: 0.4878048780487805\n",
      "f1: 0.43810035227552263\n"
     ]
    },
    {
     "data": {
      "image/png": "[encoded data removed]",
      "text/plain": [
       "<Figure size 432x288 with 1 Axes>"
      ]
     },
     "metadata": {},
     "output_type": "display_data"
    },
    {
     "data": {
      "image/png": "[encoded data removed]",
      "text/plain": [
       "<Figure size 432x288 with 1 Axes>"
      ]
     },
     "metadata": {},
     "output_type": "display_data"
    },
    {
     "data": {
      "image/png": "[encoded data removed]",
      "text/plain": [
       "<Figure size 432x288 with 1 Axes>"
      ]
     },
     "metadata": {},
     "output_type": "display_data"
    },
    {
     "data": {
      "image/png": "[encoded data removed]",
      "text/plain": [
       "<Figure size 432x288 with 1 Axes>"
      ]
     },
     "metadata": {},
     "output_type": "display_data"
    },
    {
     "data": {
      "image/png": "[encoded data removed]",
      "text/plain": [
       "<Figure size 432x288 with 1 Axes>"
      ]
     },
     "metadata": {},
     "output_type": "display_data"
    }
   ],
   "source": [
    "accuracy_RF=[]\n",
    "precision_RF=[]\n",
    "recall_RF=[]\n",
    "f1_RF=[]\n",
    "auc_RF=[]\n",
    "for train_index,test_index in skf.split(df_important_features,y):\n",
    "    X_train,X_test=df_important_features.iloc[train_index].values,df_important_features.iloc[test_index].values\n",
    "    y_train,y_test=y.iloc[train_index].values,y.iloc[test_index].values\n",
    "    y_train,y_test=y_train.reshape(-1,1),y_test.reshape(-1,1)\n",
    "    \n",
    "    model=pipe5.fit(X_train,y_train.ravel())\n",
    "    prediction=model.predict(X_test)\n",
    "    \n",
    "    conf_matrix=confusion_matrix(y_test,prediction)\n",
    "    print(\"#\"*60)\n",
    "    print(conf_matrix)\n",
    "    print('accuracy score',accuracy_score(y_test,prediction))\n",
    "    print(classification_report(y_test, prediction))\n",
    "    print(\"#\"*60)\n",
    "    plot_confusion_matrix(confusion_matrix(y_test, prediction),cmap='RdYlBu')\n",
    "    print(\"#\"*60)\n",
    "    accuracy_RF.append(pipe5.score(X_test,y_test))\n",
    "    precision_RF.append(precision_score(y_test,prediction))\n",
    "    recall_RF.append(recall_score(y_test,prediction))\n",
    "    f1_RF.append(f1_score(y_test,prediction))\n",
    "    #auc_NB.append(roc_auc_score(y_test,prediction))\n",
    "    \n",
    "    \n",
    "print()\n",
    "print(\"Voting Classifier\")\n",
    "print(\"Stratified Kfold score with SMOTE: \\n\")\n",
    "print(\"Accuracy: {}\".format(np.mean(accuracy_RF)))\n",
    "print(\"Precision: {}\".format(np.mean(precision_RF)))\n",
    "print(\"Recall: {}\".format(np.mean(recall_RF)))\n",
    "print(\"f1: {}\".format(np.mean(f1_RF)))\n",
    "metrics.loc['accuracy','RandomForest']=np.mean(accuracy_RF)\n",
    "metrics.loc['precision','RandomForest']=np.mean(precision_RF)\n",
    "metrics.loc['recall','RandomForest']=np.mean(recall_RF)\n",
    "metrics.loc['f1 score','RandomForest']=np.mean(f1_RF)"
   ]
  },
  {
   "cell_type": "code",
   "execution_count": 414,
   "metadata": {},
   "outputs": [
    {
     "data": {
      "text/html": [
       "<div>\n",
       "<style scoped>\n",
       "    .dataframe tbody tr th:only-of-type {\n",
       "        vertical-align: middle;\n",
       "    }\n",
       "\n",
       "    .dataframe tbody tr th {\n",
       "        vertical-align: top;\n",
       "    }\n",
       "\n",
       "    .dataframe thead th {\n",
       "        text-align: right;\n",
       "    }\n",
       "</style>\n",
       "<table border=\"1\" class=\"dataframe\">\n",
       "  <thead>\n",
       "    <tr style=\"text-align: right;\">\n",
       "      <th></th>\n",
       "      <th>LogisticReg</th>\n",
       "      <th>DecisionTree</th>\n",
       "      <th>SVM</th>\n",
       "      <th>RandomForest</th>\n",
       "      <th>AdaBoost</th>\n",
       "      <th>XGBoosting</th>\n",
       "    </tr>\n",
       "  </thead>\n",
       "  <tbody>\n",
       "    <tr>\n",
       "      <th>accuracy</th>\n",
       "      <td>0.794078</td>\n",
       "      <td>0.832657</td>\n",
       "      <td>0.811844</td>\n",
       "      <td>0.913536</td>\n",
       "      <td>NaN</td>\n",
       "      <td>NaN</td>\n",
       "    </tr>\n",
       "    <tr>\n",
       "      <th>precision</th>\n",
       "      <td>0.203322</td>\n",
       "      <td>0.248937</td>\n",
       "      <td>0.217646</td>\n",
       "      <td>0.398602</td>\n",
       "      <td>NaN</td>\n",
       "      <td>NaN</td>\n",
       "    </tr>\n",
       "    <tr>\n",
       "      <th>recall</th>\n",
       "      <td>0.673171</td>\n",
       "      <td>0.678049</td>\n",
       "      <td>0.658537</td>\n",
       "      <td>0.487805</td>\n",
       "      <td>NaN</td>\n",
       "      <td>NaN</td>\n",
       "    </tr>\n",
       "    <tr>\n",
       "      <th>f1 score</th>\n",
       "      <td>0.312108</td>\n",
       "      <td>0.361906</td>\n",
       "      <td>0.326991</td>\n",
       "      <td>0.4381</td>\n",
       "      <td>NaN</td>\n",
       "      <td>NaN</td>\n",
       "    </tr>\n",
       "  </tbody>\n",
       "</table>\n",
       "</div>"
      ],
      "text/plain": [
       "          LogisticReg DecisionTree       SVM RandomForest AdaBoost XGBoosting\n",
       "accuracy     0.794078     0.832657  0.811844     0.913536      NaN        NaN\n",
       "precision    0.203322     0.248937  0.217646     0.398602      NaN        NaN\n",
       "recall       0.673171     0.678049  0.658537     0.487805      NaN        NaN\n",
       "f1 score     0.312108     0.361906  0.326991       0.4381      NaN        NaN"
      ]
     },
     "execution_count": 414,
     "metadata": {},
     "output_type": "execute_result"
    }
   ],
   "source": [
    "metrics"
   ]
  },
  {
   "cell_type": "markdown",
   "metadata": {},
   "source": [
    "# AdaBoost"
   ]
  },
  {
   "cell_type": "code",
   "execution_count": 415,
   "metadata": {},
   "outputs": [],
   "source": [
    "from sklearn.ensemble import AdaBoostClassifier"
   ]
  },
  {
   "cell_type": "code",
   "execution_count": 416,
   "metadata": {},
   "outputs": [],
   "source": [
    "pipe_AdaBoost=make_pipline_imb(SMOTE(),AdaBoostClassifier(n_estimators=50))"
   ]
  },
  {
   "cell_type": "code",
   "execution_count": 417,
   "metadata": {
    "scrolled": false
   },
   "outputs": [
    {
     "name": "stdout",
     "output_type": "stream",
     "text": [
      "############################################################\n",
      "[[936 164]\n",
      " [ 22  60]]\n",
      "accuracy score 0.8426395939086294\n",
      "              precision    recall  f1-score   support\n",
      "\n",
      "         0.0       0.98      0.85      0.91      1100\n",
      "         1.0       0.27      0.73      0.39        82\n",
      "\n",
      "    accuracy                           0.84      1182\n",
      "   macro avg       0.62      0.79      0.65      1182\n",
      "weighted avg       0.93      0.84      0.87      1182\n",
      "\n",
      "############################################################\n",
      "############################################################\n",
      "############################################################\n",
      "[[974 126]\n",
      " [ 25  57]]\n",
      "accuracy score 0.8722504230118443\n",
      "              precision    recall  f1-score   support\n",
      "\n",
      "         0.0       0.97      0.89      0.93      1100\n",
      "         1.0       0.31      0.70      0.43        82\n",
      "\n",
      "    accuracy                           0.87      1182\n",
      "   macro avg       0.64      0.79      0.68      1182\n",
      "weighted avg       0.93      0.87      0.89      1182\n",
      "\n",
      "############################################################\n",
      "############################################################\n",
      "############################################################\n",
      "[[981 119]\n",
      " [ 31  51]]\n",
      "accuracy score 0.8730964467005076\n",
      "              precision    recall  f1-score   support\n",
      "\n",
      "         0.0       0.97      0.89      0.93      1100\n",
      "         1.0       0.30      0.62      0.40        82\n",
      "\n",
      "    accuracy                           0.87      1182\n",
      "   macro avg       0.63      0.76      0.67      1182\n",
      "weighted avg       0.92      0.87      0.89      1182\n",
      "\n",
      "############################################################\n",
      "############################################################\n",
      "############################################################\n",
      "[[965 135]\n",
      " [ 27  55]]\n",
      "accuracy score 0.8629441624365483\n",
      "              precision    recall  f1-score   support\n",
      "\n",
      "         0.0       0.97      0.88      0.92      1100\n",
      "         1.0       0.29      0.67      0.40        82\n",
      "\n",
      "    accuracy                           0.86      1182\n",
      "   macro avg       0.63      0.77      0.66      1182\n",
      "weighted avg       0.93      0.86      0.89      1182\n",
      "\n",
      "############################################################\n",
      "############################################################\n",
      "############################################################\n",
      "[[948 152]\n",
      " [ 31  51]]\n",
      "accuracy score 0.8451776649746193\n",
      "              precision    recall  f1-score   support\n",
      "\n",
      "         0.0       0.97      0.86      0.91      1100\n",
      "         1.0       0.25      0.62      0.36        82\n",
      "\n",
      "    accuracy                           0.85      1182\n",
      "   macro avg       0.61      0.74      0.63      1182\n",
      "weighted avg       0.92      0.85      0.87      1182\n",
      "\n",
      "############################################################\n",
      "############################################################\n",
      "\n",
      "Voting Classifier\n",
      "Stratified Kfold score with SMOTE: \n",
      "\n",
      "Accuracy: 0.8780033840947545\n",
      "Precision: 0.3186674748137869\n",
      "Recall: 0.6560975609756098\n",
      "f1: 0.4280416016850017\n"
     ]
    },
    {
     "data": {
      "image/png": "[encoded data removed]",
      "text/plain": [
       "<Figure size 432x288 with 1 Axes>"
      ]
     },
     "metadata": {},
     "output_type": "display_data"
    },
    {
     "data": {
      "image/png": "[encoded data removed]",
      "text/plain": [
       "<Figure size 432x288 with 1 Axes>"
      ]
     },
     "metadata": {},
     "output_type": "display_data"
    },
    {
     "data": {
      "image/png": "[encoded data removed]",
      "text/plain": [
       "<Figure size 432x288 with 1 Axes>"
      ]
     },
     "metadata": {},
     "output_type": "display_data"
    },
    {
     "data": {
      "image/png": "[encoded data removed]",
      "text/plain": [
       "<Figure size 432x288 with 1 Axes>"
      ]
     },
     "metadata": {},
     "output_type": "display_data"
    },
    {
     "data": {
      "image/png": "[encoded data removed]",
      "text/plain": [
       "<Figure size 432x288 with 1 Axes>"
      ]
     },
     "metadata": {},
     "output_type": "display_data"
    }
   ],
   "source": [
    "accuracy_AdaBoost=[]\n",
    "precision_AdaBoost=[]\n",
    "recall_AdaBoost=[]\n",
    "f1_AdaBoost=[]\n",
    "auc_AdaBoost=[]\n",
    "for train_index,test_index in skf.split(df_important_features,y):\n",
    "    X_train,X_test=df_important_features.iloc[train_index].values,df_important_features.iloc[test_index].values\n",
    "    y_train,y_test=y.iloc[train_index].values,y.iloc[test_index].values\n",
    "    y_train,y_test=y_train.reshape(-1,1),y_test.reshape(-1,1)\n",
    "    \n",
    "    model=pipe_AdaBoost.fit(X_train,y_train.ravel())\n",
    "    prediction=model.predict(X_test)\n",
    "    \n",
    "    conf_matrix=confusion_matrix(y_test,prediction)\n",
    "    print(\"#\"*60)\n",
    "    print(conf_matrix)\n",
    "    print('accuracy score',accuracy_score(y_test,prediction))\n",
    "    print(classification_report(y_test, prediction))\n",
    "    print(\"#\"*60)\n",
    "    plot_confusion_matrix(confusion_matrix(y_test, prediction),cmap='RdYlBu')\n",
    "    print(\"#\"*60)\n",
    "    \n",
    "    accuracy_AdaBoost.append(pipe_AdaBoost.score(X_test,y_test))\n",
    "    precision_AdaBoost.append(precision_score(y_test,prediction))\n",
    "    recall_AdaBoost.append(recall_score(y_test,prediction))\n",
    "    f1_AdaBoost.append(f1_score(y_test,prediction))\n",
    "    #auc_AdaBoost.append(roc_auc_score(y_test,prediction))\n",
    "    \n",
    "    \n",
    "print()\n",
    "print(\"Voting Classifier\")\n",
    "print(\"Stratified Kfold score with SMOTE: \\n\")\n",
    "print(\"Accuracy: {}\".format(np.mean(accuracy_xgb)))\n",
    "print(\"Precision: {}\".format(np.mean(precision_xgb)))\n",
    "print(\"Recall: {}\".format(np.mean(recall_xgb)))\n",
    "print(\"f1: {}\".format(np.mean(f1_xgb)))\n",
    "metrics.loc['accuracy','AdaBoost']=np.mean(accuracy_AdaBoost)\n",
    "metrics.loc['precision','AdaBoost']=np.mean(precision_AdaBoost)\n",
    "metrics.loc['recall','AdaBoost']=np.mean(recall_AdaBoost)\n",
    "metrics.loc['f1 score','AdaBoost']=np.mean(f1_AdaBoost)"
   ]
  },
  {
   "cell_type": "code",
   "execution_count": null,
   "metadata": {},
   "outputs": [],
   "source": []
  },
  {
   "cell_type": "markdown",
   "metadata": {},
   "source": [
    "# XGBoost (Extreme Gradient Boosting)"
   ]
  },
  {
   "cell_type": "code",
   "execution_count": 419,
   "metadata": {},
   "outputs": [],
   "source": [
    "#XGBoost can handle missing values ???"
   ]
  },
  {
   "cell_type": "code",
   "execution_count": 420,
   "metadata": {},
   "outputs": [],
   "source": [
    "from xgboost import XGBClassifier\n",
    "from xgboost import plot_tree"
   ]
  },
  {
   "cell_type": "code",
   "execution_count": 421,
   "metadata": {},
   "outputs": [],
   "source": [
    "xgb = XGBClassifier(max_depth=3)"
   ]
  },
  {
   "cell_type": "code",
   "execution_count": 422,
   "metadata": {},
   "outputs": [],
   "source": [
    "pipe_xgb=make_pipline_imb(SMOTE(),xgb)"
   ]
  },
  {
   "cell_type": "code",
   "execution_count": 423,
   "metadata": {
    "scrolled": false
   },
   "outputs": [
    {
     "name": "stdout",
     "output_type": "stream",
     "text": [
      "############################################################\n",
      "[[977 123]\n",
      " [ 24  58]]\n",
      "accuracy score 0.8756345177664975\n",
      "              precision    recall  f1-score   support\n",
      "\n",
      "         0.0       0.98      0.89      0.93      1100\n",
      "         1.0       0.32      0.71      0.44        82\n",
      "\n",
      "    accuracy                           0.88      1182\n",
      "   macro avg       0.65      0.80      0.69      1182\n",
      "weighted avg       0.93      0.88      0.90      1182\n",
      "\n",
      "############################################################\n",
      "############################################################\n",
      "############################################################\n",
      "[[1001   99]\n",
      " [  26   56]]\n",
      "accuracy score 0.8942470389170897\n",
      "              precision    recall  f1-score   support\n",
      "\n",
      "         0.0       0.97      0.91      0.94      1100\n",
      "         1.0       0.36      0.68      0.47        82\n",
      "\n",
      "    accuracy                           0.89      1182\n",
      "   macro avg       0.67      0.80      0.71      1182\n",
      "weighted avg       0.93      0.89      0.91      1182\n",
      "\n",
      "############################################################\n",
      "############################################################\n",
      "############################################################\n",
      "[[1002   98]\n",
      " [  35   47]]\n",
      "accuracy score 0.8874788494077834\n",
      "              precision    recall  f1-score   support\n",
      "\n",
      "         0.0       0.97      0.91      0.94      1100\n",
      "         1.0       0.32      0.57      0.41        82\n",
      "\n",
      "    accuracy                           0.89      1182\n",
      "   macro avg       0.65      0.74      0.68      1182\n",
      "weighted avg       0.92      0.89      0.90      1182\n",
      "\n",
      "############################################################\n",
      "############################################################\n",
      "############################################################\n",
      "[[965 135]\n",
      " [ 30  52]]\n",
      "accuracy score 0.8604060913705583\n",
      "              precision    recall  f1-score   support\n",
      "\n",
      "         0.0       0.97      0.88      0.92      1100\n",
      "         1.0       0.28      0.63      0.39        82\n",
      "\n",
      "    accuracy                           0.86      1182\n",
      "   macro avg       0.62      0.76      0.65      1182\n",
      "weighted avg       0.92      0.86      0.88      1182\n",
      "\n",
      "############################################################\n",
      "############################################################\n",
      "############################################################\n",
      "[[975 125]\n",
      " [ 26  56]]\n",
      "accuracy score 0.8722504230118443\n",
      "              precision    recall  f1-score   support\n",
      "\n",
      "         0.0       0.97      0.89      0.93      1100\n",
      "         1.0       0.31      0.68      0.43        82\n",
      "\n",
      "    accuracy                           0.87      1182\n",
      "   macro avg       0.64      0.78      0.68      1182\n",
      "weighted avg       0.93      0.87      0.89      1182\n",
      "\n",
      "############################################################\n",
      "############################################################\n",
      "\n",
      "Voting Classifier\n",
      "Stratified Kfold score with SMOTE: \n",
      "\n",
      "Accuracy: 0.8780033840947545\n",
      "Precision: 0.3186674748137869\n",
      "Recall: 0.6560975609756098\n",
      "f1: 0.4280416016850017\n"
     ]
    },
    {
     "data": {
      "image/png": "[encoded data removed]",
      "text/plain": [
       "<Figure size 432x288 with 1 Axes>"
      ]
     },
     "metadata": {},
     "output_type": "display_data"
    },
    {
     "data": {
      "image/png": "[encoded data removed]",
      "text/plain": [
       "<Figure size 432x288 with 1 Axes>"
      ]
     },
     "metadata": {},
     "output_type": "display_data"
    },
    {
     "data": {
      "image/png": "[encoded data removed]",
      "text/plain": [
       "<Figure size 432x288 with 1 Axes>"
      ]
     },
     "metadata": {},
     "output_type": "display_data"
    },
    {
     "data": {
      "image/png": "[encoded data removed]",
      "text/plain": [
       "<Figure size 432x288 with 1 Axes>"
      ]
     },
     "metadata": {},
     "output_type": "display_data"
    },
    {
     "data": {
      "image/png": "[encoded data removed]",
      "text/plain": [
       "<Figure size 432x288 with 1 Axes>"
      ]
     },
     "metadata": {},
     "output_type": "display_data"
    }
   ],
   "source": [
    "accuracy_xgb=[]\n",
    "precision_xgb=[]\n",
    "recall_xgb=[]\n",
    "f1_xgb=[]\n",
    "auc_xgb=[]\n",
    "for train_index,test_index in skf.split(df_important_features,y):\n",
    "    X_train,X_test=df_important_features.iloc[train_index].values,df_important_features.iloc[test_index].values\n",
    "    y_train,y_test=y.iloc[train_index].values,y.iloc[test_index].values\n",
    "    y_train,y_test=y_train.reshape(-1,1),y_test.reshape(-1,1)\n",
    "    \n",
    "    sm = SMOTE(random_state=2019)\n",
    "    X_res, y_res = sm.fit_resample(X_train, y_train)\n",
    "    model=xgb\n",
    "    model.fit(X_res,y_res)\n",
    "    prediction=model.predict(X_test)\n",
    "    \n",
    "    conf_matrix=confusion_matrix(y_test,prediction)\n",
    "    print(\"#\"*60)\n",
    "    print(conf_matrix)\n",
    "    print('accuracy score',accuracy_score(y_test,prediction))\n",
    "    print(classification_report(y_test, prediction))\n",
    "    print(\"#\"*60)\n",
    "    plot_confusion_matrix(confusion_matrix(y_test, prediction),cmap='RdYlBu')\n",
    "    print(\"#\"*60)\n",
    "    \n",
    "    #fig, ax = plt.subplots(figsize=(30, 30))\n",
    "    #plot_tree(model, num_trees=3, ax=ax)\n",
    "    #plt.show()\n",
    "    \n",
    "    accuracy_xgb.append(pipe_xgb.score(X_test,y_test))\n",
    "    precision_xgb.append(precision_score(y_test,prediction))\n",
    "    recall_xgb.append(recall_score(y_test,prediction))\n",
    "    f1_xgb.append(f1_score(y_test,prediction))\n",
    "    #auc_NB.append(roc_auc_score(y_test,prediction))\n",
    "    \n",
    "    \n",
    "print()\n",
    "print(\"Voting Classifier\")\n",
    "print(\"Stratified Kfold score with SMOTE: \\n\")\n",
    "print(\"Accuracy: {}\".format(np.mean(accuracy_xgb)))\n",
    "print(\"Precision: {}\".format(np.mean(precision_xgb)))\n",
    "print(\"Recall: {}\".format(np.mean(recall_xgb)))\n",
    "print(\"f1: {}\".format(np.mean(f1_xgb)))\n",
    "metrics.loc['accuracy','XGBoosting']=np.mean(accuracy_xgb)\n",
    "metrics.loc['precision','XGBoosting']=np.mean(precision_xgb)\n",
    "metrics.loc['recall','XGBoosting']=np.mean(recall_xgb)\n",
    "metrics.loc['f1 score','XGBoosting']=np.mean(f1_xgb)"
   ]
  },
  {
   "cell_type": "code",
   "execution_count": 424,
   "metadata": {},
   "outputs": [
    {
     "data": {
      "image/png": "[encoded data removed]",
      "text/plain": [
       "<Figure size 720x576 with 1 Axes>"
      ]
     },
     "metadata": {},
     "output_type": "display_data"
    }
   ],
   "source": [
    "fig,ax=plt.subplots(figsize=(10,8))\n",
    "metrics.plot(kind='barh',ax=ax)\n",
    "ax.grid()"
   ]
  },
  {
   "cell_type": "markdown",
   "metadata": {},
   "source": [
    "# Tuning using GridSearchCV"
   ]
  },
  {
   "cell_type": "code",
   "execution_count": null,
   "metadata": {},
   "outputs": [],
   "source": [
    "from imblearn.pipeline import Pipeline\n",
    "from sklearn.model_selection import GridSearchCV"
   ]
  },
  {
   "cell_type": "code",
   "execution_count": 430,
   "metadata": {},
   "outputs": [],
   "source": [
    "X=df_important_features\n",
    "y=df['class']"
   ]
  },
  {
   "cell_type": "markdown",
   "metadata": {},
   "source": [
    "# Logistic Regression Tuning"
   ]
  },
  {
   "cell_type": "code",
   "execution_count": 338,
   "metadata": {},
   "outputs": [],
   "source": [
    "LogReg_model = Pipeline([('smt',SMOTE(random_state=2019)),\n",
    "        \n",
    "                ('classifier', LogisticRegression(random_state=2019))\n",
    "                 ])\n",
    "\n",
    "\n",
    "LogReg_param_grid = [{'classifier__C':[ 0.001, 0.01, 0.1,1,10],\n",
    "                'classifier__class_weight':[{0:0.01, 1:0.99}, {0:0.80, 1:0.20},{0:0.20, 1:0.80},{0:1, 1:20}]}]\n",
    "\n",
    "LogReg_grid = GridSearchCV(estimator=LogReg_model,param_grid=LogReg_param_grid,cv=5,scoring='f1')\n"
   ]
  },
  {
   "cell_type": "code",
   "execution_count": 339,
   "metadata": {
    "scrolled": false
   },
   "outputs": [],
   "source": [
    "LogReg_GSC=LogReg_grid.fit(X=X,y=y)"
   ]
  },
  {
   "cell_type": "code",
   "execution_count": 340,
   "metadata": {},
   "outputs": [
    {
     "data": {
      "text/plain": [
       "0.30490210024784165"
      ]
     },
     "execution_count": 340,
     "metadata": {},
     "output_type": "execute_result"
    }
   ],
   "source": [
    "LogReg_GSC.best_score_"
   ]
  },
  {
   "cell_type": "code",
   "execution_count": 341,
   "metadata": {},
   "outputs": [
    {
     "data": {
      "text/plain": [
       "{'classifier__C': 10, 'classifier__class_weight': {0: 0.8, 1: 0.2}}"
      ]
     },
     "execution_count": 341,
     "metadata": {},
     "output_type": "execute_result"
    }
   ],
   "source": [
    "LogReg_GSC.best_params_"
   ]
  },
  {
   "cell_type": "markdown",
   "metadata": {},
   "source": [
    "# Decision Tree Tuning"
   ]
  },
  {
   "cell_type": "code",
   "execution_count": 343,
   "metadata": {
    "scrolled": false
   },
   "outputs": [],
   "source": [
    "DT_model = Pipeline([('smt',SMOTE(random_state=2019)),\n",
    "        \n",
    "                ('classifier', DecisionTreeClassifier(random_state=2019))\n",
    "                 ])\n",
    "\n",
    "\n",
    "DT_param_grid = [{'classifier__max_depth':np.arange(5,25,1),\n",
    "                'classifier__class_weight':[{0:0.01, 1:0.99}, {0:0.80, 1:0.20},{0:0.20, 1:0.80},{0:1, 1:20}]}]\n",
    "\n",
    "DT_grid = GridSearchCV(estimator=DT_model,param_grid=param_grid,cv=5,scoring='f1')\n",
    "DT_GSC=DT_grid.fit(X=X,y=y)"
   ]
  },
  {
   "cell_type": "code",
   "execution_count": 344,
   "metadata": {},
   "outputs": [
    {
     "data": {
      "text/plain": [
       "0.4079891095258102"
      ]
     },
     "execution_count": 344,
     "metadata": {},
     "output_type": "execute_result"
    }
   ],
   "source": [
    "DT_GSC.best_score_"
   ]
  },
  {
   "cell_type": "code",
   "execution_count": 345,
   "metadata": {},
   "outputs": [
    {
     "data": {
      "text/plain": [
       "{'classifier__class_weight': {0: 0.8, 1: 0.2}, 'classifier__max_depth': 4}"
      ]
     },
     "execution_count": 345,
     "metadata": {},
     "output_type": "execute_result"
    }
   ],
   "source": [
    "DT_GSC.best_params_"
   ]
  },
  {
   "cell_type": "markdown",
   "metadata": {},
   "source": [
    "# SVM Tuning"
   ]
  },
  {
   "cell_type": "code",
   "execution_count": 350,
   "metadata": {},
   "outputs": [],
   "source": [
    "SVM_model=Pipeline([('smt',SMOTE(random_state=2019)),\n",
    "                    ('classifier',SVC(random_state=2019))               \n",
    "                   ])\n",
    "\n",
    "SVM_param_grid=[{'classifier__C':[ 0.001, 0.01, 0.1,1,10],\n",
    "                'classifier__class_weight':[{0:0.01, 1:0.99}, {0:0.80, 1:0.20},{0:0.20, 1:0.80},{0:1, 1:20}]}]\n",
    "\n",
    "SVM_grid=GridSearchCV(estimator=SVM_model,param_grid=SVM_param_grid,cv=5,scoring='f1')\n",
    "SVM_GSC=SVM_grid.fit(X,y)"
   ]
  },
  {
   "cell_type": "code",
   "execution_count": 351,
   "metadata": {},
   "outputs": [
    {
     "data": {
      "text/plain": [
       "0.3258098460989407"
      ]
     },
     "execution_count": 351,
     "metadata": {},
     "output_type": "execute_result"
    }
   ],
   "source": [
    "SVM_GSC.best_score_"
   ]
  },
  {
   "cell_type": "code",
   "execution_count": 352,
   "metadata": {},
   "outputs": [
    {
     "data": {
      "text/plain": [
       "{'classifier__C': 10, 'classifier__class_weight': {0: 0.8, 1: 0.2}}"
      ]
     },
     "execution_count": 352,
     "metadata": {},
     "output_type": "execute_result"
    }
   ],
   "source": [
    "SVM_GSC.best_params_"
   ]
  },
  {
   "cell_type": "code",
   "execution_count": 439,
   "metadata": {},
   "outputs": [
    {
     "data": {
      "text/plain": [
       "17"
      ]
     },
     "execution_count": 439,
     "metadata": {},
     "output_type": "execute_result"
    }
   ],
   "source": [
    "SVM_GSC.best_index_"
   ]
  },
  {
   "cell_type": "markdown",
   "metadata": {},
   "source": [
    "# Random Forest Tuning"
   ]
  },
  {
   "cell_type": "code",
   "execution_count": 432,
   "metadata": {},
   "outputs": [],
   "source": [
    "RF_model=Pipeline([('smt',SMOTE(random_state=2019)),\n",
    "                    ('classifier',RandomForestClassifier(random_state=2019))               \n",
    "                   ])\n",
    "RF_param_grid=[{'classifier__n_estimators':[10,20,30,40,50],\n",
    "               'classifier__class_weight':[{0:0.3, 1:0.7}, {0:0.80, 1:0.20},{0:0.20, 1:0.80},{0:1, 1:20}],\n",
    "               'classifier__max_depth':np.arange(5,15,1)\n",
    "               }]\n",
    "RF_grid=GridSearchCV(estimator=RF_model,param_grid=RF_param_grid,cv=5,scoring='f1')\n",
    "RF_GSC=RF_grid.fit(X,y)"
   ]
  },
  {
   "cell_type": "code",
   "execution_count": 433,
   "metadata": {},
   "outputs": [
    {
     "data": {
      "text/plain": [
       "0.4665968447054805"
      ]
     },
     "execution_count": 433,
     "metadata": {},
     "output_type": "execute_result"
    }
   ],
   "source": [
    "RF_GSC.best_score_"
   ]
  },
  {
   "cell_type": "code",
   "execution_count": 434,
   "metadata": {},
   "outputs": [
    {
     "data": {
      "text/plain": [
       "{'classifier__class_weight': {0: 0.8, 1: 0.2},\n",
       " 'classifier__max_depth': 7,\n",
       " 'classifier__n_estimators': 50}"
      ]
     },
     "execution_count": 434,
     "metadata": {},
     "output_type": "execute_result"
    }
   ],
   "source": [
    "RF_GSC.best_params_"
   ]
  },
  {
   "cell_type": "code",
   "execution_count": 438,
   "metadata": {},
   "outputs": [
    {
     "data": {
      "text/plain": [
       "64"
      ]
     },
     "execution_count": 438,
     "metadata": {},
     "output_type": "execute_result"
    }
   ],
   "source": [
    "RF_GSC.best_index_"
   ]
  },
  {
   "cell_type": "markdown",
   "metadata": {},
   "source": [
    "# AdaBoost Tuning"
   ]
  },
  {
   "cell_type": "code",
   "execution_count": 445,
   "metadata": {},
   "outputs": [],
   "source": [
    "AdaBoost_model=Pipeline([('smt',SMOTE(random_state=2019)),\n",
    "                    ('classifier',AdaBoostClassifier(random_state=2019))               \n",
    "                   ])\n",
    "AdaBoost_param_grid=[{'classifier__n_estimators':[10,20,30,40,50] }]\n",
    "AdaBoost_grid=GridSearchCV(estimator=AdaBoost_model,param_grid=AdaBoost_param_grid,cv=5,scoring='f1')\n",
    "AdaBoost_GSC=AdaBoost_grid.fit(X,y)"
   ]
  },
  {
   "cell_type": "code",
   "execution_count": 446,
   "metadata": {},
   "outputs": [
    {
     "data": {
      "text/plain": [
       "0.3731328778322603"
      ]
     },
     "execution_count": 446,
     "metadata": {},
     "output_type": "execute_result"
    }
   ],
   "source": [
    "AdaBoost_GSC.best_score_"
   ]
  },
  {
   "cell_type": "code",
   "execution_count": 447,
   "metadata": {},
   "outputs": [
    {
     "data": {
      "text/plain": [
       "{'classifier__n_estimators': 50}"
      ]
     },
     "execution_count": 447,
     "metadata": {},
     "output_type": "execute_result"
    }
   ],
   "source": [
    "AdaBoost_GSC.best_params_"
   ]
  },
  {
   "cell_type": "markdown",
   "metadata": {},
   "source": [
    "# XGBoosting Tuning"
   ]
  },
  {
   "cell_type": "code",
   "execution_count": 458,
   "metadata": {},
   "outputs": [],
   "source": [
    "xgb_model=Pipeline([('smt',SMOTE(random_state=2019)),\n",
    "                    ('classifier',XGBClassifier(random_state=2019))\n",
    "                   ])\n",
    "xgb_param_grid=[{'classifier__max_depth':np.arange(5,15,1),\n",
    "               'classifier__n_estimators':[10,20,30,40,50,70,100], \n",
    "               }]\n",
    "xgb_grid=GridSearchCV(estimator=xgb_model,param_grid=xgb_param_grid,cv=5,scoring='f1')\n",
    "\n",
    "xgb_GSC=xgb_grid.fit(X.as_matrix(),y.as_matrix())"
   ]
  },
  {
   "cell_type": "code",
   "execution_count": 459,
   "metadata": {},
   "outputs": [
    {
     "data": {
      "text/plain": [
       "0.47274231766778424"
      ]
     },
     "execution_count": 459,
     "metadata": {},
     "output_type": "execute_result"
    }
   ],
   "source": [
    "xgb_GSC.best_score_"
   ]
  },
  {
   "cell_type": "code",
   "execution_count": 460,
   "metadata": {},
   "outputs": [
    {
     "data": {
      "text/plain": [
       "{'classifier__max_depth': 10, 'classifier__n_estimators': 100}"
      ]
     },
     "execution_count": 460,
     "metadata": {},
     "output_type": "execute_result"
    }
   ],
   "source": [
    "xgb_GSC.best_params_"
   ]
  },
  {
   "cell_type": "code",
   "execution_count": null,
   "metadata": {},
   "outputs": [],
   "source": []
  },
  {
   "cell_type": "code",
   "execution_count": null,
   "metadata": {},
   "outputs": [],
   "source": []
  },
  {
   "cell_type": "code",
   "execution_count": null,
   "metadata": {},
   "outputs": [],
   "source": []
  },
  {
   "cell_type": "code",
   "execution_count": null,
   "metadata": {},
   "outputs": [],
   "source": []
  },
  {
   "cell_type": "code",
   "execution_count": null,
   "metadata": {},
   "outputs": [],
   "source": []
  },
  {
   "cell_type": "code",
   "execution_count": null,
   "metadata": {},
   "outputs": [],
   "source": []
  },
  {
   "cell_type": "code",
   "execution_count": null,
   "metadata": {},
   "outputs": [],
   "source": []
  },
  {
   "cell_type": "code",
   "execution_count": null,
   "metadata": {},
   "outputs": [],
   "source": []
  },
  {
   "cell_type": "code",
   "execution_count": null,
   "metadata": {},
   "outputs": [],
   "source": []
  },
  {
   "cell_type": "code",
   "execution_count": null,
   "metadata": {},
   "outputs": [],
   "source": []
  },
  {
   "cell_type": "code",
   "execution_count": null,
   "metadata": {},
   "outputs": [],
   "source": []
  },
  {
   "cell_type": "code",
   "execution_count": null,
   "metadata": {},
   "outputs": [],
   "source": []
  },
  {
   "cell_type": "code",
   "execution_count": null,
   "metadata": {},
   "outputs": [],
   "source": []
  },
  {
   "cell_type": "code",
   "execution_count": null,
   "metadata": {},
   "outputs": [],
   "source": []
  },
  {
   "cell_type": "code",
   "execution_count": null,
   "metadata": {},
   "outputs": [],
   "source": []
  },
  {
   "cell_type": "code",
   "execution_count": null,
   "metadata": {},
   "outputs": [],
   "source": []
  },
  {
   "cell_type": "code",
   "execution_count": null,
   "metadata": {},
   "outputs": [],
   "source": []
  },
  {
   "cell_type": "code",
   "execution_count": null,
   "metadata": {},
   "outputs": [],
   "source": []
  },
  {
   "cell_type": "code",
   "execution_count": null,
   "metadata": {},
   "outputs": [],
   "source": []
  },
  {
   "cell_type": "code",
   "execution_count": null,
   "metadata": {},
   "outputs": [],
   "source": []
  },
  {
   "cell_type": "code",
   "execution_count": null,
   "metadata": {},
   "outputs": [],
   "source": []
  },
  {
   "cell_type": "code",
   "execution_count": null,
   "metadata": {},
   "outputs": [],
   "source": []
  },
  {
   "cell_type": "code",
   "execution_count": null,
   "metadata": {},
   "outputs": [],
   "source": []
  },
  {
   "cell_type": "code",
   "execution_count": null,
   "metadata": {},
   "outputs": [],
   "source": []
  },
  {
   "cell_type": "code",
   "execution_count": null,
   "metadata": {},
   "outputs": [],
   "source": []
  },
  {
   "cell_type": "code",
   "execution_count": null,
   "metadata": {},
   "outputs": [],
   "source": []
  },
  {
   "cell_type": "code",
   "execution_count": null,
   "metadata": {},
   "outputs": [],
   "source": []
  },
  {
   "cell_type": "code",
   "execution_count": null,
   "metadata": {},
   "outputs": [],
   "source": []
  },
  {
   "cell_type": "code",
   "execution_count": null,
   "metadata": {},
   "outputs": [],
   "source": []
  },
  {
   "cell_type": "code",
   "execution_count": null,
   "metadata": {},
   "outputs": [],
   "source": []
  },
  {
   "cell_type": "code",
   "execution_count": null,
   "metadata": {},
   "outputs": [],
   "source": []
  },
  {
   "cell_type": "code",
   "execution_count": null,
   "metadata": {},
   "outputs": [],
   "source": []
  },
  {
   "cell_type": "code",
   "execution_count": null,
   "metadata": {},
   "outputs": [],
   "source": []
  },
  {
   "cell_type": "code",
   "execution_count": null,
   "metadata": {},
   "outputs": [],
   "source": []
  },
  {
   "cell_type": "code",
   "execution_count": null,
   "metadata": {},
   "outputs": [],
   "source": []
  },
  {
   "cell_type": "code",
   "execution_count": null,
   "metadata": {},
   "outputs": [],
   "source": []
  },
  {
   "cell_type": "code",
   "execution_count": null,
   "metadata": {},
   "outputs": [],
   "source": []
  },
  {
   "cell_type": "code",
   "execution_count": null,
   "metadata": {},
   "outputs": [],
   "source": []
  },
  {
   "cell_type": "code",
   "execution_count": null,
   "metadata": {},
   "outputs": [],
   "source": []
  },
  {
   "cell_type": "code",
   "execution_count": null,
   "metadata": {},
   "outputs": [],
   "source": []
  },
  {
   "cell_type": "code",
   "execution_count": null,
   "metadata": {},
   "outputs": [],
   "source": []
  },
  {
   "cell_type": "code",
   "execution_count": null,
   "metadata": {},
   "outputs": [],
   "source": []
  },
  {
   "cell_type": "code",
   "execution_count": null,
   "metadata": {},
   "outputs": [],
   "source": []
  },
  {
   "cell_type": "code",
   "execution_count": null,
   "metadata": {},
   "outputs": [],
   "source": []
  },
  {
   "cell_type": "code",
   "execution_count": null,
   "metadata": {},
   "outputs": [],
   "source": []
  }
 ],
 "metadata": {
  "kernelspec": {
   "display_name": "Python 3",
   "language": "python",
   "name": "python3"
  },
  "language_info": {
   "codemirror_mode": {
    "name": "ipython",
    "version": 3
   },
   "file_extension": ".py",
   "mimetype": "text/x-python",
   "name": "python",
   "nbconvert_exporter": "python",
   "pygments_lexer": "ipython3",
   "version": "3.7.3"
  }
 },
 "nbformat": 4,
 "nbformat_minor": 2
}
