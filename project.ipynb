{
 "cells": [
  {
   "cell_type": "markdown",
   "metadata": {},
   "source": [
    "X1\tnet profit / total assets <br>\n",
    "X2\ttotal liabilities / total assets <br>\n",
    "X3\tworking capital / total assets <br>\n",
    "X4\tcurrent assets / short-term liabilities <br>\n",
    "X5\t[(cash + short-term securities + receivables - short-term liabilities) / (operating expenses - depreciation)] * 365 <br>\n",
    "X6\tretained earnings / total assets <br>\n",
    "X7\tEBIT / total assets <br>\n",
    "X8\tbook value of equity / total liabilities <br>\n",
    "X9\tsales / total assets <br>\n",
    "X10\tequity / total assets <br>\n",
    "X11\t(gross profit + extraordinary items + financial expenses) / total assets <br>\n",
    "X12\tgross profit / short-term liabilities <br>\n",
    "X13\t(gross profit + depreciation) / sales <br>\n",
    "X14\t(gross profit + interest) / total assets <br>\n",
    "X15\t(total liabilities * 365) / (gross profit + depreciation) <br>\n",
    "X16\t(gross profit + depreciation) / total liabilities <br>\n",
    "X17\ttotal assets / total liabilities <br>\n",
    "X18\tgross profit / total assets <br>\n",
    "X19\tgross profit / sales <br>\n",
    "X20\t(inventory * 365) / sales <br>\n",
    "X21\tsales (n) / sales (n-1) <br>\n",
    "X22\tprofit on operating activities / total assets <br>\n",
    "X23\tnet profit / sales <br>\n",
    "X24\tgross profit (in 3 years) / total assets <br>\n",
    "X25\t(equity - share capital) / total assets <br>\n",
    "X26\t(net profit + depreciation) / total liabilities <br>\n",
    "X27\tprofit on operating activities / financial expenses <br>\n",
    "X28\tworking capital / fixed assets <br>\n",
    "X29\tlogarithm of total assets <br>\n",
    "X30\t(total liabilities - cash) / sales <br>\n",
    "X31\t(gross profit + interest) / sales<br> \n",
    "X32\t(current liabilities * 365) / cost of products sold <br>\n",
    "X33\toperating expenses / short-term liabilities <br>\n",
    "X34\toperating expenses / total liabilities <br>\n",
    "X35\tprofit on sales / total assets <br>\n",
    "X36\ttotal sales / total assets <br>\n",
    "X37\t(current assets - inventories) / long-term liabilities <br>\n",
    "X38\tconstant capital / total assets <br>\n",
    "X39\tprofit on sales / sales <br>\n",
    "X40\t(current assets - inventory - receivables) / short-term liabilities <br>\n",
    "X41\ttotal liabilities / ((profit on operating activities + depreciation) * (12/365)) <br>\n",
    "X42\tprofit on operating activities / sales <br>\n",
    "X43\trotation receivables + inventory turnover in days <br>\n",
    "X44\t(receivables * 365) / sales <br>\n",
    "X45\tnet profit / inventory <br>\n",
    "X46\t(current assets - inventory) / short-term liabilities <br>\n",
    "X47\t(inventory * 365) / cost of products sold <br>\n",
    "X48\tEBITDA (profit on operating activities - depreciation) / total assets <br>\n",
    "X49\tEBITDA (profit on operating activities - depreciation) / sales <br>\n",
    "X50\tcurrent assets / total liabilities <br>\n",
    "X51\tshort-term liabilities / total assets <br>\n",
    "X52\t(short-term liabilities * 365) / cost of products sold) <br>\n",
    "X53\tequity / fixed assets <br>\n",
    "X54\tconstant capital / fixed assets <br>\n",
    "X55\tworking capital <br>\n",
    "X56\t(sales - cost of products sold) / sales <br>\n",
    "X57\t(current assets - inventory - short-term liabilities) / (sales - gross profit - depreciation) <br>\n",
    "X58\ttotal costs /total sales <br>\n",
    "X59\tlong-term liabilities / equity <br>\n",
    "X60\tsales / inventory <br>\n",
    "X61\tsales / receivables <br>\n",
    "X62\t(short-term liabilities *365) / sales <br>\n",
    "X63\tsales / short-term liabilities <br>\n",
    "X64\tsales / fixed assets<br>"
   ]
  },
  {
   "cell_type": "code",
   "execution_count": 112,
   "metadata": {},
   "outputs": [
    {
     "name": "stdout",
     "output_type": "stream",
     "text": [
      "Populating the interactive namespace from numpy and matplotlib\n"
     ]
    }
   ],
   "source": [
    "import pandas as pd\n",
    "import numpy as np\n",
    "import seaborn as sns\n",
    "from sklearn.model_selection import train_test_split\n",
    "from sklearn.model_selection import StratifiedKFold\n",
    "from sklearn.feature_selection import SelectFromModel\n",
    "from sklearn.ensemble import RandomForestClassifier\n",
    "from sklearn.metrics import accuracy_score,f1_score,precision_score,recall_score\n",
    "import matplotlib.pyplot as plt\n",
    "from sklearn.model_selection import StratifiedKFold\n",
    "from imblearn.over_sampling import SMOTE \n",
    "from collections import Counter\n",
    "from sklearn.pipeline import make_pipeline\n",
    "from imblearn.pipeline import make_pipeline as make_pipline_imb\n",
    "from fancyimpute import  KNN\n",
    "from sklearn.preprocessing import StandardScaler\n",
    "import warnings\n",
    "import impyute\n",
    "from sklearn import tree\n",
    "from sklearn.tree import DecisionTreeClassifier\n",
    "from sklearn.linear_model import LogisticRegression\n",
    "from sklearn.metrics import roc_auc_score\n",
    "from sklearn.metrics import roc_curve,auc\n",
    "%pylab inline\n",
    "import warnings\n",
    "\n",
    "from IPython.display import Image  \n",
    "from sklearn.externals.six import StringIO  \n",
    "from sklearn.tree import export_graphviz\n",
    "import pydot \n",
    "\n",
    "warnings.filterwarnings(\"ignore\")\n",
    "pd.options.display.max_rows = 999"
   ]
  },
  {
   "cell_type": "code",
   "execution_count": 60,
   "metadata": {},
   "outputs": [],
   "source": [
    "df=pd.read_csv('csv_result-5year.csv',index_col=0)"
   ]
  },
  {
   "cell_type": "code",
   "execution_count": 61,
   "metadata": {},
   "outputs": [],
   "source": [
    "df.replace('?',np.nan,inplace=True)"
   ]
  },
  {
   "cell_type": "code",
   "execution_count": 62,
   "metadata": {},
   "outputs": [],
   "source": [
    "df=df.astype('float')"
   ]
  },
  {
   "cell_type": "code",
   "execution_count": 63,
   "metadata": {},
   "outputs": [
    {
     "data": {
      "text/plain": [
       "(5910, 65)"
      ]
     },
     "execution_count": 63,
     "metadata": {},
     "output_type": "execute_result"
    }
   ],
   "source": [
    "df.shape"
   ]
  },
  {
   "cell_type": "code",
   "execution_count": 64,
   "metadata": {},
   "outputs": [
    {
     "data": {
      "image/png": "[encoded data removed]",
      "text/plain": [
       "<Figure size 1152x576 with 1 Axes>"
      ]
     },
     "metadata": {
      "needs_background": "light"
     },
     "output_type": "display_data"
    }
   ],
   "source": [
    "missing=df.isna().sum()\n",
    "plt.figure(figsize=(16,8))\n",
    "missing.plot.bar()\n",
    "plt.title('Missing values')\n",
    "plt.show()"
   ]
  },
  {
   "cell_type": "code",
   "execution_count": null,
   "metadata": {},
   "outputs": [],
   "source": []
  },
  {
   "cell_type": "markdown",
   "metadata": {},
   "source": [
    "# Create a machine learning algorithm to predict missing value"
   ]
  },
  {
   "cell_type": "markdown",
   "metadata": {},
   "source": [
    "# Using KNN to estimate missing value"
   ]
  },
  {
   "cell_type": "code",
   "execution_count": 65,
   "metadata": {},
   "outputs": [],
   "source": [
    "X=df.drop(['class'],axis=1)\n",
    "y=df['class']"
   ]
  },
  {
   "cell_type": "code",
   "execution_count": 66,
   "metadata": {},
   "outputs": [
    {
     "name": "stdout",
     "output_type": "stream",
     "text": [
      "Imputing row 1/5910 with 0 missing, elapsed time: 26.100\n",
      "Imputing row 101/5910 with 1 missing, elapsed time: 26.113\n",
      "Imputing row 201/5910 with 1 missing, elapsed time: 26.127\n",
      "Imputing row 301/5910 with 0 missing, elapsed time: 26.137\n",
      "Imputing row 401/5910 with 1 missing, elapsed time: 26.145\n",
      "Imputing row 501/5910 with 0 missing, elapsed time: 26.148\n",
      "Imputing row 601/5910 with 1 missing, elapsed time: 26.159\n",
      "Imputing row 701/5910 with 1 missing, elapsed time: 26.164\n",
      "Imputing row 801/5910 with 1 missing, elapsed time: 26.174\n",
      "Imputing row 901/5910 with 0 missing, elapsed time: 26.185\n",
      "Imputing row 1001/5910 with 3 missing, elapsed time: 26.190\n",
      "Imputing row 1101/5910 with 0 missing, elapsed time: 26.200\n",
      "Imputing row 1201/5910 with 1 missing, elapsed time: 26.208\n",
      "Imputing row 1301/5910 with 1 missing, elapsed time: 26.217\n",
      "Imputing row 1401/5910 with 1 missing, elapsed time: 26.224\n",
      "Imputing row 1501/5910 with 0 missing, elapsed time: 26.231\n",
      "Imputing row 1601/5910 with 0 missing, elapsed time: 26.237\n",
      "Imputing row 1701/5910 with 0 missing, elapsed time: 26.244\n",
      "Imputing row 1801/5910 with 1 missing, elapsed time: 26.253\n",
      "Imputing row 1901/5910 with 0 missing, elapsed time: 26.263\n",
      "Imputing row 2001/5910 with 1 missing, elapsed time: 26.272\n",
      "Imputing row 2101/5910 with 1 missing, elapsed time: 26.286\n",
      "Imputing row 2201/5910 with 1 missing, elapsed time: 26.295\n",
      "Imputing row 2301/5910 with 0 missing, elapsed time: 26.302\n",
      "Imputing row 2401/5910 with 1 missing, elapsed time: 26.307\n",
      "Imputing row 2501/5910 with 0 missing, elapsed time: 26.312\n",
      "Imputing row 2601/5910 with 1 missing, elapsed time: 26.318\n",
      "Imputing row 2701/5910 with 1 missing, elapsed time: 26.327\n",
      "Imputing row 2801/5910 with 0 missing, elapsed time: 26.333\n",
      "Imputing row 2901/5910 with 1 missing, elapsed time: 26.338\n",
      "Imputing row 3001/5910 with 0 missing, elapsed time: 26.344\n",
      "Imputing row 3101/5910 with 0 missing, elapsed time: 26.349\n",
      "Imputing row 3201/5910 with 0 missing, elapsed time: 26.362\n",
      "Imputing row 3301/5910 with 4 missing, elapsed time: 26.375\n",
      "Imputing row 3401/5910 with 1 missing, elapsed time: 26.385\n",
      "Imputing row 3501/5910 with 0 missing, elapsed time: 26.397\n",
      "Imputing row 3601/5910 with 1 missing, elapsed time: 26.401\n",
      "Imputing row 3701/5910 with 0 missing, elapsed time: 26.408\n",
      "Imputing row 3801/5910 with 0 missing, elapsed time: 26.417\n",
      "Imputing row 3901/5910 with 0 missing, elapsed time: 26.426\n",
      "Imputing row 4001/5910 with 1 missing, elapsed time: 26.437\n",
      "Imputing row 4101/5910 with 0 missing, elapsed time: 26.445\n",
      "Imputing row 4201/5910 with 0 missing, elapsed time: 26.457\n",
      "Imputing row 4301/5910 with 0 missing, elapsed time: 26.463\n",
      "Imputing row 4401/5910 with 0 missing, elapsed time: 26.468\n",
      "Imputing row 4501/5910 with 1 missing, elapsed time: 26.472\n",
      "Imputing row 4601/5910 with 1 missing, elapsed time: 26.482\n",
      "Imputing row 4701/5910 with 0 missing, elapsed time: 26.490\n",
      "Imputing row 4801/5910 with 0 missing, elapsed time: 26.497\n",
      "Imputing row 4901/5910 with 0 missing, elapsed time: 26.510\n",
      "Imputing row 5001/5910 with 0 missing, elapsed time: 26.517\n",
      "Imputing row 5101/5910 with 1 missing, elapsed time: 26.527\n",
      "Imputing row 5201/5910 with 0 missing, elapsed time: 26.537\n",
      "Imputing row 5301/5910 with 0 missing, elapsed time: 26.546\n",
      "Imputing row 5401/5910 with 0 missing, elapsed time: 26.554\n",
      "Imputing row 5501/5910 with 0 missing, elapsed time: 26.559\n",
      "Imputing row 5601/5910 with 1 missing, elapsed time: 26.568\n",
      "Imputing row 5701/5910 with 5 missing, elapsed time: 26.582\n",
      "Imputing row 5801/5910 with 2 missing, elapsed time: 26.597\n",
      "Imputing row 5901/5910 with 1 missing, elapsed time: 26.616\n"
     ]
    }
   ],
   "source": [
    "X_filled_knn = KNN(k=75).fit_transform(X)"
   ]
  },
  {
   "cell_type": "code",
   "execution_count": 67,
   "metadata": {},
   "outputs": [],
   "source": [
    "#Normalization\n",
    "scaler=StandardScaler()\n",
    "X_filled_knn=scaler.fit_transform(X_filled_knn)"
   ]
  },
  {
   "cell_type": "code",
   "execution_count": 68,
   "metadata": {},
   "outputs": [],
   "source": [
    "df_KNN=pd.DataFrame(X_filled_knn,columns=X.columns)"
   ]
  },
  {
   "cell_type": "markdown",
   "metadata": {},
   "source": [
    "# Features selections "
   ]
  },
  {
   "cell_type": "code",
   "execution_count": 69,
   "metadata": {},
   "outputs": [],
   "source": [
    "corr=df_KNN.corr()"
   ]
  },
  {
   "cell_type": "code",
   "execution_count": 70,
   "metadata": {},
   "outputs": [],
   "source": [
    "corr_matrix =corr.abs()"
   ]
  },
  {
   "cell_type": "code",
   "execution_count": 96,
   "metadata": {},
   "outputs": [
    {
     "data": {
      "text/plain": [
       "<matplotlib.axes._subplots.AxesSubplot at 0x226488b7160>"
      ]
     },
     "execution_count": 96,
     "metadata": {},
     "output_type": "execute_result"
    },
    {
     "data": {
      "image/png": "[encoded data removed]",
      "text/plain": [
       "<Figure size 1440x1152 with 2 Axes>"
      ]
     },
     "metadata": {},
     "output_type": "display_data"
    }
   ],
   "source": [
    "sns.set(style=\"white\")\n",
    "mask = np.zeros_like(corr_matrix, dtype=np.bool)\n",
    "mask[np.triu_indices_from(mask)] = True\n",
    "f, ax = plt.subplots(figsize=(20, 16))\n",
    "cmap = sns.diverging_palette(250, 15, as_cmap=True,s=75, l=40,sep=20)\n",
    "sns.heatmap(corr, mask=mask, cmap=cmap, vmax=.3, center=0,square=True, linewidths=.5, cbar_kws={\"shrink\": .5})"
   ]
  },
  {
   "cell_type": "code",
   "execution_count": 71,
   "metadata": {},
   "outputs": [],
   "source": [
    "#filter out features that are greater than threshold\n",
    "upper = corr_matrix.where(np.triu(np.ones(corr_matrix.shape), k=1).astype(np.bool)) #upper matrix\n",
    "to_drop = [column for column in upper.columns if any(upper[column] > 0.8)]  #drop correlation >0.8\n",
    "df_important_features=df_KNN.drop(df_KNN[to_drop], axis=1)  # drop high correlated features"
   ]
  },
  {
   "cell_type": "code",
   "execution_count": 72,
   "metadata": {},
   "outputs": [
    {
     "data": {
      "text/plain": [
       "Index(['Attr1', 'Attr2', 'Attr3', 'Attr4', 'Attr5', 'Attr6', 'Attr7', 'Attr9',\n",
       "       'Attr13', 'Attr15', 'Attr19', 'Attr20', 'Attr21', 'Attr27', 'Attr28',\n",
       "       'Attr29', 'Attr30', 'Attr32', 'Attr37', 'Attr39', 'Attr41', 'Attr42',\n",
       "       'Attr43', 'Attr45', 'Attr47', 'Attr52', 'Attr55', 'Attr57', 'Attr59',\n",
       "       'Attr61'],\n",
       "      dtype='object')"
      ]
     },
     "execution_count": 72,
     "metadata": {},
     "output_type": "execute_result"
    }
   ],
   "source": [
    "df_important_features.columns"
   ]
  },
  {
   "cell_type": "markdown",
   "metadata": {},
   "source": [
    "# Handling imbalance data"
   ]
  },
  {
   "cell_type": "markdown",
   "metadata": {},
   "source": [
    "# Stratified CV and SMOTE and Data Modeling"
   ]
  },
  {
   "cell_type": "code",
   "execution_count": 98,
   "metadata": {},
   "outputs": [],
   "source": [
    "from imblearn.over_sampling import SMOTE\n",
    "sm=SMOTE(random_state=2019)\n",
    "pipe1=make_pipline_imb(SMOTE(random_state=2019),LogisticRegression(solver='lbfgs',random_state=2019)) \n",
    "skf=StratifiedKFold(n_splits=5,shuffle=True,random_state=2019)"
   ]
  },
  {
   "cell_type": "code",
   "execution_count": null,
   "metadata": {},
   "outputs": [],
   "source": []
  },
  {
   "cell_type": "code",
   "execution_count": 99,
   "metadata": {
    "scrolled": false
   },
   "outputs": [
    {
     "name": "stdout",
     "output_type": "stream",
     "text": [
      "\n",
      "Logistic Regression\n",
      "Stratified Kfold score with SMOTE: \n",
      "\n",
      "Accuracy: 0.7940778341793571\n",
      "Precision: 0.2033217499810517\n",
      "Recall: 0.673170731707317\n",
      "f1: 0.31210840551327385\n"
     ]
    }
   ],
   "source": [
    "#with SMOTE\n",
    "\n",
    "#skf.get_n_splits(X,y)\n",
    "accuracy_smote=[]\n",
    "precision_smote=[]\n",
    "recall_smote=[]\n",
    "f1_smote=[]\n",
    "auc_smote=[]\n",
    "for train_index,test_index in skf.split(df_important_features,y):\n",
    "    X_train,X_test=df_important_features.iloc[train_index].values,df_important_features.iloc[test_index].values\n",
    "    y_train,y_test=y.iloc[train_index].values,y.iloc[test_index].values\n",
    "    y_train,y_test=y_train.reshape(-1,1),y_test.reshape(-1,1)\n",
    "    \n",
    "    model=pipe1.fit(X_train,y_train.ravel())\n",
    "    prediction=model.predict(X_test)\n",
    "    \n",
    "    accuracy_smote.append(pipe1.score(X_test,y_test))\n",
    "    precision_smote.append(precision_score(y_test,prediction))\n",
    "    recall_smote.append(recall_score(y_test,prediction))\n",
    "    f1_smote.append(f1_score(y_test,prediction))\n",
    "    #auc_smote.append(roc_auc_score(y_test,prediction))\n",
    "print()\n",
    "print(\"Logistic Regression\")\n",
    "print(\"Stratified Kfold score with SMOTE: \\n\")\n",
    "print(\"Accuracy: {}\".format(np.mean(accuracy_smote)))\n",
    "print(\"Precision: {}\".format(np.mean(precision_smote)))\n",
    "print(\"Recall: {}\".format(np.mean(recall_smote)))\n",
    "print(\"f1: {}\".format(np.mean(f1_smote)))"
   ]
  },
  {
   "cell_type": "code",
   "execution_count": 101,
   "metadata": {},
   "outputs": [
    {
     "name": "stdout",
     "output_type": "stream",
     "text": [
      "\n",
      "Logistic Regression\n",
      "Stratified Kfold score without SMOTE: \n",
      "\n",
      "Accuracy: 0.9301184433164129\n",
      "Precision: 0.4932900432900433\n",
      "Recall: 0.07317073170731707\n",
      "f1: 0.1260027756649618\n",
      "\n"
     ]
    }
   ],
   "source": [
    "#without SMOTE\n",
    "skf=StratifiedKFold(n_splits=5,shuffle=True,random_state=2019)\n",
    "accuracy=[]\n",
    "precision=[]\n",
    "recall=[]\n",
    "f1=[]\n",
    "auc=[]\n",
    "for train_index,test_index in skf.split(df_important_features,y):\n",
    "    X_train,X_test=df_important_features.iloc[train_index].values,df_important_features.iloc[test_index].values\n",
    "    y_train,y_test=y.iloc[train_index].values,y.iloc[test_index].values\n",
    "    y_train,y_test=y_train.reshape(-1,1),y_test.reshape(-1,1)\n",
    "    \n",
    "    logreg=LogisticRegression(random_state=2019,solver='lbfgs')\n",
    "    logreg.fit(X_train,y_train.ravel())\n",
    "    prediction=logreg.predict(X_test)\n",
    "    \n",
    "    accuracy.append(logreg.score(X_test,y_test))\n",
    "    precision.append(precision_score(y_test,prediction))\n",
    "    recall.append(recall_score(y_test,prediction))\n",
    "    f1.append(f1_score(y_test,prediction))\n",
    "    #auc.append(roc_auc_score(y_test,prediction))\n",
    "print()\n",
    "print(\"Logistic Regression\")\n",
    "print(\"Stratified Kfold score without SMOTE: \\n\")\n",
    "print(\"Accuracy: {}\".format(np.mean(accuracy)))\n",
    "print(\"Precision: {}\".format(np.mean(precision)))\n",
    "print(\"Recall: {}\".format(np.mean(recall)))\n",
    "print(\"f1: {}\".format(np.mean(f1)))\n",
    "print()"
   ]
  },
  {
   "cell_type": "code",
   "execution_count": 124,
   "metadata": {},
   "outputs": [
    {
     "name": "stdout",
     "output_type": "stream",
     "text": [
      "\n",
      "Decision Tree\n",
      "Stratified Kfold score with SMOTE: \n",
      "\n",
      "Accuracy: 0.8326565143824027\n",
      "Precision: 0.2489368854590733\n",
      "Recall: 0.6780487804878049\n",
      "f1: 0.3619057301260521\n"
     ]
    }
   ],
   "source": [
    "\n",
    "#SMOTE with Decision Tree\n",
    "pipe2=make_pipline_imb(SMOTE(random_state=2019),DecisionTreeClassifier(random_state=2019,max_depth=7))\n",
    "\n",
    "accuracy_DT=[]\n",
    "precision_DT=[]\n",
    "recall_DT=[]\n",
    "f1_DT=[]\n",
    "auc_DT=[]\n",
    "for train_index,test_index in skf.split(df_important_features,y):\n",
    "    X_train,X_test=df_important_features.iloc[train_index].values,df_important_features.iloc[test_index].values\n",
    "    y_train,y_test=y.iloc[train_index].values,y.iloc[test_index].values\n",
    "    y_train,y_test=y_train.reshape(-1,1),y_test.reshape(-1,1)\n",
    "    \n",
    "    model=pipe2.fit(X_train,y_train.ravel())\n",
    "    prediction=model.predict(X_test)\n",
    "    \n",
    "    accuracy_DT.append(pipe2.score(X_test,y_test))\n",
    "    precision_DT.append(precision_score(y_test,prediction))\n",
    "    recall_DT.append(recall_score(y_test,prediction))\n",
    "    f1_DT.append(f1_score(y_test,prediction))\n",
    "    #auc_DT.append(roc_auc_score(y_test,prediction))\n",
    "    \n",
    "    \n",
    "    \n",
    "    #try to plot decision tree\n",
    "    #features = list(df_important_features.columns)\n",
    "    #dot_data = StringIO()  \n",
    "    #export_graphviz(pipe2, out_file=dot_data,feature_names=features,filled=True,rounded=True)\n",
    "\n",
    "    #graph = pydot.graph_from_dot_data(dot_data.getvalue())  \n",
    "    #Image(graph[0].create_png(),height=10000,width=10000) \n",
    "print()\n",
    "print(\"Decision Tree\")\n",
    "print(\"Stratified Kfold score with SMOTE: \\n\")\n",
    "print(\"Accuracy: {}\".format(np.mean(accuracy_DT)))\n",
    "print(\"Precision: {}\".format(np.mean(precision_DT)))\n",
    "print(\"Recall: {}\".format(np.mean(recall_DT)))\n",
    "print(\"f1: {}\".format(np.mean(f1_DT)))"
   ]
  },
  {
   "cell_type": "code",
   "execution_count": 127,
   "metadata": {},
   "outputs": [
    {
     "name": "stdout",
     "output_type": "stream",
     "text": [
      "\n",
      "Naive Bayers\n",
      "Stratified Kfold score with SMOTE: \n",
      "\n",
      "Accuracy: 0.16920473773265648\n",
      "Precision: 0.0720892913904875\n",
      "Recall: 0.9243902439024388\n",
      "f1: 0.13374598059899703\n"
     ]
    }
   ],
   "source": [
    "# Naive Bayers\n",
    "from sklearn.naive_bayes import GaussianNB\n",
    "\n",
    "pipe3=make_pipline_imb(SMOTE(random_state=2019),GaussianNB())\n",
    "\n",
    "accuracy_NB=[]\n",
    "precision_NB=[]\n",
    "recall_NB=[]\n",
    "f1_NB=[]\n",
    "auc_NB=[]\n",
    "for train_index,test_index in skf.split(df_important_features,y):\n",
    "    X_train,X_test=df_important_features.iloc[train_index].values,df_important_features.iloc[test_index].values\n",
    "    y_train,y_test=y.iloc[train_index].values,y.iloc[test_index].values\n",
    "    y_train,y_test=y_train.reshape(-1,1),y_test.reshape(-1,1)\n",
    "    \n",
    "    model=pipe3.fit(X_train,y_train.ravel())\n",
    "    prediction=model.predict(X_test)\n",
    "    \n",
    "    accuracy_NB.append(pipe3.score(X_test,y_test))\n",
    "    precision_NB.append(precision_score(y_test,prediction))\n",
    "    recall_NB.append(recall_score(y_test,prediction))\n",
    "    f1_NB.append(f1_score(y_test,prediction))\n",
    "    #auc_NB.append(roc_auc_score(y_test,prediction))\n",
    "    \n",
    "    \n",
    "print()\n",
    "print(\"Naive Bayers\")\n",
    "print(\"Stratified Kfold score with SMOTE: \\n\")\n",
    "print(\"Accuracy: {}\".format(np.mean(accuracy_NB)))\n",
    "print(\"Precision: {}\".format(np.mean(precision_NB)))\n",
    "print(\"Recall: {}\".format(np.mean(recall_NB)))\n",
    "print(\"f1: {}\".format(np.mean(f1_NB)))"
   ]
  },
  {
   "cell_type": "code",
   "execution_count": 128,
   "metadata": {},
   "outputs": [],
   "source": [
    "#SVM\n",
    "from sklearn.svm import SVC"
   ]
  },
  {
   "cell_type": "code",
   "execution_count": 134,
   "metadata": {},
   "outputs": [
    {
     "name": "stdout",
     "output_type": "stream",
     "text": [
      "\n",
      "Support Vector Machine\n",
      "Stratified Kfold score with SMOTE: \n",
      "\n",
      "Accuracy: 0.8106598984771575\n",
      "Precision: 0.2155791903467026\n",
      "Recall: 0.6536585365853659\n",
      "f1: 0.3240348176155928\n"
     ]
    }
   ],
   "source": [
    "pipe4=make_pipline_imb(SMOTE(),SVC(random_state=2019,C=1))\n",
    "\n",
    "accuracy_SVC=[]\n",
    "precision_SVC=[]\n",
    "recall_SVC=[]\n",
    "f1_SVC=[]\n",
    "auc_SVC=[]\n",
    "for train_index,test_index in skf.split(df_important_features,y):\n",
    "    X_train,X_test=df_important_features.iloc[train_index].values,df_important_features.iloc[test_index].values\n",
    "    y_train,y_test=y.iloc[train_index].values,y.iloc[test_index].values\n",
    "    y_train,y_test=y_train.reshape(-1,1),y_test.reshape(-1,1)\n",
    "    \n",
    "    model=pipe4.fit(X_train,y_train.ravel())\n",
    "    prediction=model.predict(X_test)\n",
    "    \n",
    "    accuracy_SVC.append(pipe4.score(X_test,y_test))\n",
    "    precision_SVC.append(precision_score(y_test,prediction))\n",
    "    recall_SVC.append(recall_score(y_test,prediction))\n",
    "    f1_SVC.append(f1_score(y_test,prediction))\n",
    "    #auc_NB.append(roc_auc_score(y_test,prediction))\n",
    "    \n",
    "    \n",
    "print()\n",
    "print(\"Support Vector Machine\")\n",
    "print(\"Stratified Kfold score with SMOTE: \\n\")\n",
    "print(\"Accuracy: {}\".format(np.mean(accuracy_SVC)))\n",
    "print(\"Precision: {}\".format(np.mean(precision_SVC)))\n",
    "print(\"Recall: {}\".format(np.mean(recall_SVC)))\n",
    "print(\"f1: {}\".format(np.mean(f1_SVC)))"
   ]
  },
  {
   "cell_type": "code",
   "execution_count": null,
   "metadata": {},
   "outputs": [],
   "source": []
  },
  {
   "cell_type": "code",
   "execution_count": null,
   "metadata": {},
   "outputs": [],
   "source": []
  },
  {
   "cell_type": "code",
   "execution_count": null,
   "metadata": {},
   "outputs": [],
   "source": []
  },
  {
   "cell_type": "code",
   "execution_count": null,
   "metadata": {},
   "outputs": [],
   "source": []
  },
  {
   "cell_type": "code",
   "execution_count": null,
   "metadata": {},
   "outputs": [],
   "source": []
  }
 ],
 "metadata": {
  "kernelspec": {
   "display_name": "Python 3",
   "language": "python",
   "name": "python3"
  },
  "language_info": {
   "codemirror_mode": {
    "name": "ipython",
    "version": 3
   },
   "file_extension": ".py",
   "mimetype": "text/x-python",
   "name": "python",
   "nbconvert_exporter": "python",
   "pygments_lexer": "ipython3",
   "version": "3.7.3"
  }
 },
 "nbformat": 4,
 "nbformat_minor": 2
}
