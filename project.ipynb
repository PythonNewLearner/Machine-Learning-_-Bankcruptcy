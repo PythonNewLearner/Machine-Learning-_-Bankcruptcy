{
 "cells": [
  {
   "cell_type": "markdown",
   "metadata": {},
   "source": [
    "X1\tnet profit / total assets <br>\n",
    "X2\ttotal liabilities / total assets <br>\n",
    "X3\tworking capital / total assets <br>\n",
    "X4\tcurrent assets / short-term liabilities <br>\n",
    "X5\t[(cash + short-term securities + receivables - short-term liabilities) / (operating expenses - depreciation)] * 365 <br>\n",
    "X6\tretained earnings / total assets <br>\n",
    "X7\tEBIT / total assets <br>\n",
    "X8\tbook value of equity / total liabilities <br>\n",
    "X9\tsales / total assets <br>\n",
    "X10\tequity / total assets <br>\n",
    "X11\t(gross profit + extraordinary items + financial expenses) / total assets <br>\n",
    "X12\tgross profit / short-term liabilities <br>\n",
    "X13\t(gross profit + depreciation) / sales <br>\n",
    "X14\t(gross profit + interest) / total assets <br>\n",
    "X15\t(total liabilities * 365) / (gross profit + depreciation) <br>\n",
    "X16\t(gross profit + depreciation) / total liabilities <br>\n",
    "X17\ttotal assets / total liabilities <br>\n",
    "X18\tgross profit / total assets <br>\n",
    "X19\tgross profit / sales <br>\n",
    "X20\t(inventory * 365) / sales <br>\n",
    "X21\tsales (n) / sales (n-1) <br>\n",
    "X22\tprofit on operating activities / total assets <br>\n",
    "X23\tnet profit / sales <br>\n",
    "X24\tgross profit (in 3 years) / total assets <br>\n",
    "X25\t(equity - share capital) / total assets <br>\n",
    "X26\t(net profit + depreciation) / total liabilities <br>\n",
    "X27\tprofit on operating activities / financial expenses <br>\n",
    "X28\tworking capital / fixed assets <br>\n",
    "X29\tlogarithm of total assets <br>\n",
    "X30\t(total liabilities - cash) / sales <br>\n",
    "X31\t(gross profit + interest) / sales<br> \n",
    "X32\t(current liabilities * 365) / cost of products sold <br>\n",
    "X33\toperating expenses / short-term liabilities <br>\n",
    "X34\toperating expenses / total liabilities <br>\n",
    "X35\tprofit on sales / total assets <br>\n",
    "X36\ttotal sales / total assets <br>\n",
    "X37\t(current assets - inventories) / long-term liabilities <br>\n",
    "X38\tconstant capital / total assets <br>\n",
    "X39\tprofit on sales / sales <br>\n",
    "X40\t(current assets - inventory - receivables) / short-term liabilities <br>\n",
    "X41\ttotal liabilities / ((profit on operating activities + depreciation) * (12/365)) <br>\n",
    "X42\tprofit on operating activities / sales <br>\n",
    "X43\trotation receivables + inventory turnover in days <br>\n",
    "X44\t(receivables * 365) / sales <br>\n",
    "X45\tnet profit / inventory <br>\n",
    "X46\t(current assets - inventory) / short-term liabilities <br>\n",
    "X47\t(inventory * 365) / cost of products sold <br>\n",
    "X48\tEBITDA (profit on operating activities - depreciation) / total assets <br>\n",
    "X49\tEBITDA (profit on operating activities - depreciation) / sales <br>\n",
    "X50\tcurrent assets / total liabilities <br>\n",
    "X51\tshort-term liabilities / total assets <br>\n",
    "X52\t(short-term liabilities * 365) / cost of products sold) <br>\n",
    "X53\tequity / fixed assets <br>\n",
    "X54\tconstant capital / fixed assets <br>\n",
    "X55\tworking capital <br>\n",
    "X56\t(sales - cost of products sold) / sales <br>\n",
    "X57\t(current assets - inventory - short-term liabilities) / (sales - gross profit - depreciation) <br>\n",
    "X58\ttotal costs /total sales <br>\n",
    "X59\tlong-term liabilities / equity <br>\n",
    "X60\tsales / inventory <br>\n",
    "X61\tsales / receivables <br>\n",
    "X62\t(short-term liabilities *365) / sales <br>\n",
    "X63\tsales / short-term liabilities <br>\n",
    "X64\tsales / fixed assets<br>"
   ]
  },
  {
   "cell_type": "code",
   "execution_count": 20,
   "metadata": {},
   "outputs": [
    {
     "name": "stdout",
     "output_type": "stream",
     "text": [
      "Populating the interactive namespace from numpy and matplotlib\n"
     ]
    }
   ],
   "source": [
    "import warnings\n",
    "warnings.filterwarnings(\"ignore\")\n",
    "\n",
    "import pandas as pd\n",
    "import numpy as np\n",
    "import matplotlib.pyplot as plt\n",
    "import seaborn as sns\n",
    "from sklearn.model_selection import train_test_split\n",
    "from sklearn.model_selection import StratifiedKFold\n",
    "from sklearn.feature_selection import SelectFromModel\n",
    "from sklearn.ensemble import RandomForestClassifier\n",
    "from sklearn.metrics import accuracy_score,f1_score,precision_score,recall_score\n",
    "import matplotlib.pyplot as plt\n",
    "from sklearn.model_selection import StratifiedKFold\n",
    "from imblearn.over_sampling import SMOTE \n",
    "from collections import Counter\n",
    "from sklearn.pipeline import make_pipeline\n",
    "from imblearn.pipeline import make_pipeline as make_pipline_imb\n",
    "from sklearn.feature_selection import SelectKBest, VarianceThreshold\n",
    "from sklearn.pipeline import FeatureUnion\n",
    "from fancyimpute import  KNN\n",
    "from sklearn.preprocessing import StandardScaler\n",
    "import warnings\n",
    "import impyute\n",
    "from sklearn import tree\n",
    "from sklearn.tree import DecisionTreeClassifier\n",
    "from sklearn.linear_model import LogisticRegression\n",
    "from sklearn.metrics import roc_auc_score\n",
    "from sklearn.metrics import roc_curve,auc\n",
    "%pylab inline\n",
    "import warnings\n",
    "from sklearn.metrics import classification_report,confusion_matrix,accuracy_score\n",
    "from mlxtend.plotting import plot_decision_regions, plot_confusion_matrix\n",
    "from sklearn.metrics import make_scorer,fbeta_score\n",
    "\n",
    "from IPython.display import Image  \n",
    "from sklearn.externals.six import StringIO  \n",
    "from sklearn.tree import export_graphviz\n",
    "import pydot \n",
    "from sklearn import tree\n",
    "\n",
    "\n",
    "pd.options.display.max_rows = 999"
   ]
  },
  {
   "cell_type": "code",
   "execution_count": 2,
   "metadata": {},
   "outputs": [],
   "source": [
    "df=pd.read_csv('csv_result-5year.csv',index_col=0)\n",
    "df.replace('?',np.nan,inplace=True)\n",
    "df=df.astype('float')"
   ]
  },
  {
   "cell_type": "code",
   "execution_count": 3,
   "metadata": {},
   "outputs": [
    {
     "data": {
      "text/plain": [
       "(5910, 65)"
      ]
     },
     "execution_count": 3,
     "metadata": {},
     "output_type": "execute_result"
    }
   ],
   "source": [
    "df.shape"
   ]
  },
  {
   "cell_type": "code",
   "execution_count": null,
   "metadata": {},
   "outputs": [],
   "source": []
  },
  {
   "cell_type": "code",
   "execution_count": 4,
   "metadata": {},
   "outputs": [
    {
     "data": {
      "image/png": "[encoded data removed]",
      "text/plain": [
       "<Figure size 1152x576 with 1 Axes>"
      ]
     },
     "metadata": {
      "needs_background": "light"
     },
     "output_type": "display_data"
    }
   ],
   "source": [
    "missing=df.isna().sum()\n",
    "plt.figure(figsize=(16,8))\n",
    "missing.plot.bar()\n",
    "plt.title('Missing values')\n",
    "plt.show()"
   ]
  },
  {
   "cell_type": "code",
   "execution_count": null,
   "metadata": {},
   "outputs": [],
   "source": []
  },
  {
   "cell_type": "markdown",
   "metadata": {},
   "source": [
    "# Create a machine learning algorithm to predict missing value"
   ]
  },
  {
   "cell_type": "markdown",
   "metadata": {},
   "source": [
    "# Using KNN to estimate missing value"
   ]
  },
  {
   "cell_type": "code",
   "execution_count": 5,
   "metadata": {},
   "outputs": [],
   "source": [
    "X=df.drop(['class'],axis=1)\n",
    "y=df['class']"
   ]
  },
  {
   "cell_type": "code",
   "execution_count": 6,
   "metadata": {},
   "outputs": [
    {
     "name": "stdout",
     "output_type": "stream",
     "text": [
      "Imputing row 1/5910 with 0 missing, elapsed time: 11.991\n",
      "Imputing row 101/5910 with 1 missing, elapsed time: 12.006\n",
      "Imputing row 201/5910 with 1 missing, elapsed time: 12.006\n",
      "Imputing row 301/5910 with 0 missing, elapsed time: 12.006\n",
      "Imputing row 401/5910 with 1 missing, elapsed time: 12.006\n",
      "Imputing row 501/5910 with 0 missing, elapsed time: 12.022\n",
      "Imputing row 601/5910 with 1 missing, elapsed time: 12.022\n",
      "Imputing row 701/5910 with 1 missing, elapsed time: 12.022\n",
      "Imputing row 801/5910 with 1 missing, elapsed time: 12.022\n",
      "Imputing row 901/5910 with 0 missing, elapsed time: 12.038\n",
      "Imputing row 1001/5910 with 3 missing, elapsed time: 12.038\n",
      "Imputing row 1101/5910 with 0 missing, elapsed time: 12.038\n",
      "Imputing row 1201/5910 with 1 missing, elapsed time: 12.038\n",
      "Imputing row 1301/5910 with 1 missing, elapsed time: 12.038\n",
      "Imputing row 1401/5910 with 1 missing, elapsed time: 12.053\n",
      "Imputing row 1501/5910 with 0 missing, elapsed time: 12.053\n",
      "Imputing row 1601/5910 with 0 missing, elapsed time: 12.053\n",
      "Imputing row 1701/5910 with 0 missing, elapsed time: 12.053\n",
      "Imputing row 1801/5910 with 1 missing, elapsed time: 12.053\n",
      "Imputing row 1901/5910 with 0 missing, elapsed time: 12.069\n",
      "Imputing row 2001/5910 with 1 missing, elapsed time: 12.069\n",
      "Imputing row 2101/5910 with 1 missing, elapsed time: 12.069\n",
      "Imputing row 2201/5910 with 1 missing, elapsed time: 12.084\n",
      "Imputing row 2301/5910 with 0 missing, elapsed time: 12.084\n",
      "Imputing row 2401/5910 with 1 missing, elapsed time: 12.084\n",
      "Imputing row 2501/5910 with 0 missing, elapsed time: 12.084\n",
      "Imputing row 2601/5910 with 1 missing, elapsed time: 12.100\n",
      "Imputing row 2701/5910 with 1 missing, elapsed time: 12.100\n",
      "Imputing row 2801/5910 with 0 missing, elapsed time: 12.100\n",
      "Imputing row 2901/5910 with 1 missing, elapsed time: 12.116\n",
      "Imputing row 3001/5910 with 0 missing, elapsed time: 12.116\n",
      "Imputing row 3101/5910 with 0 missing, elapsed time: 12.116\n",
      "Imputing row 3201/5910 with 0 missing, elapsed time: 12.116\n",
      "Imputing row 3301/5910 with 4 missing, elapsed time: 12.131\n",
      "Imputing row 3401/5910 with 1 missing, elapsed time: 12.131\n",
      "Imputing row 3501/5910 with 0 missing, elapsed time: 12.131\n",
      "Imputing row 3601/5910 with 1 missing, elapsed time: 12.131\n",
      "Imputing row 3701/5910 with 0 missing, elapsed time: 12.147\n",
      "Imputing row 3801/5910 with 0 missing, elapsed time: 12.147\n",
      "Imputing row 3901/5910 with 0 missing, elapsed time: 12.147\n",
      "Imputing row 4001/5910 with 1 missing, elapsed time: 12.147\n",
      "Imputing row 4101/5910 with 0 missing, elapsed time: 12.163\n",
      "Imputing row 4201/5910 with 0 missing, elapsed time: 12.163\n",
      "Imputing row 4301/5910 with 0 missing, elapsed time: 12.163\n",
      "Imputing row 4401/5910 with 0 missing, elapsed time: 12.163\n",
      "Imputing row 4501/5910 with 1 missing, elapsed time: 12.163\n",
      "Imputing row 4601/5910 with 1 missing, elapsed time: 12.178\n",
      "Imputing row 4701/5910 with 0 missing, elapsed time: 12.184\n",
      "Imputing row 4801/5910 with 0 missing, elapsed time: 12.189\n",
      "Imputing row 4901/5910 with 0 missing, elapsed time: 12.194\n",
      "Imputing row 5001/5910 with 0 missing, elapsed time: 12.198\n",
      "Imputing row 5101/5910 with 1 missing, elapsed time: 12.202\n",
      "Imputing row 5201/5910 with 0 missing, elapsed time: 12.206\n",
      "Imputing row 5301/5910 with 0 missing, elapsed time: 12.211\n",
      "Imputing row 5401/5910 with 0 missing, elapsed time: 12.214\n",
      "Imputing row 5501/5910 with 0 missing, elapsed time: 12.218\n",
      "Imputing row 5601/5910 with 1 missing, elapsed time: 12.223\n",
      "Imputing row 5701/5910 with 5 missing, elapsed time: 12.231\n",
      "Imputing row 5801/5910 with 2 missing, elapsed time: 12.238\n",
      "Imputing row 5901/5910 with 1 missing, elapsed time: 12.251\n"
     ]
    }
   ],
   "source": [
    "X_filled_knn = KNN(k=75).fit_transform(X)"
   ]
  },
  {
   "cell_type": "code",
   "execution_count": 7,
   "metadata": {},
   "outputs": [],
   "source": [
    "#Normalization\n",
    "scaler=StandardScaler()\n",
    "X_filled_knn=scaler.fit_transform(X_filled_knn)"
   ]
  },
  {
   "cell_type": "code",
   "execution_count": 8,
   "metadata": {},
   "outputs": [],
   "source": [
    "df_KNN=pd.DataFrame(X_filled_knn,columns=X.columns)"
   ]
  },
  {
   "cell_type": "markdown",
   "metadata": {},
   "source": [
    "# Visualize correlation"
   ]
  },
  {
   "cell_type": "code",
   "execution_count": 9,
   "metadata": {},
   "outputs": [],
   "source": [
    "corr=df_KNN.corr()"
   ]
  },
  {
   "cell_type": "code",
   "execution_count": 10,
   "metadata": {},
   "outputs": [],
   "source": [
    "corr_matrix =corr.abs()"
   ]
  },
  {
   "cell_type": "code",
   "execution_count": 11,
   "metadata": {},
   "outputs": [
    {
     "data": {
      "text/plain": [
       "<matplotlib.axes._subplots.AxesSubplot at 0x23b148b6f60>"
      ]
     },
     "execution_count": 11,
     "metadata": {},
     "output_type": "execute_result"
    },
    {
     "data": {
      "image/png": "[encoded data removed]",
      "text/plain": [
       "<Figure size 1440x1152 with 2 Axes>"
      ]
     },
     "metadata": {},
     "output_type": "display_data"
    }
   ],
   "source": [
    "sns.set(style=\"white\")\n",
    "mask = np.zeros_like(corr_matrix, dtype=np.bool)\n",
    "mask[np.triu_indices_from(mask)] = True\n",
    "f, ax = plt.subplots(figsize=(20, 16))\n",
    "cmap = sns.diverging_palette(250, 15, as_cmap=True,s=75, l=40,sep=20)\n",
    "sns.heatmap(corr_matrix, mask=mask, cmap=cmap, vmax=1, center=0,square=True, linewidths=.5, cbar_kws={\"shrink\": .5})"
   ]
  },
  {
   "cell_type": "code",
   "execution_count": 128,
   "metadata": {},
   "outputs": [],
   "source": [
    "#filter out features that are greater than threshold\n",
    "#We Do NOT drop features\n",
    "# upper = corr_matrix.where(np.triu(np.ones(corr_matrix.shape), k=1).astype(np.bool)) #upper matrix\n",
    "# to_drop = [column for column in upper.columns if any(upper[column] > 0.8)]  #drop correlation >0.8\n",
    "# df_important_features=df_KNN.drop(df_KNN[to_drop], axis=1)  # drop high correlated features\n",
    "#df_important_features.columns"
   ]
  },
  {
   "cell_type": "code",
   "execution_count": null,
   "metadata": {},
   "outputs": [],
   "source": []
  },
  {
   "cell_type": "markdown",
   "metadata": {},
   "source": [
    "# Handling imbalance data"
   ]
  },
  {
   "cell_type": "code",
   "execution_count": 14,
   "metadata": {},
   "outputs": [
    {
     "data": {
      "image/png": "[encoded data removed]",
      "text/plain": [
       "<Figure size 432x288 with 1 Axes>"
      ]
     },
     "metadata": {},
     "output_type": "display_data"
    }
   ],
   "source": [
    "#imbalanced classification\n",
    "(df['class']).value_counts().plot(kind ='pie', autopct='%1.2f%%')\n",
    "plt.show();"
   ]
  },
  {
   "cell_type": "markdown",
   "metadata": {},
   "source": [
    "# Stratified CV and SMOTE and Data Modeling"
   ]
  },
  {
   "cell_type": "code",
   "execution_count": 21,
   "metadata": {},
   "outputs": [],
   "source": [
    "#make f2 score \n",
    "f2=make_scorer(fbeta_score,beta=2)"
   ]
  },
  {
   "cell_type": "code",
   "execution_count": 22,
   "metadata": {},
   "outputs": [],
   "source": [
    "#Over-Sampling (SMOTE)\n",
    "from imblearn.over_sampling import SMOTE\n",
    "sm=SMOTE(random_state=2019)\n",
    "pipe1=make_pipline_imb(SMOTE(random_state=2019),LogisticRegression(solver='lbfgs',random_state=2019)) \n",
    "skf=StratifiedKFold(n_splits=5,shuffle=True,random_state=2019)"
   ]
  },
  {
   "cell_type": "code",
   "execution_count": 23,
   "metadata": {},
   "outputs": [],
   "source": [
    "#prepare a df to metrics\n",
    "metrics=pd.DataFrame(index=['accuracy','precision','recall','f1 score','f2 score'],\n",
    "                     columns=['LogisticReg','DecisionTree','SVM','RandomForest','AdaBoost','XGBoosting'])"
   ]
  },
  {
   "cell_type": "code",
   "execution_count": 24,
   "metadata": {},
   "outputs": [
    {
     "data": {
      "text/html": [
       "<div>\n",
       "<style scoped>\n",
       "    .dataframe tbody tr th:only-of-type {\n",
       "        vertical-align: middle;\n",
       "    }\n",
       "\n",
       "    .dataframe tbody tr th {\n",
       "        vertical-align: top;\n",
       "    }\n",
       "\n",
       "    .dataframe thead th {\n",
       "        text-align: right;\n",
       "    }\n",
       "</style>\n",
       "<table border=\"1\" class=\"dataframe\">\n",
       "  <thead>\n",
       "    <tr style=\"text-align: right;\">\n",
       "      <th></th>\n",
       "      <th>LogisticReg</th>\n",
       "      <th>DecisionTree</th>\n",
       "      <th>SVM</th>\n",
       "      <th>RandomForest</th>\n",
       "      <th>AdaBoost</th>\n",
       "      <th>XGBoosting</th>\n",
       "    </tr>\n",
       "  </thead>\n",
       "  <tbody>\n",
       "    <tr>\n",
       "      <th>accuracy</th>\n",
       "      <td>NaN</td>\n",
       "      <td>NaN</td>\n",
       "      <td>NaN</td>\n",
       "      <td>NaN</td>\n",
       "      <td>NaN</td>\n",
       "      <td>NaN</td>\n",
       "    </tr>\n",
       "    <tr>\n",
       "      <th>precision</th>\n",
       "      <td>NaN</td>\n",
       "      <td>NaN</td>\n",
       "      <td>NaN</td>\n",
       "      <td>NaN</td>\n",
       "      <td>NaN</td>\n",
       "      <td>NaN</td>\n",
       "    </tr>\n",
       "    <tr>\n",
       "      <th>recall</th>\n",
       "      <td>NaN</td>\n",
       "      <td>NaN</td>\n",
       "      <td>NaN</td>\n",
       "      <td>NaN</td>\n",
       "      <td>NaN</td>\n",
       "      <td>NaN</td>\n",
       "    </tr>\n",
       "    <tr>\n",
       "      <th>f1 score</th>\n",
       "      <td>NaN</td>\n",
       "      <td>NaN</td>\n",
       "      <td>NaN</td>\n",
       "      <td>NaN</td>\n",
       "      <td>NaN</td>\n",
       "      <td>NaN</td>\n",
       "    </tr>\n",
       "    <tr>\n",
       "      <th>f2 score</th>\n",
       "      <td>NaN</td>\n",
       "      <td>NaN</td>\n",
       "      <td>NaN</td>\n",
       "      <td>NaN</td>\n",
       "      <td>NaN</td>\n",
       "      <td>NaN</td>\n",
       "    </tr>\n",
       "  </tbody>\n",
       "</table>\n",
       "</div>"
      ],
      "text/plain": [
       "          LogisticReg DecisionTree  SVM RandomForest AdaBoost XGBoosting\n",
       "accuracy          NaN          NaN  NaN          NaN      NaN        NaN\n",
       "precision         NaN          NaN  NaN          NaN      NaN        NaN\n",
       "recall            NaN          NaN  NaN          NaN      NaN        NaN\n",
       "f1 score          NaN          NaN  NaN          NaN      NaN        NaN\n",
       "f2 score          NaN          NaN  NaN          NaN      NaN        NaN"
      ]
     },
     "execution_count": 24,
     "metadata": {},
     "output_type": "execute_result"
    }
   ],
   "source": [
    "metrics"
   ]
  },
  {
   "cell_type": "code",
   "execution_count": 85,
   "metadata": {
    "scrolled": false
   },
   "outputs": [
    {
     "name": "stdout",
     "output_type": "stream",
     "text": [
      "############################################################\n",
      "[[878 222]\n",
      " [ 23  59]]\n",
      "accuracy score 0.7927241962774958\n",
      "              precision    recall  f1-score   support\n",
      "\n",
      "         0.0       0.97      0.80      0.88      1100\n",
      "         1.0       0.21      0.72      0.33        82\n",
      "\n",
      "    accuracy                           0.79      1182\n",
      "   macro avg       0.59      0.76      0.60      1182\n",
      "weighted avg       0.92      0.79      0.84      1182\n",
      "\n",
      "############################################################\n",
      "############################################################\n",
      "############################################################\n",
      "[[898 202]\n",
      " [ 32  50]]\n",
      "accuracy score 0.8020304568527918\n",
      "              precision    recall  f1-score   support\n",
      "\n",
      "         0.0       0.97      0.82      0.88      1100\n",
      "         1.0       0.20      0.61      0.30        82\n",
      "\n",
      "    accuracy                           0.80      1182\n",
      "   macro avg       0.58      0.71      0.59      1182\n",
      "weighted avg       0.91      0.80      0.84      1182\n",
      "\n",
      "############################################################\n",
      "############################################################\n",
      "############################################################\n",
      "[[907 193]\n",
      " [ 25  57]]\n",
      "accuracy score 0.8155668358714044\n",
      "              precision    recall  f1-score   support\n",
      "\n",
      "         0.0       0.97      0.82      0.89      1100\n",
      "         1.0       0.23      0.70      0.34        82\n",
      "\n",
      "    accuracy                           0.82      1182\n",
      "   macro avg       0.60      0.76      0.62      1182\n",
      "weighted avg       0.92      0.82      0.85      1182\n",
      "\n",
      "############################################################\n",
      "############################################################\n",
      "############################################################\n",
      "[[912 188]\n",
      " [ 26  56]]\n",
      "accuracy score 0.8189509306260575\n",
      "              precision    recall  f1-score   support\n",
      "\n",
      "         0.0       0.97      0.83      0.89      1100\n",
      "         1.0       0.23      0.68      0.34        82\n",
      "\n",
      "    accuracy                           0.82      1182\n",
      "   macro avg       0.60      0.76      0.62      1182\n",
      "weighted avg       0.92      0.82      0.86      1182\n",
      "\n",
      "############################################################\n",
      "############################################################\n",
      "############################################################\n",
      "[[886 214]\n",
      " [ 27  55]]\n",
      "accuracy score 0.7961082910321489\n",
      "              precision    recall  f1-score   support\n",
      "\n",
      "         0.0       0.97      0.81      0.88      1100\n",
      "         1.0       0.20      0.67      0.31        82\n",
      "\n",
      "    accuracy                           0.80      1182\n",
      "   macro avg       0.59      0.74      0.60      1182\n",
      "weighted avg       0.92      0.80      0.84      1182\n",
      "\n",
      "############################################################\n",
      "############################################################\n",
      "\n",
      "Logistic Regression\n",
      "Stratified Kfold score with SMOTE: \n",
      "\n",
      "Accuracy: 0.8050761421319799\n",
      "Precision: 0.21406925489762973\n",
      "Recall: 0.675609756097561\n",
      "f1: 0.32495843154060255\n",
      "f2: 0.4717323459543089\n"
     ]
    },
    {
     "data": {
      "image/png": "[encoded data removed]",
      "text/plain": [
       "<Figure size 432x288 with 1 Axes>"
      ]
     },
     "metadata": {
      "needs_background": "light"
     },
     "output_type": "display_data"
    },
    {
     "data": {
      "image/png": "[encoded data removed]",
      "text/plain": [
       "<Figure size 432x288 with 1 Axes>"
      ]
     },
     "metadata": {
      "needs_background": "light"
     },
     "output_type": "display_data"
    },
    {
     "data": {
      "image/png": "[encoded data removed]",
      "text/plain": [
       "<Figure size 432x288 with 1 Axes>"
      ]
     },
     "metadata": {
      "needs_background": "light"
     },
     "output_type": "display_data"
    },
    {
     "data": {
      "image/png": "[encoded data removed]",
      "text/plain": [
       "<Figure size 432x288 with 1 Axes>"
      ]
     },
     "metadata": {
      "needs_background": "light"
     },
     "output_type": "display_data"
    },
    {
     "data": {
      "image/png": "[encoded data removed]",
      "text/plain": [
       "<Figure size 432x288 with 1 Axes>"
      ]
     },
     "metadata": {
      "needs_background": "light"
     },
     "output_type": "display_data"
    }
   ],
   "source": [
    "#with SMOTE\n",
    "\n",
    "#skf.get_n_splits(X,y)\n",
    "accuracy_smote=[]\n",
    "precision_smote=[]\n",
    "recall_smote=[]\n",
    "f1_smote=[]\n",
    "f2_smote=[]\n",
    "auc_smote=[]\n",
    "for train_index,test_index in skf.split(X_filled_knn,y):\n",
    "    X_train,X_test=X_filled_knn[train_index],X_filled_knn[test_index]\n",
    "    y_train,y_test=y.iloc[train_index].values,y.iloc[test_index].values\n",
    "    y_train,y_test=y_train.reshape(-1,1),y_test.reshape(-1,1)\n",
    "    \n",
    "    model=pipe1.fit(X_train,y_train.ravel())\n",
    "    prediction=model.predict(X_test)\n",
    "    \n",
    "    conf_matrix=confusion_matrix(y_test,prediction)\n",
    "    print(\"#\"*60)\n",
    "    print(conf_matrix)\n",
    "    print('accuracy score',accuracy_score(y_test,prediction))\n",
    "    print(classification_report(y_test, prediction))\n",
    "    print(\"#\"*60)\n",
    "    plot_confusion_matrix(confusion_matrix(y_test, prediction),cmap='RdYlBu')\n",
    "    print(\"#\"*60)\n",
    "    \n",
    "    accuracy_smote.append(pipe1.score(X_test,y_test))\n",
    "    precision_smote.append(precision_score(y_test,prediction))\n",
    "    recall_smote.append(recall_score(y_test,prediction))\n",
    "    f1_smote.append(f1_score(y_test,prediction))\n",
    "    f2_smote.append(f2(pipe1,X_test,y_test))\n",
    "    #auc_smote.append(roc_auc_score(y_test,prediction))\n",
    "print()\n",
    "print(\"Logistic Regression\")\n",
    "print(\"Stratified Kfold score with SMOTE: \\n\")\n",
    "print(\"Accuracy: {}\".format(np.mean(accuracy_smote)))\n",
    "print(\"Precision: {}\".format(np.mean(precision_smote)))\n",
    "print(\"Recall: {}\".format(np.mean(recall_smote)))\n",
    "print(\"f1: {}\".format(np.mean(f1_smote)))\n",
    "print(\"f2: {}\".format(np.mean(f2_smote)))\n",
    "metrics.loc['accuracy','LogisticReg']=np.mean(accuracy_smote)\n",
    "metrics.loc['precision','LogisticReg']=np.mean(precision_smote)\n",
    "metrics.loc['recall','LogisticReg']=np.mean(recall_smote)\n",
    "metrics.loc['f1 score','LogisticReg']=np.mean(f1_smote)\n",
    "metrics.loc['f2 score','LogisticReg']=np.mean(f2_smote)"
   ]
  },
  {
   "cell_type": "code",
   "execution_count": 86,
   "metadata": {},
   "outputs": [
    {
     "data": {
      "text/html": [
       "<div>\n",
       "<style scoped>\n",
       "    .dataframe tbody tr th:only-of-type {\n",
       "        vertical-align: middle;\n",
       "    }\n",
       "\n",
       "    .dataframe tbody tr th {\n",
       "        vertical-align: top;\n",
       "    }\n",
       "\n",
       "    .dataframe thead th {\n",
       "        text-align: right;\n",
       "    }\n",
       "</style>\n",
       "<table border=\"1\" class=\"dataframe\">\n",
       "  <thead>\n",
       "    <tr style=\"text-align: right;\">\n",
       "      <th></th>\n",
       "      <th>LogisticReg</th>\n",
       "      <th>DecisionTree</th>\n",
       "      <th>SVM</th>\n",
       "      <th>RandomForest</th>\n",
       "      <th>AdaBoost</th>\n",
       "      <th>XGBoosting</th>\n",
       "    </tr>\n",
       "  </thead>\n",
       "  <tbody>\n",
       "    <tr>\n",
       "      <th>accuracy</th>\n",
       "      <td>0.805076</td>\n",
       "      <td>0.832657</td>\n",
       "      <td>0.813536</td>\n",
       "      <td>0.91286</td>\n",
       "      <td>0.856176</td>\n",
       "      <td>0.878003</td>\n",
       "    </tr>\n",
       "    <tr>\n",
       "      <th>precision</th>\n",
       "      <td>0.214069</td>\n",
       "      <td>0.248937</td>\n",
       "      <td>0.219301</td>\n",
       "      <td>0.396813</td>\n",
       "      <td>0.274298</td>\n",
       "      <td>0.318667</td>\n",
       "    </tr>\n",
       "    <tr>\n",
       "      <th>recall</th>\n",
       "      <td>0.67561</td>\n",
       "      <td>0.678049</td>\n",
       "      <td>0.658537</td>\n",
       "      <td>0.478049</td>\n",
       "      <td>0.64878</td>\n",
       "      <td>0.656098</td>\n",
       "    </tr>\n",
       "    <tr>\n",
       "      <th>f1 score</th>\n",
       "      <td>0.324958</td>\n",
       "      <td>0.361906</td>\n",
       "      <td>0.328885</td>\n",
       "      <td>0.43282</td>\n",
       "      <td>0.385121</td>\n",
       "      <td>0.428042</td>\n",
       "    </tr>\n",
       "    <tr>\n",
       "      <th>f2 score</th>\n",
       "      <td>0.471732</td>\n",
       "      <td>0.500575</td>\n",
       "      <td>0.469916</td>\n",
       "      <td>0.45859</td>\n",
       "      <td>0.508953</td>\n",
       "      <td>0.540247</td>\n",
       "    </tr>\n",
       "  </tbody>\n",
       "</table>\n",
       "</div>"
      ],
      "text/plain": [
       "          LogisticReg DecisionTree       SVM RandomForest  AdaBoost XGBoosting\n",
       "accuracy     0.805076     0.832657  0.813536      0.91286  0.856176   0.878003\n",
       "precision    0.214069     0.248937  0.219301     0.396813  0.274298   0.318667\n",
       "recall        0.67561     0.678049  0.658537     0.478049   0.64878   0.656098\n",
       "f1 score     0.324958     0.361906  0.328885      0.43282  0.385121   0.428042\n",
       "f2 score     0.471732     0.500575  0.469916      0.45859  0.508953   0.540247"
      ]
     },
     "execution_count": 86,
     "metadata": {},
     "output_type": "execute_result"
    }
   ],
   "source": [
    "metrics"
   ]
  },
  {
   "cell_type": "code",
   "execution_count": 87,
   "metadata": {
    "scrolled": false
   },
   "outputs": [
    {
     "name": "stdout",
     "output_type": "stream",
     "text": [
      "############################################################\n",
      "[[1095    5]\n",
      " [  72   10]]\n",
      "accuracy score 0.9348561759729273\n",
      "              precision    recall  f1-score   support\n",
      "\n",
      "         0.0       0.94      1.00      0.97      1100\n",
      "         1.0       0.67      0.12      0.21        82\n",
      "\n",
      "    accuracy                           0.93      1182\n",
      "   macro avg       0.80      0.56      0.59      1182\n",
      "weighted avg       0.92      0.93      0.91      1182\n",
      "\n",
      "############################################################\n",
      "############################################################\n",
      "############################################################\n",
      "[[1094    6]\n",
      " [  76    6]]\n",
      "accuracy score 0.9306260575296108\n",
      "              precision    recall  f1-score   support\n",
      "\n",
      "         0.0       0.94      0.99      0.96      1100\n",
      "         1.0       0.50      0.07      0.13        82\n",
      "\n",
      "    accuracy                           0.93      1182\n",
      "   macro avg       0.72      0.53      0.55      1182\n",
      "weighted avg       0.90      0.93      0.91      1182\n",
      "\n",
      "############################################################\n",
      "############################################################\n",
      "############################################################\n",
      "[[1094    6]\n",
      " [  79    3]]\n",
      "accuracy score 0.928087986463621\n",
      "              precision    recall  f1-score   support\n",
      "\n",
      "         0.0       0.93      0.99      0.96      1100\n",
      "         1.0       0.33      0.04      0.07        82\n",
      "\n",
      "    accuracy                           0.93      1182\n",
      "   macro avg       0.63      0.52      0.51      1182\n",
      "weighted avg       0.89      0.93      0.90      1182\n",
      "\n",
      "############################################################\n",
      "############################################################\n",
      "############################################################\n",
      "[[1088   12]\n",
      " [  74    8]]\n",
      "accuracy score 0.9272419627749577\n",
      "              precision    recall  f1-score   support\n",
      "\n",
      "         0.0       0.94      0.99      0.96      1100\n",
      "         1.0       0.40      0.10      0.16        82\n",
      "\n",
      "    accuracy                           0.93      1182\n",
      "   macro avg       0.67      0.54      0.56      1182\n",
      "weighted avg       0.90      0.93      0.91      1182\n",
      "\n",
      "############################################################\n",
      "############################################################\n",
      "############################################################\n",
      "[[1090   10]\n",
      " [  75    7]]\n",
      "accuracy score 0.928087986463621\n",
      "              precision    recall  f1-score   support\n",
      "\n",
      "         0.0       0.94      0.99      0.96      1100\n",
      "         1.0       0.41      0.09      0.14        82\n",
      "\n",
      "    accuracy                           0.93      1182\n",
      "   macro avg       0.67      0.54      0.55      1182\n",
      "weighted avg       0.90      0.93      0.91      1182\n",
      "\n",
      "############################################################\n",
      "############################################################\n",
      "\n",
      "Logistic Regression\n",
      "Stratified Kfold score without SMOTE: \n",
      "\n",
      "Accuracy: 0.9297800338409475\n",
      "Precision: 0.4623529411764705\n",
      "Recall: 0.08292682926829269\n",
      "f1: 0.1396112187849282\n",
      "f2: 0.09898201574489225\n",
      "\n"
     ]
    },
    {
     "data": {
      "image/png": "[encoded data removed]",
      "text/plain": [
       "<Figure size 432x288 with 1 Axes>"
      ]
     },
     "metadata": {
      "needs_background": "light"
     },
     "output_type": "display_data"
    },
    {
     "data": {
      "image/png": "[encoded data removed]",
      "text/plain": [
       "<Figure size 432x288 with 1 Axes>"
      ]
     },
     "metadata": {
      "needs_background": "light"
     },
     "output_type": "display_data"
    },
    {
     "data": {
      "image/png": "[encoded data removed]",
      "text/plain": [
       "<Figure size 432x288 with 1 Axes>"
      ]
     },
     "metadata": {
      "needs_background": "light"
     },
     "output_type": "display_data"
    },
    {
     "data": {
      "image/png": "[encoded data removed]",
      "text/plain": [
       "<Figure size 432x288 with 1 Axes>"
      ]
     },
     "metadata": {
      "needs_background": "light"
     },
     "output_type": "display_data"
    },
    {
     "data": {
      "image/png": "[encoded data removed]",
      "text/plain": [
       "<Figure size 432x288 with 1 Axes>"
      ]
     },
     "metadata": {
      "needs_background": "light"
     },
     "output_type": "display_data"
    }
   ],
   "source": [
    "#without SMOTE\n",
    "skf=StratifiedKFold(n_splits=5,shuffle=True,random_state=2019)\n",
    "accuracy=[]\n",
    "precision=[]\n",
    "recall=[]\n",
    "f1=[]\n",
    "f2_score=[]\n",
    "auc=[]\n",
    "for train_index,test_index in skf.split(X_filled_knn,y):\n",
    "    X_train,X_test=X_filled_knn[train_index],X_filled_knn[test_index]\n",
    "    y_train,y_test=y.iloc[train_index].values,y.iloc[test_index].values\n",
    "    y_train,y_test=y_train.reshape(-1,1),y_test.reshape(-1,1)\n",
    "    \n",
    "    logreg=LogisticRegression(random_state=2019,solver='lbfgs')\n",
    "    logreg.fit(X_train,y_train.ravel())\n",
    "    prediction=logreg.predict(X_test)\n",
    "    \n",
    "    conf_matrix=confusion_matrix(y_test,prediction)\n",
    "    print(\"#\"*60)\n",
    "    print(conf_matrix)\n",
    "    print('accuracy score',accuracy_score(y_test,prediction))\n",
    "    print(classification_report(y_test, prediction))\n",
    "    print(\"#\"*60)\n",
    "    plot_confusion_matrix(confusion_matrix(y_test, prediction),cmap='RdYlBu')\n",
    "    print(\"#\"*60)\n",
    "    \n",
    "    accuracy.append(logreg.score(X_test,y_test))\n",
    "    precision.append(precision_score(y_test,prediction))\n",
    "    recall.append(recall_score(y_test,prediction))\n",
    "    f1.append(f1_score(y_test,prediction))\n",
    "    f2_score.append(f2(logreg,X_test,y_test))\n",
    "    #auc.append(roc_auc_score(y_test,prediction))\n",
    "print()\n",
    "print(\"Logistic Regression\")\n",
    "print(\"Stratified Kfold score without SMOTE: \\n\")\n",
    "print(\"Accuracy: {}\".format(np.mean(accuracy)))\n",
    "print(\"Precision: {}\".format(np.mean(precision)))\n",
    "print(\"Recall: {}\".format(np.mean(recall)))\n",
    "print(\"f1: {}\".format(np.mean(f1)))\n",
    "print(\"f2: {}\".format(np.mean(f2_score)))\n",
    "print()"
   ]
  },
  {
   "cell_type": "markdown",
   "metadata": {},
   "source": [
    "Because the data is imbalanced, we observed poor recall score even though the accuracy is high. <br>\n",
    "As most of classification is 0, we have many False Negative label in confusion matrix, leading to poor recall score. <br>\n",
    "In contrast, we have better recall score using SMOTE (over-sampling) to re-balance the classification. <br>\n",
    "We also  would like to emphasis on \"Recall\" and \"Precision\" <br> \n",
    "Recall is an important score in predicting potential bankcrupcy companies . <br>  This is because people want to know how many bankcrupcy companies the model can identify given that <br>the bankcrupcy companies are known.<br>\n",
    "Precision: Given that model predict 10 firms, how many are actual bankcrupt companies.<br>\n",
    "In other words, low Precision score can make investors to miss opportunity investing in good companies <br>\n",
    "Overall, we want to add more weight to recall than precision. Therefore, we are going to use f2 score in model evaluation\n"
   ]
  },
  {
   "cell_type": "code",
   "execution_count": 88,
   "metadata": {
    "scrolled": false
   },
   "outputs": [
    {
     "name": "stdout",
     "output_type": "stream",
     "text": [
      "############################################################\n",
      "[[949 151]\n",
      " [ 21  61]]\n",
      "accuracy score 0.8544839255499154\n",
      "              precision    recall  f1-score   support\n",
      "\n",
      "         0.0       0.98      0.86      0.92      1100\n",
      "         1.0       0.29      0.74      0.41        82\n",
      "\n",
      "    accuracy                           0.85      1182\n",
      "   macro avg       0.63      0.80      0.67      1182\n",
      "weighted avg       0.93      0.85      0.88      1182\n",
      "\n",
      "############################################################\n",
      "############################################################\n",
      "############################################################\n",
      "[[998 102]\n",
      " [ 31  51]]\n",
      "accuracy score 0.8874788494077834\n",
      "              precision    recall  f1-score   support\n",
      "\n",
      "         0.0       0.97      0.91      0.94      1100\n",
      "         1.0       0.33      0.62      0.43        82\n",
      "\n",
      "    accuracy                           0.89      1182\n",
      "   macro avg       0.65      0.76      0.69      1182\n",
      "weighted avg       0.93      0.89      0.90      1182\n",
      "\n",
      "############################################################\n",
      "############################################################\n",
      "############################################################\n",
      "[[1004   96]\n",
      " [  39   43]]\n",
      "accuracy score 0.8857868020304569\n",
      "              precision    recall  f1-score   support\n",
      "\n",
      "         0.0       0.96      0.91      0.94      1100\n",
      "         1.0       0.31      0.52      0.39        82\n",
      "\n",
      "    accuracy                           0.89      1182\n",
      "   macro avg       0.64      0.72      0.66      1182\n",
      "weighted avg       0.92      0.89      0.90      1182\n",
      "\n",
      "############################################################\n",
      "############################################################\n",
      "############################################################\n",
      "[[963 137]\n",
      " [ 31  51]]\n",
      "accuracy score 0.8578680203045685\n",
      "              precision    recall  f1-score   support\n",
      "\n",
      "         0.0       0.97      0.88      0.92      1100\n",
      "         1.0       0.27      0.62      0.38        82\n",
      "\n",
      "    accuracy                           0.86      1182\n",
      "   macro avg       0.62      0.75      0.65      1182\n",
      "weighted avg       0.92      0.86      0.88      1182\n",
      "\n",
      "############################################################\n",
      "############################################################\n",
      "############################################################\n",
      "[[920 180]\n",
      " [ 22  60]]\n",
      "accuracy score 0.8291032148900169\n",
      "              precision    recall  f1-score   support\n",
      "\n",
      "         0.0       0.98      0.84      0.90      1100\n",
      "         1.0       0.25      0.73      0.37        82\n",
      "\n",
      "    accuracy                           0.83      1182\n",
      "   macro avg       0.61      0.78      0.64      1182\n",
      "weighted avg       0.93      0.83      0.86      1182\n",
      "\n",
      "############################################################\n",
      "############################################################\n",
      "\n",
      "Decision Tree\n",
      "Stratified Kfold score with SMOTE: \n",
      "\n",
      "Accuracy: 0.8629441624365481\n",
      "Precision: 0.29033965922404587\n",
      "Recall: 0.6487804878048781\n",
      "f1: 0.3977194792620907\n",
      "f2: 0.5155401689057285\n"
     ]
    },
    {
     "data": {
      "image/png": "[encoded data removed]",
      "text/plain": [
       "<Figure size 432x288 with 1 Axes>"
      ]
     },
     "metadata": {
      "needs_background": "light"
     },
     "output_type": "display_data"
    },
    {
     "data": {
      "image/png": "[encoded data removed]",
      "text/plain": [
       "<Figure size 432x288 with 1 Axes>"
      ]
     },
     "metadata": {
      "needs_background": "light"
     },
     "output_type": "display_data"
    },
    {
     "data": {
      "image/png": "[encoded data removed]",
      "text/plain": [
       "<Figure size 432x288 with 1 Axes>"
      ]
     },
     "metadata": {
      "needs_background": "light"
     },
     "output_type": "display_data"
    },
    {
     "data": {
      "image/png": "[encoded data removed]",
      "text/plain": [
       "<Figure size 432x288 with 1 Axes>"
      ]
     },
     "metadata": {
      "needs_background": "light"
     },
     "output_type": "display_data"
    },
    {
     "data": {
      "image/png": "[encoded data removed]",
      "text/plain": [
       "<Figure size 432x288 with 1 Axes>"
      ]
     },
     "metadata": {
      "needs_background": "light"
     },
     "output_type": "display_data"
    }
   ],
   "source": [
    "\n",
    "#SMOTE with Decision Tree\n",
    "pipe2=make_pipline_imb(SMOTE(random_state=2019),DecisionTreeClassifier(random_state=2019,max_depth=7))\n",
    "\n",
    "accuracy_DT=[]\n",
    "precision_DT=[]\n",
    "recall_DT=[]\n",
    "f1_DT=[]\n",
    "f2_DT=[]\n",
    "auc_DT=[]\n",
    "for train_index,test_index in skf.split(X_filled_knn,y):\n",
    "    X_train,X_test=X_filled_knn[train_index],X_filled_knn[test_index]\n",
    "    y_train,y_test=y.iloc[train_index].values,y.iloc[test_index].values\n",
    "    y_train,y_test=y_train.reshape(-1,1),y_test.reshape(-1,1)\n",
    "    \n",
    "    #model=pipe2.fit(X_train,y_train.ravel())\n",
    "    sm = SMOTE(random_state=2019)\n",
    "    X_res, y_res = sm.fit_resample(X_train, y_train)\n",
    "    model=DecisionTreeClassifier(random_state=2019,max_depth=7)\n",
    "    model.fit(X_res,y_res)\n",
    "    prediction=model.predict(X_test)\n",
    "    \n",
    "    accuracy_DT.append(model.score(X_test,y_test))\n",
    "    precision_DT.append(precision_score(y_test,prediction))\n",
    "    recall_DT.append(recall_score(y_test,prediction))\n",
    "    f1_DT.append(f1_score(y_test,prediction))\n",
    "    f2_DT.append(f2(model,X_test,y_test))\n",
    "    auc_DT.append(roc_auc_score(y_test,prediction))\n",
    "    \n",
    "    \n",
    "    conf_matrix=confusion_matrix(y_test,prediction)\n",
    "    print(\"#\"*60)\n",
    "    print(conf_matrix)\n",
    "    print('accuracy score',accuracy_score(y_test,prediction))\n",
    "    print(classification_report(y_test, prediction))\n",
    "    print(\"#\"*60)\n",
    "    plot_confusion_matrix(confusion_matrix(y_test, prediction),cmap='RdYlBu')\n",
    "    print(\"#\"*60)\n",
    "    \n",
    "    #try to plot decision tree\n",
    "#     features = list(df_important_features.columns)\n",
    "#     tree.export_graphviz(model,out_file='tree.dot')\n",
    "#     dot_data = StringIO() \n",
    "#     tree.export_graphviz(model, out_file=dot_data)\n",
    "#     export_graphviz(model, out_file=dot_data,feature_names=features,filled=True,rounded=True)\n",
    "\n",
    "#     graph = pydot.graph_from_dot_data(dot_data.getvalue())\n",
    "#     #graph.write_pdf(\"tree.pdf\")\n",
    "#     Image(graph[0].create_png()) \n",
    "    \n",
    "print()\n",
    "print(\"Decision Tree\")\n",
    "print(\"Stratified Kfold score with SMOTE: \\n\")\n",
    "print(\"Accuracy: {}\".format(np.mean(accuracy_DT)))\n",
    "print(\"Precision: {}\".format(np.mean(precision_DT)))\n",
    "print(\"Recall: {}\".format(np.mean(recall_DT)))\n",
    "print(\"f1: {}\".format(np.mean(f1_DT)))\n",
    "print(\"f2: {}\".format(np.mean(f2_DT)))\n",
    "metrics.loc['accuracy','DecisionTree']=np.mean(accuracy_DT)\n",
    "metrics.loc['precision','DecisionTree']=np.mean(precision_DT)\n",
    "metrics.loc['recall','DecisionTree']=np.mean(recall_DT)\n",
    "metrics.loc['f1 score','DecisionTree']=np.mean(f1_DT)\n",
    "metrics.loc['f2 score','DecisionTree']=np.mean(f2_DT)"
   ]
  },
  {
   "cell_type": "code",
   "execution_count": 89,
   "metadata": {},
   "outputs": [
    {
     "data": {
      "text/html": [
       "<div>\n",
       "<style scoped>\n",
       "    .dataframe tbody tr th:only-of-type {\n",
       "        vertical-align: middle;\n",
       "    }\n",
       "\n",
       "    .dataframe tbody tr th {\n",
       "        vertical-align: top;\n",
       "    }\n",
       "\n",
       "    .dataframe thead th {\n",
       "        text-align: right;\n",
       "    }\n",
       "</style>\n",
       "<table border=\"1\" class=\"dataframe\">\n",
       "  <thead>\n",
       "    <tr style=\"text-align: right;\">\n",
       "      <th></th>\n",
       "      <th>LogisticReg</th>\n",
       "      <th>DecisionTree</th>\n",
       "      <th>SVM</th>\n",
       "      <th>RandomForest</th>\n",
       "      <th>AdaBoost</th>\n",
       "      <th>XGBoosting</th>\n",
       "    </tr>\n",
       "  </thead>\n",
       "  <tbody>\n",
       "    <tr>\n",
       "      <th>accuracy</th>\n",
       "      <td>0.805076</td>\n",
       "      <td>0.862944</td>\n",
       "      <td>0.813536</td>\n",
       "      <td>0.91286</td>\n",
       "      <td>0.856176</td>\n",
       "      <td>0.878003</td>\n",
       "    </tr>\n",
       "    <tr>\n",
       "      <th>precision</th>\n",
       "      <td>0.214069</td>\n",
       "      <td>0.29034</td>\n",
       "      <td>0.219301</td>\n",
       "      <td>0.396813</td>\n",
       "      <td>0.274298</td>\n",
       "      <td>0.318667</td>\n",
       "    </tr>\n",
       "    <tr>\n",
       "      <th>recall</th>\n",
       "      <td>0.67561</td>\n",
       "      <td>0.64878</td>\n",
       "      <td>0.658537</td>\n",
       "      <td>0.478049</td>\n",
       "      <td>0.64878</td>\n",
       "      <td>0.656098</td>\n",
       "    </tr>\n",
       "    <tr>\n",
       "      <th>f1 score</th>\n",
       "      <td>0.324958</td>\n",
       "      <td>0.397719</td>\n",
       "      <td>0.328885</td>\n",
       "      <td>0.43282</td>\n",
       "      <td>0.385121</td>\n",
       "      <td>0.428042</td>\n",
       "    </tr>\n",
       "    <tr>\n",
       "      <th>f2 score</th>\n",
       "      <td>0.471732</td>\n",
       "      <td>0.51554</td>\n",
       "      <td>0.469916</td>\n",
       "      <td>0.45859</td>\n",
       "      <td>0.508953</td>\n",
       "      <td>0.540247</td>\n",
       "    </tr>\n",
       "  </tbody>\n",
       "</table>\n",
       "</div>"
      ],
      "text/plain": [
       "          LogisticReg DecisionTree       SVM RandomForest  AdaBoost XGBoosting\n",
       "accuracy     0.805076     0.862944  0.813536      0.91286  0.856176   0.878003\n",
       "precision    0.214069      0.29034  0.219301     0.396813  0.274298   0.318667\n",
       "recall        0.67561      0.64878  0.658537     0.478049   0.64878   0.656098\n",
       "f1 score     0.324958     0.397719  0.328885      0.43282  0.385121   0.428042\n",
       "f2 score     0.471732      0.51554  0.469916      0.45859  0.508953   0.540247"
      ]
     },
     "execution_count": 89,
     "metadata": {},
     "output_type": "execute_result"
    }
   ],
   "source": [
    "metrics"
   ]
  },
  {
   "cell_type": "code",
   "execution_count": 30,
   "metadata": {},
   "outputs": [],
   "source": [
    "#SVM\n",
    "from sklearn.svm import SVC"
   ]
  },
  {
   "cell_type": "code",
   "execution_count": 90,
   "metadata": {
    "scrolled": false
   },
   "outputs": [
    {
     "name": "stdout",
     "output_type": "stream",
     "text": [
      "############################################################\n",
      "[[881 219]\n",
      " [ 24  58]]\n",
      "accuracy score 0.7944162436548223\n",
      "              precision    recall  f1-score   support\n",
      "\n",
      "         0.0       0.97      0.80      0.88      1100\n",
      "         1.0       0.21      0.71      0.32        82\n",
      "\n",
      "    accuracy                           0.79      1182\n",
      "   macro avg       0.59      0.75      0.60      1182\n",
      "weighted avg       0.92      0.79      0.84      1182\n",
      "\n",
      "############################################################\n",
      "############################################################\n",
      "############################################################\n",
      "[[916 184]\n",
      " [ 34  48]]\n",
      "accuracy score 0.8155668358714044\n",
      "              precision    recall  f1-score   support\n",
      "\n",
      "         0.0       0.96      0.83      0.89      1100\n",
      "         1.0       0.21      0.59      0.31        82\n",
      "\n",
      "    accuracy                           0.82      1182\n",
      "   macro avg       0.59      0.71      0.60      1182\n",
      "weighted avg       0.91      0.82      0.85      1182\n",
      "\n",
      "############################################################\n",
      "############################################################\n",
      "############################################################\n",
      "[[915 185]\n",
      " [ 25  57]]\n",
      "accuracy score 0.8223350253807107\n",
      "              precision    recall  f1-score   support\n",
      "\n",
      "         0.0       0.97      0.83      0.90      1100\n",
      "         1.0       0.24      0.70      0.35        82\n",
      "\n",
      "    accuracy                           0.82      1182\n",
      "   macro avg       0.60      0.76      0.62      1182\n",
      "weighted avg       0.92      0.82      0.86      1182\n",
      "\n",
      "############################################################\n",
      "############################################################\n",
      "############################################################\n",
      "[[912 188]\n",
      " [ 28  54]]\n",
      "accuracy score 0.817258883248731\n",
      "              precision    recall  f1-score   support\n",
      "\n",
      "         0.0       0.97      0.83      0.89      1100\n",
      "         1.0       0.22      0.66      0.33        82\n",
      "\n",
      "    accuracy                           0.82      1182\n",
      "   macro avg       0.60      0.74      0.61      1182\n",
      "weighted avg       0.92      0.82      0.86      1182\n",
      "\n",
      "############################################################\n",
      "############################################################\n",
      "############################################################\n",
      "[[880 220]\n",
      " [ 30  52]]\n",
      "accuracy score 0.7884940778341794\n",
      "              precision    recall  f1-score   support\n",
      "\n",
      "         0.0       0.97      0.80      0.88      1100\n",
      "         1.0       0.19      0.63      0.29        82\n",
      "\n",
      "    accuracy                           0.79      1182\n",
      "   macro avg       0.58      0.72      0.58      1182\n",
      "weighted avg       0.91      0.79      0.84      1182\n",
      "\n",
      "############################################################\n",
      "############################################################\n",
      "\n",
      "Support Vector Machine\n",
      "Stratified Kfold score with SMOTE: \n",
      "\n",
      "Accuracy: 0.8076142131979696\n",
      "Precision: 0.2132273979702468\n",
      "Recall: 0.6560975609756097\n",
      "f1: 0.3215645514309712\n",
      "f2: 0.4629855630812568\n"
     ]
    },
    {
     "data": {
      "image/png": "[encoded data removed]",
      "text/plain": [
       "<Figure size 432x288 with 1 Axes>"
      ]
     },
     "metadata": {
      "needs_background": "light"
     },
     "output_type": "display_data"
    },
    {
     "data": {
      "image/png": "[encoded data removed]",
      "text/plain": [
       "<Figure size 432x288 with 1 Axes>"
      ]
     },
     "metadata": {
      "needs_background": "light"
     },
     "output_type": "display_data"
    },
    {
     "data": {
      "image/png": "[encoded data removed]",
      "text/plain": [
       "<Figure size 432x288 with 1 Axes>"
      ]
     },
     "metadata": {
      "needs_background": "light"
     },
     "output_type": "display_data"
    },
    {
     "data": {
      "image/png": "[encoded data removed]",
      "text/plain": [
       "<Figure size 432x288 with 1 Axes>"
      ]
     },
     "metadata": {
      "needs_background": "light"
     },
     "output_type": "display_data"
    },
    {
     "data": {
      "image/png": "[encoded data removed]",
      "text/plain": [
       "<Figure size 432x288 with 1 Axes>"
      ]
     },
     "metadata": {
      "needs_background": "light"
     },
     "output_type": "display_data"
    }
   ],
   "source": [
    "pipe4=make_pipline_imb(SMOTE(),SVC(random_state=2019,C=1))\n",
    "\n",
    "accuracy_SVC=[]\n",
    "precision_SVC=[]\n",
    "recall_SVC=[]\n",
    "f1_SVC=[]\n",
    "f2_SVC=[]\n",
    "auc_SVC=[]\n",
    "for train_index,test_index in skf.split(X_filled_knn,y):\n",
    "    X_train,X_test=X_filled_knn[train_index],X_filled_knn[test_index]\n",
    "    y_train,y_test=y.iloc[train_index].values,y.iloc[test_index].values\n",
    "    y_train,y_test=y_train.reshape(-1,1),y_test.reshape(-1,1)\n",
    "    \n",
    "    model=pipe4.fit(X_train,y_train.ravel())\n",
    "    prediction=model.predict(X_test)\n",
    "    \n",
    "    conf_matrix=confusion_matrix(y_test,prediction)\n",
    "    print(\"#\"*60)\n",
    "    print(conf_matrix)\n",
    "    print('accuracy score',accuracy_score(y_test,prediction))\n",
    "    print(classification_report(y_test, prediction))\n",
    "    print(\"#\"*60)\n",
    "    plot_confusion_matrix(confusion_matrix(y_test, prediction),cmap='RdYlBu')\n",
    "    print(\"#\"*60)\n",
    "    \n",
    "    accuracy_SVC.append(pipe4.score(X_test,y_test))\n",
    "    precision_SVC.append(precision_score(y_test,prediction))\n",
    "    recall_SVC.append(recall_score(y_test,prediction))\n",
    "    f1_SVC.append(f1_score(y_test,prediction))\n",
    "    f2_SVC.append(f2(pipe4,X_test,y_test))\n",
    "    #auc_NB.append(roc_auc_score(y_test,prediction))\n",
    "    \n",
    "    \n",
    "print()\n",
    "print(\"Support Vector Machine\")\n",
    "print(\"Stratified Kfold score with SMOTE: \\n\")\n",
    "print(\"Accuracy: {}\".format(np.mean(accuracy_SVC)))\n",
    "print(\"Precision: {}\".format(np.mean(precision_SVC)))\n",
    "print(\"Recall: {}\".format(np.mean(recall_SVC)))\n",
    "print(\"f1: {}\".format(np.mean(f1_SVC)))\n",
    "print(\"f2: {}\".format(np.mean(f2_SVC)))\n",
    "metrics.loc['accuracy','SVM']=np.mean(accuracy_SVC)\n",
    "metrics.loc['precision','SVM']=np.mean(precision_SVC)\n",
    "metrics.loc['recall','SVM']=np.mean(recall_SVC)\n",
    "metrics.loc['f1 score','SVM']=np.mean(f1_SVC)\n",
    "metrics.loc['f2 score','SVM']=np.mean(f2_SVC)"
   ]
  },
  {
   "cell_type": "code",
   "execution_count": 91,
   "metadata": {},
   "outputs": [
    {
     "data": {
      "text/html": [
       "<div>\n",
       "<style scoped>\n",
       "    .dataframe tbody tr th:only-of-type {\n",
       "        vertical-align: middle;\n",
       "    }\n",
       "\n",
       "    .dataframe tbody tr th {\n",
       "        vertical-align: top;\n",
       "    }\n",
       "\n",
       "    .dataframe thead th {\n",
       "        text-align: right;\n",
       "    }\n",
       "</style>\n",
       "<table border=\"1\" class=\"dataframe\">\n",
       "  <thead>\n",
       "    <tr style=\"text-align: right;\">\n",
       "      <th></th>\n",
       "      <th>LogisticReg</th>\n",
       "      <th>DecisionTree</th>\n",
       "      <th>SVM</th>\n",
       "      <th>RandomForest</th>\n",
       "      <th>AdaBoost</th>\n",
       "      <th>XGBoosting</th>\n",
       "    </tr>\n",
       "  </thead>\n",
       "  <tbody>\n",
       "    <tr>\n",
       "      <th>accuracy</th>\n",
       "      <td>0.805076</td>\n",
       "      <td>0.862944</td>\n",
       "      <td>0.807614</td>\n",
       "      <td>0.91286</td>\n",
       "      <td>0.856176</td>\n",
       "      <td>0.878003</td>\n",
       "    </tr>\n",
       "    <tr>\n",
       "      <th>precision</th>\n",
       "      <td>0.214069</td>\n",
       "      <td>0.29034</td>\n",
       "      <td>0.213227</td>\n",
       "      <td>0.396813</td>\n",
       "      <td>0.274298</td>\n",
       "      <td>0.318667</td>\n",
       "    </tr>\n",
       "    <tr>\n",
       "      <th>recall</th>\n",
       "      <td>0.67561</td>\n",
       "      <td>0.64878</td>\n",
       "      <td>0.656098</td>\n",
       "      <td>0.478049</td>\n",
       "      <td>0.64878</td>\n",
       "      <td>0.656098</td>\n",
       "    </tr>\n",
       "    <tr>\n",
       "      <th>f1 score</th>\n",
       "      <td>0.324958</td>\n",
       "      <td>0.397719</td>\n",
       "      <td>0.321565</td>\n",
       "      <td>0.43282</td>\n",
       "      <td>0.385121</td>\n",
       "      <td>0.428042</td>\n",
       "    </tr>\n",
       "    <tr>\n",
       "      <th>f2 score</th>\n",
       "      <td>0.471732</td>\n",
       "      <td>0.51554</td>\n",
       "      <td>0.462986</td>\n",
       "      <td>0.45859</td>\n",
       "      <td>0.508953</td>\n",
       "      <td>0.540247</td>\n",
       "    </tr>\n",
       "  </tbody>\n",
       "</table>\n",
       "</div>"
      ],
      "text/plain": [
       "          LogisticReg DecisionTree       SVM RandomForest  AdaBoost XGBoosting\n",
       "accuracy     0.805076     0.862944  0.807614      0.91286  0.856176   0.878003\n",
       "precision    0.214069      0.29034  0.213227     0.396813  0.274298   0.318667\n",
       "recall        0.67561      0.64878  0.656098     0.478049   0.64878   0.656098\n",
       "f1 score     0.324958     0.397719  0.321565      0.43282  0.385121   0.428042\n",
       "f2 score     0.471732      0.51554  0.462986      0.45859  0.508953   0.540247"
      ]
     },
     "execution_count": 91,
     "metadata": {},
     "output_type": "execute_result"
    }
   ],
   "source": [
    "metrics"
   ]
  },
  {
   "cell_type": "markdown",
   "metadata": {},
   "source": [
    "# Ensemble "
   ]
  },
  {
   "cell_type": "markdown",
   "metadata": {},
   "source": [
    "# RandomForest Classifier"
   ]
  },
  {
   "cell_type": "code",
   "execution_count": 33,
   "metadata": {},
   "outputs": [],
   "source": [
    "from sklearn.ensemble import RandomForestClassifier"
   ]
  },
  {
   "cell_type": "code",
   "execution_count": 34,
   "metadata": {},
   "outputs": [],
   "source": [
    "RF = RandomForestClassifier(random_state=2019)"
   ]
  },
  {
   "cell_type": "code",
   "execution_count": 35,
   "metadata": {},
   "outputs": [],
   "source": [
    "pipe5=make_pipline_imb(SMOTE(),RF)"
   ]
  },
  {
   "cell_type": "code",
   "execution_count": 93,
   "metadata": {
    "scrolled": false
   },
   "outputs": [
    {
     "name": "stdout",
     "output_type": "stream",
     "text": [
      "############################################################\n",
      "[[1042   58]\n",
      " [  38   44]]\n",
      "accuracy score 0.9187817258883249\n",
      "              precision    recall  f1-score   support\n",
      "\n",
      "         0.0       0.96      0.95      0.96      1100\n",
      "         1.0       0.43      0.54      0.48        82\n",
      "\n",
      "    accuracy                           0.92      1182\n",
      "   macro avg       0.70      0.74      0.72      1182\n",
      "weighted avg       0.93      0.92      0.92      1182\n",
      "\n",
      "############################################################\n",
      "############################################################\n",
      "############################################################\n",
      "[[1063   37]\n",
      " [  42   40]]\n",
      "accuracy score 0.9331641285956007\n",
      "              precision    recall  f1-score   support\n",
      "\n",
      "         0.0       0.96      0.97      0.96      1100\n",
      "         1.0       0.52      0.49      0.50        82\n",
      "\n",
      "    accuracy                           0.93      1182\n",
      "   macro avg       0.74      0.73      0.73      1182\n",
      "weighted avg       0.93      0.93      0.93      1182\n",
      "\n",
      "############################################################\n",
      "############################################################\n",
      "############################################################\n",
      "[[1045   55]\n",
      " [  52   30]]\n",
      "accuracy score 0.9094754653130288\n",
      "              precision    recall  f1-score   support\n",
      "\n",
      "         0.0       0.95      0.95      0.95      1100\n",
      "         1.0       0.35      0.37      0.36        82\n",
      "\n",
      "    accuracy                           0.91      1182\n",
      "   macro avg       0.65      0.66      0.66      1182\n",
      "weighted avg       0.91      0.91      0.91      1182\n",
      "\n",
      "############################################################\n",
      "############################################################\n",
      "############################################################\n",
      "[[1034   66]\n",
      " [  47   35]]\n",
      "accuracy score 0.9043993231810491\n",
      "              precision    recall  f1-score   support\n",
      "\n",
      "         0.0       0.96      0.94      0.95      1100\n",
      "         1.0       0.35      0.43      0.38        82\n",
      "\n",
      "    accuracy                           0.90      1182\n",
      "   macro avg       0.65      0.68      0.67      1182\n",
      "weighted avg       0.91      0.90      0.91      1182\n",
      "\n",
      "############################################################\n",
      "############################################################\n",
      "############################################################\n",
      "[[1046   54]\n",
      " [  41   41]]\n",
      "accuracy score 0.9196277495769881\n",
      "              precision    recall  f1-score   support\n",
      "\n",
      "         0.0       0.96      0.95      0.96      1100\n",
      "         1.0       0.43      0.50      0.46        82\n",
      "\n",
      "    accuracy                           0.92      1182\n",
      "   macro avg       0.70      0.73      0.71      1182\n",
      "weighted avg       0.93      0.92      0.92      1182\n",
      "\n",
      "############################################################\n",
      "############################################################\n",
      "\n",
      "Random Forest\n",
      "Stratified Kfold score with SMOTE: \n",
      "\n",
      "Accuracy: 0.9170896785109983\n",
      "Precision: 0.41638156916089664\n",
      "Recall: 0.46341463414634143\n",
      "f1: 0.4372954916278788\n",
      "f2: 0.45224203420878445\n"
     ]
    },
    {
     "data": {
      "image/png": "[encoded data removed]",
      "text/plain": [
       "<Figure size 432x288 with 1 Axes>"
      ]
     },
     "metadata": {
      "needs_background": "light"
     },
     "output_type": "display_data"
    },
    {
     "data": {
      "image/png": "[encoded data removed]",
      "text/plain": [
       "<Figure size 432x288 with 1 Axes>"
      ]
     },
     "metadata": {
      "needs_background": "light"
     },
     "output_type": "display_data"
    },
    {
     "data": {
      "image/png": "[encoded data removed]",
      "text/plain": [
       "<Figure size 432x288 with 1 Axes>"
      ]
     },
     "metadata": {
      "needs_background": "light"
     },
     "output_type": "display_data"
    },
    {
     "data": {
      "image/png": "[encoded data removed]",
      "text/plain": [
       "<Figure size 432x288 with 1 Axes>"
      ]
     },
     "metadata": {
      "needs_background": "light"
     },
     "output_type": "display_data"
    },
    {
     "data": {
      "image/png": "[encoded data removed]",
      "text/plain": [
       "<Figure size 432x288 with 1 Axes>"
      ]
     },
     "metadata": {
      "needs_background": "light"
     },
     "output_type": "display_data"
    }
   ],
   "source": [
    "accuracy_RF=[]\n",
    "precision_RF=[]\n",
    "recall_RF=[]\n",
    "f1_RF=[]\n",
    "f2_RF=[]\n",
    "auc_RF=[]\n",
    "for train_index,test_index in skf.split(X_filled_knn,y):\n",
    "    X_train,X_test=X_filled_knn[train_index],X_filled_knn[test_index]\n",
    "    y_train,y_test=y.iloc[train_index].values,y.iloc[test_index].values\n",
    "    y_train,y_test=y_train.reshape(-1,1),y_test.reshape(-1,1)\n",
    "    \n",
    "    model=pipe5.fit(X_train,y_train.ravel())\n",
    "    prediction=model.predict(X_test)\n",
    "    \n",
    "    conf_matrix=confusion_matrix(y_test,prediction)\n",
    "    print(\"#\"*60)\n",
    "    print(conf_matrix)\n",
    "    print('accuracy score',accuracy_score(y_test,prediction))\n",
    "    print(classification_report(y_test, prediction))\n",
    "    print(\"#\"*60)\n",
    "    plot_confusion_matrix(confusion_matrix(y_test, prediction),cmap='RdYlBu')\n",
    "    print(\"#\"*60)\n",
    "    accuracy_RF.append(pipe5.score(X_test,y_test))\n",
    "    precision_RF.append(precision_score(y_test,prediction))\n",
    "    recall_RF.append(recall_score(y_test,prediction))\n",
    "    f1_RF.append(f1_score(y_test,prediction))\n",
    "    f2_RF.append(f2(pipe5,X_test,y_test))\n",
    "    #auc_NB.append(roc_auc_score(y_test,prediction))\n",
    "    \n",
    "    \n",
    "print()\n",
    "print(\"Random Forest\")\n",
    "print(\"Stratified Kfold score with SMOTE: \\n\")\n",
    "print(\"Accuracy: {}\".format(np.mean(accuracy_RF)))\n",
    "print(\"Precision: {}\".format(np.mean(precision_RF)))\n",
    "print(\"Recall: {}\".format(np.mean(recall_RF)))\n",
    "print(\"f1: {}\".format(np.mean(f1_RF)))\n",
    "print(\"f2: {}\".format(np.mean(f2_RF)))\n",
    "metrics.loc['accuracy','RandomForest']=np.mean(accuracy_RF)\n",
    "metrics.loc['precision','RandomForest']=np.mean(precision_RF)\n",
    "metrics.loc['recall','RandomForest']=np.mean(recall_RF)\n",
    "metrics.loc['f1 score','RandomForest']=np.mean(f1_RF)\n",
    "metrics.loc['f2 score','RandomForest']=np.mean(f2_RF)"
   ]
  },
  {
   "cell_type": "code",
   "execution_count": 94,
   "metadata": {},
   "outputs": [
    {
     "data": {
      "text/html": [
       "<div>\n",
       "<style scoped>\n",
       "    .dataframe tbody tr th:only-of-type {\n",
       "        vertical-align: middle;\n",
       "    }\n",
       "\n",
       "    .dataframe tbody tr th {\n",
       "        vertical-align: top;\n",
       "    }\n",
       "\n",
       "    .dataframe thead th {\n",
       "        text-align: right;\n",
       "    }\n",
       "</style>\n",
       "<table border=\"1\" class=\"dataframe\">\n",
       "  <thead>\n",
       "    <tr style=\"text-align: right;\">\n",
       "      <th></th>\n",
       "      <th>LogisticReg</th>\n",
       "      <th>DecisionTree</th>\n",
       "      <th>SVM</th>\n",
       "      <th>RandomForest</th>\n",
       "      <th>AdaBoost</th>\n",
       "      <th>XGBoosting</th>\n",
       "    </tr>\n",
       "  </thead>\n",
       "  <tbody>\n",
       "    <tr>\n",
       "      <th>accuracy</th>\n",
       "      <td>0.805076</td>\n",
       "      <td>0.862944</td>\n",
       "      <td>0.807614</td>\n",
       "      <td>0.91709</td>\n",
       "      <td>0.856176</td>\n",
       "      <td>0.878003</td>\n",
       "    </tr>\n",
       "    <tr>\n",
       "      <th>precision</th>\n",
       "      <td>0.214069</td>\n",
       "      <td>0.29034</td>\n",
       "      <td>0.213227</td>\n",
       "      <td>0.416382</td>\n",
       "      <td>0.274298</td>\n",
       "      <td>0.318667</td>\n",
       "    </tr>\n",
       "    <tr>\n",
       "      <th>recall</th>\n",
       "      <td>0.67561</td>\n",
       "      <td>0.64878</td>\n",
       "      <td>0.656098</td>\n",
       "      <td>0.463415</td>\n",
       "      <td>0.64878</td>\n",
       "      <td>0.656098</td>\n",
       "    </tr>\n",
       "    <tr>\n",
       "      <th>f1 score</th>\n",
       "      <td>0.324958</td>\n",
       "      <td>0.397719</td>\n",
       "      <td>0.321565</td>\n",
       "      <td>0.437295</td>\n",
       "      <td>0.385121</td>\n",
       "      <td>0.428042</td>\n",
       "    </tr>\n",
       "    <tr>\n",
       "      <th>f2 score</th>\n",
       "      <td>0.471732</td>\n",
       "      <td>0.51554</td>\n",
       "      <td>0.462986</td>\n",
       "      <td>0.452242</td>\n",
       "      <td>0.508953</td>\n",
       "      <td>0.540247</td>\n",
       "    </tr>\n",
       "  </tbody>\n",
       "</table>\n",
       "</div>"
      ],
      "text/plain": [
       "          LogisticReg DecisionTree       SVM RandomForest  AdaBoost XGBoosting\n",
       "accuracy     0.805076     0.862944  0.807614      0.91709  0.856176   0.878003\n",
       "precision    0.214069      0.29034  0.213227     0.416382  0.274298   0.318667\n",
       "recall        0.67561      0.64878  0.656098     0.463415   0.64878   0.656098\n",
       "f1 score     0.324958     0.397719  0.321565     0.437295  0.385121   0.428042\n",
       "f2 score     0.471732      0.51554  0.462986     0.452242  0.508953   0.540247"
      ]
     },
     "execution_count": 94,
     "metadata": {},
     "output_type": "execute_result"
    }
   ],
   "source": [
    "metrics"
   ]
  },
  {
   "cell_type": "markdown",
   "metadata": {},
   "source": [
    "# AdaBoost"
   ]
  },
  {
   "cell_type": "code",
   "execution_count": 38,
   "metadata": {},
   "outputs": [],
   "source": [
    "from sklearn.ensemble import AdaBoostClassifier"
   ]
  },
  {
   "cell_type": "code",
   "execution_count": 39,
   "metadata": {},
   "outputs": [],
   "source": [
    "pipe_AdaBoost=make_pipline_imb(SMOTE(),AdaBoostClassifier(n_estimators=50))"
   ]
  },
  {
   "cell_type": "code",
   "execution_count": 95,
   "metadata": {
    "scrolled": false
   },
   "outputs": [
    {
     "name": "stdout",
     "output_type": "stream",
     "text": [
      "############################################################\n",
      "[[963 137]\n",
      " [ 28  54]]\n",
      "accuracy score 0.8604060913705583\n",
      "              precision    recall  f1-score   support\n",
      "\n",
      "         0.0       0.97      0.88      0.92      1100\n",
      "         1.0       0.28      0.66      0.40        82\n",
      "\n",
      "    accuracy                           0.86      1182\n",
      "   macro avg       0.63      0.77      0.66      1182\n",
      "weighted avg       0.92      0.86      0.88      1182\n",
      "\n",
      "############################################################\n",
      "############################################################\n",
      "############################################################\n",
      "[[967 133]\n",
      " [ 28  54]]\n",
      "accuracy score 0.8637901861252115\n",
      "              precision    recall  f1-score   support\n",
      "\n",
      "         0.0       0.97      0.88      0.92      1100\n",
      "         1.0       0.29      0.66      0.40        82\n",
      "\n",
      "    accuracy                           0.86      1182\n",
      "   macro avg       0.63      0.77      0.66      1182\n",
      "weighted avg       0.92      0.86      0.89      1182\n",
      "\n",
      "############################################################\n",
      "############################################################\n",
      "############################################################\n",
      "[[977 123]\n",
      " [ 38  44]]\n",
      "accuracy score 0.8637901861252115\n",
      "              precision    recall  f1-score   support\n",
      "\n",
      "         0.0       0.96      0.89      0.92      1100\n",
      "         1.0       0.26      0.54      0.35        82\n",
      "\n",
      "    accuracy                           0.86      1182\n",
      "   macro avg       0.61      0.71      0.64      1182\n",
      "weighted avg       0.91      0.86      0.88      1182\n",
      "\n",
      "############################################################\n",
      "############################################################\n",
      "############################################################\n",
      "[[959 141]\n",
      " [ 24  58]]\n",
      "accuracy score 0.8604060913705583\n",
      "              precision    recall  f1-score   support\n",
      "\n",
      "         0.0       0.98      0.87      0.92      1100\n",
      "         1.0       0.29      0.71      0.41        82\n",
      "\n",
      "    accuracy                           0.86      1182\n",
      "   macro avg       0.63      0.79      0.67      1182\n",
      "weighted avg       0.93      0.86      0.89      1182\n",
      "\n",
      "############################################################\n",
      "############################################################\n",
      "############################################################\n",
      "[[952 148]\n",
      " [ 30  52]]\n",
      "accuracy score 0.8494077834179357\n",
      "              precision    recall  f1-score   support\n",
      "\n",
      "         0.0       0.97      0.87      0.91      1100\n",
      "         1.0       0.26      0.63      0.37        82\n",
      "\n",
      "    accuracy                           0.85      1182\n",
      "   macro avg       0.61      0.75      0.64      1182\n",
      "weighted avg       0.92      0.85      0.88      1182\n",
      "\n",
      "############################################################\n",
      "############################################################\n",
      "\n",
      "Adaptive Boosting\n",
      "Stratified Kfold score with SMOTE: \n",
      "\n",
      "Accuracy: 0.8595600676818951\n",
      "Precision: 0.2772845813778635\n",
      "Recall: 0.6390243902439025\n",
      "f1: 0.3864221506423888\n",
      "f2: 0.5063312750765476\n"
     ]
    },
    {
     "data": {
      "image/png": "[encoded data removed]",
      "text/plain": [
       "<Figure size 432x288 with 1 Axes>"
      ]
     },
     "metadata": {
      "needs_background": "light"
     },
     "output_type": "display_data"
    },
    {
     "data": {
      "image/png": "[encoded data removed]",
      "text/plain": [
       "<Figure size 432x288 with 1 Axes>"
      ]
     },
     "metadata": {
      "needs_background": "light"
     },
     "output_type": "display_data"
    },
    {
     "data": {
      "image/png": "[encoded data removed]",
      "text/plain": [
       "<Figure size 432x288 with 1 Axes>"
      ]
     },
     "metadata": {
      "needs_background": "light"
     },
     "output_type": "display_data"
    },
    {
     "data": {
      "image/png": "[encoded data removed]",
      "text/plain": [
       "<Figure size 432x288 with 1 Axes>"
      ]
     },
     "metadata": {
      "needs_background": "light"
     },
     "output_type": "display_data"
    },
    {
     "data": {
      "image/png": "[encoded data removed]",
      "text/plain": [
       "<Figure size 432x288 with 1 Axes>"
      ]
     },
     "metadata": {
      "needs_background": "light"
     },
     "output_type": "display_data"
    }
   ],
   "source": [
    "accuracy_AdaBoost=[]\n",
    "precision_AdaBoost=[]\n",
    "recall_AdaBoost=[]\n",
    "f1_AdaBoost=[]\n",
    "f2_AdaBoost=[]\n",
    "auc_AdaBoost=[]\n",
    "for train_index,test_index in skf.split(X_filled_knn,y):\n",
    "    X_train,X_test=X_filled_knn[train_index],X_filled_knn[test_index]\n",
    "    y_train,y_test=y.iloc[train_index].values,y.iloc[test_index].values\n",
    "    y_train,y_test=y_train.reshape(-1,1),y_test.reshape(-1,1)\n",
    "    \n",
    "    model=pipe_AdaBoost.fit(X_train,y_train.ravel())\n",
    "    prediction=model.predict(X_test)\n",
    "    \n",
    "    conf_matrix=confusion_matrix(y_test,prediction)\n",
    "    print(\"#\"*60)\n",
    "    print(conf_matrix)\n",
    "    print('accuracy score',accuracy_score(y_test,prediction))\n",
    "    print(classification_report(y_test, prediction))\n",
    "    print(\"#\"*60)\n",
    "    plot_confusion_matrix(confusion_matrix(y_test, prediction),cmap='RdYlBu')\n",
    "    print(\"#\"*60)\n",
    "    \n",
    "    accuracy_AdaBoost.append(pipe_AdaBoost.score(X_test,y_test))\n",
    "    precision_AdaBoost.append(precision_score(y_test,prediction))\n",
    "    recall_AdaBoost.append(recall_score(y_test,prediction))\n",
    "    f1_AdaBoost.append(f1_score(y_test,prediction))\n",
    "    f2_AdaBoost.append(f2(pipe_AdaBoost,X_test,y_test))\n",
    "    #auc_AdaBoost.append(roc_auc_score(y_test,prediction))\n",
    "    \n",
    "    \n",
    "print()\n",
    "print(\"Adaptive Boosting\")\n",
    "print(\"Stratified Kfold score with SMOTE: \\n\")\n",
    "print(\"Accuracy: {}\".format(np.mean(accuracy_AdaBoost)))\n",
    "print(\"Precision: {}\".format(np.mean(precision_AdaBoost)))\n",
    "print(\"Recall: {}\".format(np.mean(recall_AdaBoost)))\n",
    "print(\"f1: {}\".format(np.mean(f1_AdaBoost)))\n",
    "print(\"f2: {}\".format(np.mean(f2_AdaBoost)))\n",
    "metrics.loc['accuracy','AdaBoost']=np.mean(accuracy_AdaBoost)\n",
    "metrics.loc['precision','AdaBoost']=np.mean(precision_AdaBoost)\n",
    "metrics.loc['recall','AdaBoost']=np.mean(recall_AdaBoost)\n",
    "metrics.loc['f1 score','AdaBoost']=np.mean(f1_AdaBoost)\n",
    "metrics.loc['f2 score','AdaBoost']=np.mean(f2_AdaBoost)"
   ]
  },
  {
   "cell_type": "code",
   "execution_count": null,
   "metadata": {},
   "outputs": [],
   "source": []
  },
  {
   "cell_type": "markdown",
   "metadata": {},
   "source": [
    "# XGBoost (Extreme Gradient Boosting)"
   ]
  },
  {
   "cell_type": "code",
   "execution_count": 42,
   "metadata": {},
   "outputs": [],
   "source": [
    "from xgboost import XGBClassifier\n"
   ]
  },
  {
   "cell_type": "code",
   "execution_count": 43,
   "metadata": {},
   "outputs": [],
   "source": [
    "xgb = XGBClassifier(max_depth=3)"
   ]
  },
  {
   "cell_type": "code",
   "execution_count": 44,
   "metadata": {},
   "outputs": [],
   "source": [
    "pipe_xgb=make_pipline_imb(SMOTE(),xgb)"
   ]
  },
  {
   "cell_type": "code",
   "execution_count": 96,
   "metadata": {
    "scrolled": false
   },
   "outputs": [
    {
     "name": "stdout",
     "output_type": "stream",
     "text": [
      "############################################################\n",
      "[[990 110]\n",
      " [ 26  56]]\n",
      "accuracy score 0.8849407783417935\n",
      "              precision    recall  f1-score   support\n",
      "\n",
      "         0.0       0.97      0.90      0.94      1100\n",
      "         1.0       0.34      0.68      0.45        82\n",
      "\n",
      "    accuracy                           0.88      1182\n",
      "   macro avg       0.66      0.79      0.69      1182\n",
      "weighted avg       0.93      0.88      0.90      1182\n",
      "\n",
      "############################################################\n",
      "############################################################\n",
      "############################################################\n",
      "[[1023   77]\n",
      " [  24   58]]\n",
      "accuracy score 0.9145516074450084\n",
      "              precision    recall  f1-score   support\n",
      "\n",
      "         0.0       0.98      0.93      0.95      1100\n",
      "         1.0       0.43      0.71      0.53        82\n",
      "\n",
      "    accuracy                           0.91      1182\n",
      "   macro avg       0.70      0.82      0.74      1182\n",
      "weighted avg       0.94      0.91      0.92      1182\n",
      "\n",
      "############################################################\n",
      "############################################################\n",
      "############################################################\n",
      "[[1010   90]\n",
      " [  36   46]]\n",
      "accuracy score 0.8934010152284264\n",
      "              precision    recall  f1-score   support\n",
      "\n",
      "         0.0       0.97      0.92      0.94      1100\n",
      "         1.0       0.34      0.56      0.42        82\n",
      "\n",
      "    accuracy                           0.89      1182\n",
      "   macro avg       0.65      0.74      0.68      1182\n",
      "weighted avg       0.92      0.89      0.91      1182\n",
      "\n",
      "############################################################\n",
      "############################################################\n",
      "############################################################\n",
      "[[989 111]\n",
      " [ 27  55]]\n",
      "accuracy score 0.883248730964467\n",
      "              precision    recall  f1-score   support\n",
      "\n",
      "         0.0       0.97      0.90      0.93      1100\n",
      "         1.0       0.33      0.67      0.44        82\n",
      "\n",
      "    accuracy                           0.88      1182\n",
      "   macro avg       0.65      0.78      0.69      1182\n",
      "weighted avg       0.93      0.88      0.90      1182\n",
      "\n",
      "############################################################\n",
      "############################################################\n",
      "############################################################\n",
      "[[999 101]\n",
      " [ 26  56]]\n",
      "accuracy score 0.8925549915397631\n",
      "              precision    recall  f1-score   support\n",
      "\n",
      "         0.0       0.97      0.91      0.94      1100\n",
      "         1.0       0.36      0.68      0.47        82\n",
      "\n",
      "    accuracy                           0.89      1182\n",
      "   macro avg       0.67      0.80      0.70      1182\n",
      "weighted avg       0.93      0.89      0.91      1182\n",
      "\n",
      "############################################################\n",
      "############################################################\n",
      "\n",
      "XGBoosting\n",
      "Stratified Kfold score with SMOTE: \n",
      "\n",
      "Accuracy: 0.8937394247038917\n",
      "Precision: 0.35864550412632584\n",
      "Recall: 0.6609756097560976\n",
      "f1: 0.4640722195579851\n",
      "f2: 0.5645681832372875\n"
     ]
    },
    {
     "data": {
      "image/png": "[encoded data removed]",
      "text/plain": [
       "<Figure size 432x288 with 1 Axes>"
      ]
     },
     "metadata": {
      "needs_background": "light"
     },
     "output_type": "display_data"
    },
    {
     "data": {
      "image/png": "[encoded data removed]",
      "text/plain": [
       "<Figure size 432x288 with 1 Axes>"
      ]
     },
     "metadata": {
      "needs_background": "light"
     },
     "output_type": "display_data"
    },
    {
     "data": {
      "image/png": "[encoded data removed]",
      "text/plain": [
       "<Figure size 432x288 with 1 Axes>"
      ]
     },
     "metadata": {
      "needs_background": "light"
     },
     "output_type": "display_data"
    },
    {
     "data": {
      "image/png": "[encoded data removed]",
      "text/plain": [
       "<Figure size 432x288 with 1 Axes>"
      ]
     },
     "metadata": {
      "needs_background": "light"
     },
     "output_type": "display_data"
    },
    {
     "data": {
      "image/png": "[encoded data removed]",
      "text/plain": [
       "<Figure size 432x288 with 1 Axes>"
      ]
     },
     "metadata": {
      "needs_background": "light"
     },
     "output_type": "display_data"
    }
   ],
   "source": [
    "accuracy_xgb=[]\n",
    "precision_xgb=[]\n",
    "recall_xgb=[]\n",
    "f1_xgb=[]\n",
    "f2_xgb=[]\n",
    "auc_xgb=[]\n",
    "for train_index,test_index in skf.split(X_filled_knn,y):\n",
    "    X_train,X_test=X_filled_knn[train_index],X_filled_knn[test_index]\n",
    "    y_train,y_test=y.iloc[train_index].values,y.iloc[test_index].values\n",
    "    y_train,y_test=y_train.reshape(-1,1),y_test.reshape(-1,1)\n",
    "    \n",
    "    sm = SMOTE(random_state=2019)\n",
    "    X_res, y_res = sm.fit_resample(X_train, y_train)\n",
    "    model=xgb\n",
    "    model.fit(X_res,y_res)\n",
    "    prediction=model.predict(X_test)\n",
    "    \n",
    "    conf_matrix=confusion_matrix(y_test,prediction)\n",
    "    print(\"#\"*60)\n",
    "    print(conf_matrix)\n",
    "    print('accuracy score',accuracy_score(y_test,prediction))\n",
    "    print(classification_report(y_test, prediction))\n",
    "    print(\"#\"*60)\n",
    "    plot_confusion_matrix(confusion_matrix(y_test, prediction),cmap='RdYlBu')\n",
    "    print(\"#\"*60)\n",
    "    \n",
    "    #fig, ax = plt.subplots(figsize=(30, 30))\n",
    "    #plot_tree(model, num_trees=3, ax=ax)\n",
    "    #plt.show()\n",
    "    \n",
    "    accuracy_xgb.append(pipe_xgb.score(X_test,y_test))\n",
    "    precision_xgb.append(precision_score(y_test,prediction))\n",
    "    recall_xgb.append(recall_score(y_test,prediction))\n",
    "    f1_xgb.append(f1_score(y_test,prediction))\n",
    "    f2_xgb.append(f2(pipe_xgb,X_test,y_test))\n",
    "    #auc_xgb.append(roc_auc_score(y_test,prediction))\n",
    "    \n",
    "    \n",
    "print()\n",
    "print(\"XGBoosting\")\n",
    "print(\"Stratified Kfold score with SMOTE: \\n\")\n",
    "print(\"Accuracy: {}\".format(np.mean(accuracy_xgb)))\n",
    "print(\"Precision: {}\".format(np.mean(precision_xgb)))\n",
    "print(\"Recall: {}\".format(np.mean(recall_xgb)))\n",
    "print(\"f1: {}\".format(np.mean(f1_xgb)))\n",
    "print(\"f2: {}\".format(np.mean(f2_xgb)))\n",
    "metrics.loc['accuracy','XGBoosting']=np.mean(accuracy_xgb)\n",
    "metrics.loc['precision','XGBoosting']=np.mean(precision_xgb)\n",
    "metrics.loc['recall','XGBoosting']=np.mean(recall_xgb)\n",
    "metrics.loc['f1 score','XGBoosting']=np.mean(f1_xgb)\n",
    "metrics.loc['f2 score','XGBoosting']=np.mean(f2_xgb)"
   ]
  },
  {
   "cell_type": "code",
   "execution_count": 97,
   "metadata": {},
   "outputs": [
    {
     "data": {
      "text/html": [
       "<div>\n",
       "<style scoped>\n",
       "    .dataframe tbody tr th:only-of-type {\n",
       "        vertical-align: middle;\n",
       "    }\n",
       "\n",
       "    .dataframe tbody tr th {\n",
       "        vertical-align: top;\n",
       "    }\n",
       "\n",
       "    .dataframe thead th {\n",
       "        text-align: right;\n",
       "    }\n",
       "</style>\n",
       "<table border=\"1\" class=\"dataframe\">\n",
       "  <thead>\n",
       "    <tr style=\"text-align: right;\">\n",
       "      <th></th>\n",
       "      <th>LogisticReg</th>\n",
       "      <th>DecisionTree</th>\n",
       "      <th>SVM</th>\n",
       "      <th>RandomForest</th>\n",
       "      <th>AdaBoost</th>\n",
       "      <th>XGBoosting</th>\n",
       "    </tr>\n",
       "  </thead>\n",
       "  <tbody>\n",
       "    <tr>\n",
       "      <th>accuracy</th>\n",
       "      <td>0.805076</td>\n",
       "      <td>0.862944</td>\n",
       "      <td>0.807614</td>\n",
       "      <td>0.91709</td>\n",
       "      <td>0.85956</td>\n",
       "      <td>0.893739</td>\n",
       "    </tr>\n",
       "    <tr>\n",
       "      <th>precision</th>\n",
       "      <td>0.214069</td>\n",
       "      <td>0.29034</td>\n",
       "      <td>0.213227</td>\n",
       "      <td>0.416382</td>\n",
       "      <td>0.277285</td>\n",
       "      <td>0.358646</td>\n",
       "    </tr>\n",
       "    <tr>\n",
       "      <th>recall</th>\n",
       "      <td>0.67561</td>\n",
       "      <td>0.64878</td>\n",
       "      <td>0.656098</td>\n",
       "      <td>0.463415</td>\n",
       "      <td>0.639024</td>\n",
       "      <td>0.660976</td>\n",
       "    </tr>\n",
       "    <tr>\n",
       "      <th>f1 score</th>\n",
       "      <td>0.324958</td>\n",
       "      <td>0.397719</td>\n",
       "      <td>0.321565</td>\n",
       "      <td>0.437295</td>\n",
       "      <td>0.386422</td>\n",
       "      <td>0.464072</td>\n",
       "    </tr>\n",
       "    <tr>\n",
       "      <th>f2 score</th>\n",
       "      <td>0.471732</td>\n",
       "      <td>0.51554</td>\n",
       "      <td>0.462986</td>\n",
       "      <td>0.452242</td>\n",
       "      <td>0.506331</td>\n",
       "      <td>0.564568</td>\n",
       "    </tr>\n",
       "  </tbody>\n",
       "</table>\n",
       "</div>"
      ],
      "text/plain": [
       "          LogisticReg DecisionTree       SVM RandomForest  AdaBoost XGBoosting\n",
       "accuracy     0.805076     0.862944  0.807614      0.91709   0.85956   0.893739\n",
       "precision    0.214069      0.29034  0.213227     0.416382  0.277285   0.358646\n",
       "recall        0.67561      0.64878  0.656098     0.463415  0.639024   0.660976\n",
       "f1 score     0.324958     0.397719  0.321565     0.437295  0.386422   0.464072\n",
       "f2 score     0.471732      0.51554  0.462986     0.452242  0.506331   0.564568"
      ]
     },
     "execution_count": 97,
     "metadata": {},
     "output_type": "execute_result"
    }
   ],
   "source": [
    "metrics"
   ]
  },
  {
   "cell_type": "code",
   "execution_count": 98,
   "metadata": {},
   "outputs": [
    {
     "data": {
      "image/png": "[encoded data removed]",
      "text/plain": [
       "<Figure size 720x576 with 1 Axes>"
      ]
     },
     "metadata": {
      "needs_background": "light"
     },
     "output_type": "display_data"
    }
   ],
   "source": [
    "fig,ax=plt.subplots(figsize=(10,8))\n",
    "metrics.plot(kind='barh',ax=ax)\n",
    "ax.grid()"
   ]
  },
  {
   "cell_type": "markdown",
   "metadata": {},
   "source": [
    "# Tuning using GridSearchCV"
   ]
  },
  {
   "cell_type": "code",
   "execution_count": 105,
   "metadata": {},
   "outputs": [],
   "source": [
    "from imblearn.pipeline import Pipeline\n",
    "from sklearn.model_selection import GridSearchCV"
   ]
  },
  {
   "cell_type": "code",
   "execution_count": 106,
   "metadata": {},
   "outputs": [],
   "source": [
    "\n",
    "y=df['class']"
   ]
  },
  {
   "cell_type": "markdown",
   "metadata": {},
   "source": [
    "# Logistic Regression Tuning"
   ]
  },
  {
   "cell_type": "code",
   "execution_count": 107,
   "metadata": {},
   "outputs": [],
   "source": [
    "LogReg_model = Pipeline([('smt',SMOTE(random_state=2019)),\n",
    "        \n",
    "                ('classifier', LogisticRegression(random_state=2019))\n",
    "                 ])\n",
    "\n",
    "\n",
    "LogReg_param_grid = [{'classifier__C':[ 0.001, 0.01, 0.1,1,10],\n",
    "                'classifier__class_weight':[{0:0.01, 1:0.99}, {0:0.80, 1:0.20},{0:0.20, 1:0.80},{0:1, 1:20}]}]\n",
    "\n",
    "LogReg_grid = GridSearchCV(estimator=LogReg_model,param_grid=LogReg_param_grid,cv=5,scoring=f2)\n"
   ]
  },
  {
   "cell_type": "code",
   "execution_count": 108,
   "metadata": {
    "scrolled": false
   },
   "outputs": [],
   "source": [
    "LogReg_GSC=LogReg_grid.fit(X=X_filled_knn,y=y)"
   ]
  },
  {
   "cell_type": "code",
   "execution_count": 109,
   "metadata": {},
   "outputs": [
    {
     "data": {
      "text/plain": [
       "0.33640980165000783"
      ]
     },
     "execution_count": 109,
     "metadata": {},
     "output_type": "execute_result"
    }
   ],
   "source": [
    "LogReg_GSC.best_score_"
   ]
  },
  {
   "cell_type": "code",
   "execution_count": 110,
   "metadata": {},
   "outputs": [
    {
     "data": {
      "text/plain": [
       "{'classifier__C': 10, 'classifier__class_weight': {0: 0.2, 1: 0.8}}"
      ]
     },
     "execution_count": 110,
     "metadata": {},
     "output_type": "execute_result"
    }
   ],
   "source": [
    "LogReg_GSC.best_params_"
   ]
  },
  {
   "cell_type": "code",
   "execution_count": 119,
   "metadata": {},
   "outputs": [
    {
     "data": {
      "image/png": "[encoded data removed]",
      "text/plain": [
       "<Figure size 576x360 with 1 Axes>"
      ]
     },
     "metadata": {
      "needs_background": "light"
     },
     "output_type": "display_data"
    }
   ],
   "source": [
    "#try to plot precision-recall curve\n",
    "from sklearn.metrics import precision_recall_curve\n",
    "\n",
    "X_train, X_test, y_train, y_test = train_test_split(X_filled_knn, y,stratify=y, test_size=0.3,shuffle=True,random_state=123)\n",
    "\n",
    "LogReg_model.fit(X_train,y_train)\n",
    "LogReg_prediction=LogReg_model.predict(X_test)\n",
    "precision_LR, recall_LR,thresholds_LR=precision_recall_curve(y_test,probas_pred=LogReg_model.predict_proba(X_test)[:,1],pos_label=1)\n",
    "\n",
    "fig,ax=plt.subplots(figsize=(8,5))\n",
    "ax.plot(thresholds_LR,precision_LR[1:],label='Precision')\n",
    "ax.plot(thresholds_LR,recall_LR[1:],label='Recall')\n",
    "ax.set_xlabel('Classification Threshold')\n",
    "ax.set_ylabel('Precision - Recall')\n",
    "ax.set_title('Logistic Regression Classifier: Precision and Recall')\n",
    "ax.legend()\n",
    "ax.grid()"
   ]
  },
  {
   "cell_type": "markdown",
   "metadata": {},
   "source": [
    "Above: Logistic Regression Precison-Recall Trade-Off by adjusting Threshold (Default threshold is 0.5)"
   ]
  },
  {
   "cell_type": "markdown",
   "metadata": {},
   "source": [
    "# Decision Tree Tuning"
   ]
  },
  {
   "cell_type": "code",
   "execution_count": 120,
   "metadata": {
    "scrolled": false
   },
   "outputs": [],
   "source": [
    "DT_model = Pipeline([('smt',SMOTE(random_state=2019)),\n",
    "        \n",
    "                ('classifier', DecisionTreeClassifier(random_state=2019))\n",
    "                 ])\n",
    "\n",
    "\n",
    "DT_param_grid = [{'classifier__max_depth':np.arange(5,25,1),\n",
    "                'classifier__class_weight':[{0:0.01, 1:0.99}, {0:0.80, 1:0.20},{0:0.20, 1:0.80},{0:1, 1:20}]}]\n",
    "\n",
    "DT_grid = GridSearchCV(estimator=DT_model,param_grid=DT_param_grid,cv=5,scoring=f2)\n",
    "DT_GSC=DT_grid.fit(X=X_filled_knn,y=y)"
   ]
  },
  {
   "cell_type": "code",
   "execution_count": 121,
   "metadata": {},
   "outputs": [
    {
     "data": {
      "text/plain": [
       "0.4861598336673742"
      ]
     },
     "execution_count": 121,
     "metadata": {},
     "output_type": "execute_result"
    }
   ],
   "source": [
    "DT_GSC.best_score_"
   ]
  },
  {
   "cell_type": "code",
   "execution_count": 122,
   "metadata": {},
   "outputs": [
    {
     "data": {
      "text/plain": [
       "{'classifier__class_weight': {0: 0.8, 1: 0.2}, 'classifier__max_depth': 14}"
      ]
     },
     "execution_count": 122,
     "metadata": {},
     "output_type": "execute_result"
    }
   ],
   "source": [
    "DT_GSC.best_params_"
   ]
  },
  {
   "cell_type": "markdown",
   "metadata": {},
   "source": [
    "# SVM Tuning"
   ]
  },
  {
   "cell_type": "code",
   "execution_count": 123,
   "metadata": {},
   "outputs": [],
   "source": [
    "SVM_model=Pipeline([('smt',SMOTE(random_state=2019)),\n",
    "                    ('classifier',SVC(random_state=2019,probability=True))               \n",
    "                   ])\n",
    "\n",
    "SVM_param_grid=[{'classifier__C':[ 0.01, 0.1,1,10],\n",
    "                'classifier__class_weight':[{0:0.01, 1:0.99}, {0:0.80, 1:0.20},{0:0.20, 1:0.80}]}]\n",
    "\n",
    "SVM_grid=GridSearchCV(estimator=SVM_model,param_grid=SVM_param_grid,cv=5,scoring=f2)\n",
    "SVM_GSC=SVM_grid.fit(X_filled_knn,y)"
   ]
  },
  {
   "cell_type": "code",
   "execution_count": 124,
   "metadata": {},
   "outputs": [
    {
     "data": {
      "text/plain": [
       "0.3104131911077136"
      ]
     },
     "execution_count": 124,
     "metadata": {},
     "output_type": "execute_result"
    }
   ],
   "source": [
    "SVM_GSC.best_score_"
   ]
  },
  {
   "cell_type": "code",
   "execution_count": 125,
   "metadata": {},
   "outputs": [
    {
     "data": {
      "text/plain": [
       "{'classifier__C': 10, 'classifier__class_weight': {0: 0.2, 1: 0.8}}"
      ]
     },
     "execution_count": 125,
     "metadata": {},
     "output_type": "execute_result"
    }
   ],
   "source": [
    "SVM_GSC.best_params_"
   ]
  },
  {
   "cell_type": "code",
   "execution_count": 126,
   "metadata": {},
   "outputs": [
    {
     "data": {
      "text/plain": [
       "11"
      ]
     },
     "execution_count": 126,
     "metadata": {},
     "output_type": "execute_result"
    }
   ],
   "source": [
    "SVM_GSC.best_index_"
   ]
  },
  {
   "cell_type": "markdown",
   "metadata": {},
   "source": [
    "# Random Forest Tuning"
   ]
  },
  {
   "cell_type": "code",
   "execution_count": 129,
   "metadata": {},
   "outputs": [],
   "source": [
    "RF_model=Pipeline([('smt',SMOTE(random_state=2019)),\n",
    "                    ('classifier',RandomForestClassifier(random_state=2019))               \n",
    "                   ])\n",
    "RF_param_grid=[{'classifier__n_estimators':[10,20,30,40,50],\n",
    "               'classifier__class_weight':[{0:0.3, 1:0.7}, {0:0.80, 1:0.20},{0:0.20, 1:0.80},{0:1, 1:20}],\n",
    "               'classifier__max_depth':np.arange(5,15,1)\n",
    "               }]\n",
    "RF_grid=GridSearchCV(estimator=RF_model,param_grid=RF_param_grid,cv=5,scoring=f2)\n",
    "RF_GSC=RF_grid.fit(X_filled_knn,y)"
   ]
  },
  {
   "cell_type": "code",
   "execution_count": 130,
   "metadata": {},
   "outputs": [
    {
     "data": {
      "text/plain": [
       "0.5343667472740424"
      ]
     },
     "execution_count": 130,
     "metadata": {},
     "output_type": "execute_result"
    }
   ],
   "source": [
    "RF_GSC.best_score_"
   ]
  },
  {
   "cell_type": "code",
   "execution_count": 131,
   "metadata": {},
   "outputs": [
    {
     "data": {
      "text/plain": [
       "{'classifier__class_weight': {0: 0.8, 1: 0.2},\n",
       " 'classifier__max_depth': 14,\n",
       " 'classifier__n_estimators': 50}"
      ]
     },
     "execution_count": 131,
     "metadata": {},
     "output_type": "execute_result"
    }
   ],
   "source": [
    "RF_GSC.best_params_"
   ]
  },
  {
   "cell_type": "code",
   "execution_count": 132,
   "metadata": {},
   "outputs": [
    {
     "data": {
      "text/plain": [
       "99"
      ]
     },
     "execution_count": 132,
     "metadata": {},
     "output_type": "execute_result"
    }
   ],
   "source": [
    "RF_GSC.best_index_"
   ]
  },
  {
   "cell_type": "markdown",
   "metadata": {},
   "source": [
    "# AdaBoost Tuning"
   ]
  },
  {
   "cell_type": "code",
   "execution_count": 133,
   "metadata": {},
   "outputs": [],
   "source": [
    "AdaBoost_model=Pipeline([('smt',SMOTE(random_state=2019)),\n",
    "                    ('classifier',AdaBoostClassifier(random_state=2019))               \n",
    "                   ])\n",
    "AdaBoost_param_grid=[{'classifier__n_estimators':[10,20,30,40,50] }]\n",
    "AdaBoost_grid=GridSearchCV(estimator=AdaBoost_model,param_grid=AdaBoost_param_grid,cv=5,scoring=f2)\n",
    "AdaBoost_GSC=AdaBoost_grid.fit(X_filled_knn,y)"
   ]
  },
  {
   "cell_type": "code",
   "execution_count": 134,
   "metadata": {},
   "outputs": [
    {
     "data": {
      "text/plain": [
       "0.4989099852970176"
      ]
     },
     "execution_count": 134,
     "metadata": {},
     "output_type": "execute_result"
    }
   ],
   "source": [
    "AdaBoost_GSC.best_score_"
   ]
  },
  {
   "cell_type": "code",
   "execution_count": 135,
   "metadata": {},
   "outputs": [
    {
     "data": {
      "text/plain": [
       "{'classifier__n_estimators': 40}"
      ]
     },
     "execution_count": 135,
     "metadata": {},
     "output_type": "execute_result"
    }
   ],
   "source": [
    "AdaBoost_GSC.best_params_"
   ]
  },
  {
   "cell_type": "markdown",
   "metadata": {},
   "source": [
    "# XGBoosting Tuning"
   ]
  },
  {
   "cell_type": "code",
   "execution_count": null,
   "metadata": {},
   "outputs": [],
   "source": [
    "xgb_model=Pipeline([('smt',SMOTE(random_state=2019)),\n",
    "                    ('classifier',XGBClassifier(random_state=2019))\n",
    "                   ])\n",
    "xgb_param_grid=[{'classifier__max_depth':np.arange(5,15,1),\n",
    "               'classifier__n_estimators':[10,20,30,40,50,70,100], \n",
    "               }]\n",
    "xgb_grid=GridSearchCV(estimator=xgb_model,param_grid=xgb_param_grid,cv=5,scoring=f2)\n",
    "\n",
    "xgb_GSC=xgb_grid.fit(X_filled_knn,y.as_matrix())"
   ]
  },
  {
   "cell_type": "code",
   "execution_count": null,
   "metadata": {},
   "outputs": [],
   "source": [
    "xgb_GSC.best_score_"
   ]
  },
  {
   "cell_type": "code",
   "execution_count": null,
   "metadata": {},
   "outputs": [],
   "source": [
    "xgb_GSC.best_params_"
   ]
  },
  {
   "cell_type": "markdown",
   "metadata": {},
   "source": [
    "# Combine all models together"
   ]
  },
  {
   "cell_type": "code",
   "execution_count": 48,
   "metadata": {},
   "outputs": [],
   "source": [
    "#Adjust parameters after tuning\n",
    "models=[LogisticRegression(C=10,class_weight={0: 0.2, 1: 0.8}),\n",
    "        DecisionTreeClassifier(max_depth=14,class_weight={0: 0.8, 1: 0.2}),\n",
    "        SVC(C=10,class_weight={0: 0.2, 1: 0.8}),\n",
    "        RandomForestClassifier(class_weight={0: 0.8, 1: 0.2},max_depth=14,n_estimators=50),\n",
    "        AdaBoostClassifier(n_estimators=40),\n",
    "        XGBClassifier(max_depth=7,n_estimators=40)]\n",
    "model_name=['Logistic Regression','Decision Tree','Support Vector Machine','Random Forest','Adaptive Boost','XGB']\n",
    "new_metrics=pd.DataFrame(index=['accuracy','precision','recall','f1 score','f2 score'],\n",
    "                     columns=['Logistic Regression','Decision Tree','Support Vector Machine','Random Forest','Adaptive Boost','XGB'])"
   ]
  },
  {
   "cell_type": "code",
   "execution_count": 49,
   "metadata": {},
   "outputs": [
    {
     "name": "stdout",
     "output_type": "stream",
     "text": [
      "Logistic Regression  accuracy :  0.316243654822335\n",
      "Logistic Regression  precision :  0.0865681565380899\n",
      "Logistic Regression  recall :  0.9268292682926829\n",
      "Logistic Regression  F1 :  0.15832936948472215\n",
      "Logistic Regression  F2 :  0.31502642583334745\n",
      "############################################################\n",
      "Decision Tree  accuracy :  0.7732656514382402\n",
      "Decision Tree  precision :  0.19626741635217052\n",
      "Decision Tree  recall :  0.7292682926829268\n",
      "Decision Tree  F1 :  0.30890970267708917\n",
      "Decision Tree  F2 :  0.4717323658545177\n",
      "############################################################\n",
      "Support Vector Machine  accuracy :  0.3175972927241963\n",
      "Support Vector Machine  precision :  0.08446467254641123\n",
      "Support Vector Machine  recall :  0.8975609756097562\n",
      "Support Vector Machine  F1 :  0.15437883853493345\n",
      "Support Vector Machine  F2 :  0.30672227060077567\n",
      "############################################################\n",
      "Random Forest  accuracy :  0.860067681895093\n",
      "Random Forest  precision :  0.2848419793890164\n",
      "Random Forest  recall :  0.6585365853658537\n",
      "Random Forest  F1 :  0.39642674499930236\n",
      "Random Forest  F2 :  0.5198845101941914\n",
      "############################################################\n",
      "Adaptive Boost  accuracy :  0.8568527918781725\n",
      "Adaptive Boost  precision :  0.2760546074755095\n",
      "Adaptive Boost  recall :  0.6536585365853659\n",
      "Adaptive Boost  F1 :  0.3878545853927119\n",
      "Adaptive Boost  F2 :  0.5127705759055782\n",
      "############################################################\n",
      "XGB  accuracy :  0.9035532994923858\n",
      "XGB  precision :  0.3780498686515158\n",
      "XGB  recall :  0.5902439024390244\n",
      "XGB  F1 :  0.45980804816142884\n",
      "XGB  F2 :  0.529612203344266\n",
      "############################################################\n"
     ]
    },
    {
     "data": {
      "image/png": "[encoded data removed]",
      "text/plain": [
       "<Figure size 720x576 with 1 Axes>"
      ]
     },
     "metadata": {
      "needs_background": "light"
     },
     "output_type": "display_data"
    }
   ],
   "source": [
    "for name,model in zip(model_name,models):\n",
    "    pipe=make_pipline_imb(SMOTE(random_state=2019),model)\n",
    "    accuracy=[]\n",
    "    precision=[]\n",
    "    recall=[]\n",
    "    f1=[]\n",
    "    f2_Score=[]\n",
    "    auc=[]\n",
    "    for train_index,test_index in skf.split(X_filled_knn,y):\n",
    "        X_train,X_test=X_filled_knn[train_index],X_filled_knn[test_index]\n",
    "        y_train,y_test=y.iloc[train_index].values,y.iloc[test_index].values\n",
    "        y_train,y_test=y_train.reshape(-1,1),y_test.reshape(-1,1)\n",
    "        \n",
    "        predictor=pipe.fit(X_train,y_train.ravel())\n",
    "        prediction=predictor.predict(X_test)\n",
    "        \n",
    "        accuracy.append(pipe.score(X_test,y_test))\n",
    "        precision.append(precision_score(y_test,prediction))\n",
    "        recall.append(recall_score(y_test,prediction))\n",
    "        f1.append(f1_score(y_test,prediction))\n",
    "        f2_Score.append(f2(pipe,X_test,y_test))\n",
    "        \n",
    "    print(name,' accuracy : ',np.mean(accuracy))\n",
    "    print(name,' precision : ',np.mean(precision))\n",
    "    print(name,' recall : ', np.mean(recall))\n",
    "    print(name,' F1 : ',np.mean(f1))\n",
    "    print(name,' F2 : ',np.mean(f2_Score))\n",
    "    print('#'*60)\n",
    "    \n",
    "    new_metrics.loc['accuracy',name]=np.mean(accuracy)\n",
    "    new_metrics.loc['precision',name]=np.mean(precision)\n",
    "    new_metrics.loc['recall',name]=np.mean(recall)\n",
    "    new_metrics.loc['f1 score',name]=np.mean(f1)\n",
    "    new_metrics.loc['f2 score',name]=np.mean(f2_Score)\n",
    "fig,ax=plt.subplots(figsize=(10,8))\n",
    "new_metrics.plot(kind='barh',ax=ax)\n",
    "ax.grid()"
   ]
  },
  {
   "cell_type": "markdown",
   "metadata": {},
   "source": [
    "# ROC AUC"
   ]
  },
  {
   "cell_type": "code",
   "execution_count": 56,
   "metadata": {},
   "outputs": [],
   "source": [
    "#ROC CUrve to compare model\n",
    "from sklearn.metrics import roc_curve,roc_auc_score"
   ]
  },
  {
   "cell_type": "code",
   "execution_count": 54,
   "metadata": {},
   "outputs": [],
   "source": [
    "LogReg_model = Pipeline([('smt',SMOTE(random_state=2019)),\n",
    "        \n",
    "                ('classifier', LogisticRegression(C=10,class_weight={0: 0.2, 1: 0.8},random_state=2019))\n",
    "                 ])\n",
    "DT_model = Pipeline([('smt',SMOTE(random_state=2019)),\n",
    "        \n",
    "                ('classifier', DecisionTreeClassifier(max_depth=10,class_weight={0: 0.2, 1: 0.8},random_state=2019))\n",
    "                 ])\n",
    "\n",
    "SVM_model=Pipeline([('smt',SMOTE(random_state=2019)),\n",
    "                    ('classifier',SVC(C=10,class_weight={0: 0.2, 1: 0.8},random_state=2019,probability=True))               \n",
    "                   ])\n",
    "RF_model=Pipeline([('smt',SMOTE(random_state=2019)),\n",
    "                    ('classifier',RandomForestClassifier(class_weight={0: 0.2, 1: 0.8},max_depth=12,n_estimators=50,random_state=2019))               \n",
    "                   ])\n",
    "AdaBoost_model=Pipeline([('smt',SMOTE(random_state=2019)),\n",
    "                    ('classifier',AdaBoostClassifier(n_estimators=50,random_state=2019))               \n",
    "                   ])\n",
    "xgb_model=Pipeline([('smt',SMOTE(random_state=2019)),\n",
    "                    ('classifier',XGBClassifier(max_depth=7,n_estimators=40,random_state=2019))\n",
    "                   ])"
   ]
  },
  {
   "cell_type": "code",
   "execution_count": 75,
   "metadata": {},
   "outputs": [
    {
     "name": "stdout",
     "output_type": "stream",
     "text": [
      "AUC score for Logistics Regression: 0.8205 \n",
      "AUC score for Decision Tree: 0.7922\n",
      "AUC score for SVM: 0.7897\n",
      "AUC score for Random Forest: 0.8791\n",
      "AUC score for Adaptive Boost: 0.8353\n",
      "AUC score for XGBoosting: 0.8896\n"
     ]
    },
    {
     "data": {
      "image/png": "[encoded data removed]",
      "text/plain": [
       "<Figure size 1152x720 with 1 Axes>"
      ]
     },
     "metadata": {
      "needs_background": "light"
     },
     "output_type": "display_data"
    }
   ],
   "source": [
    "LogReg_model.fit(X_train,y_train)\n",
    "y_pred_prob_LR=LogReg_model.predict_proba(X_test)[:,1]\n",
    "\n",
    "DT_model.fit(X_train,y_train)\n",
    "y_pred_prob_DT=DT_model.predict_proba(X_test)[:,1]\n",
    "\n",
    "\n",
    "SVM_model.fit(X_train,y_train)\n",
    "y_pred_prob_SVM=SVM_model.predict_proba(X_test)[:,1]\n",
    "\n",
    "RF_model.fit(X_train,y_train)\n",
    "y_pred_prob_RF=RF_model.predict_proba(X_test)[:,1]\n",
    "\n",
    "AdaBoost_model.fit(X_train,y_train)\n",
    "y_pred_prob_AdaBoost=AdaBoost_model.predict_proba(X_test)[:,1]\n",
    "\n",
    "xgb_model.fit(X_train,y_train)\n",
    "y_pred_prob_xgb=xgb_model.predict_proba(X_test)[:,1]\n",
    "\n",
    "fpr_LR, tpr_LR,_ = roc_curve(y_test, y_pred_prob_LR)\n",
    "fpr_DT, tpr_DT,_ = roc_curve(y_test, y_pred_prob_DT)\n",
    "fpr_SVM, tpr_SVM,_ = roc_curve(y_test, y_pred_prob_SVM)\n",
    "fpr_RF, tpr_RF,_ = roc_curve(y_test, y_pred_prob_RF)\n",
    "fpr_AdaBoost, tpr_AdaBoost,_ = roc_curve(y_test, y_pred_prob_AdaBoost)\n",
    "fpr_xgb, tpr_xgb,_ = roc_curve(y_test, y_pred_prob_xgb)\n",
    "\n",
    "plt.figure(figsize=(16,10))\n",
    "plt.plot(fpr_LR, tpr_LR,label='LogisticReg')\n",
    "plt.plot(fpr_DT, tpr_DT,label='Decision Tree')\n",
    "plt.plot(fpr_SVM, tpr_SVM,label='SVM')\n",
    "plt.plot(fpr_RF, tpr_RF,label='Random Forest')\n",
    "plt.plot(fpr_AdaBoost, tpr_AdaBoost,label='Adaptive Boost')\n",
    "plt.plot(fpr_xgb, tpr_xgb,label='XGBoosting')\n",
    "plt.xlim([0.0, 1.0])\n",
    "plt.ylim([0.0, 1.0])\n",
    "plt.title('ROC curve for bankruptcy classifier')\n",
    "plt.xlabel('False Positive Rate (1 - Specificity)')\n",
    "plt.ylabel('True Positive Rate (Sensitivity)')\n",
    "plt.legend()\n",
    "plt.grid(True)\n",
    "\n",
    "print('AUC score for Logistics Regression: %.4f '%(roc_auc_score(y_test,y_pred_prob_LR)))\n",
    "print('AUC score for Decision Tree: %.4f'%(roc_auc_score(y_test,y_pred_prob_DT)))\n",
    "print('AUC score for SVM: %.4f'%(roc_auc_score(y_test,y_pred_prob_SVM)))\n",
    "print('AUC score for Random Forest: %.4f'%(roc_auc_score(y_test,y_pred_prob_RF)))\n",
    "print('AUC score for Adaptive Boost: %.4f'%(roc_auc_score(y_test,y_pred_prob_AdaBoost)))\n",
    "print('AUC score for XGBoosting: %.4f'%(roc_auc_score(y_test,y_pred_prob_xgb)))"
   ]
  },
  {
   "cell_type": "code",
   "execution_count": null,
   "metadata": {},
   "outputs": [],
   "source": []
  },
  {
   "cell_type": "code",
   "execution_count": 77,
   "metadata": {},
   "outputs": [],
   "source": [
    "from xgboost import plot_tree,plot_importance,to_graphviz"
   ]
  },
  {
   "cell_type": "code",
   "execution_count": null,
   "metadata": {},
   "outputs": [],
   "source": [
    "xgb.booster()"
   ]
  },
  {
   "cell_type": "code",
   "execution_count": null,
   "metadata": {},
   "outputs": [],
   "source": []
  },
  {
   "cell_type": "code",
   "execution_count": null,
   "metadata": {},
   "outputs": [],
   "source": []
  },
  {
   "cell_type": "code",
   "execution_count": null,
   "metadata": {},
   "outputs": [],
   "source": []
  },
  {
   "cell_type": "code",
   "execution_count": null,
   "metadata": {},
   "outputs": [],
   "source": []
  },
  {
   "cell_type": "code",
   "execution_count": null,
   "metadata": {},
   "outputs": [],
   "source": []
  },
  {
   "cell_type": "code",
   "execution_count": null,
   "metadata": {},
   "outputs": [],
   "source": []
  },
  {
   "cell_type": "code",
   "execution_count": null,
   "metadata": {},
   "outputs": [],
   "source": []
  },
  {
   "cell_type": "code",
   "execution_count": null,
   "metadata": {},
   "outputs": [],
   "source": []
  },
  {
   "cell_type": "code",
   "execution_count": null,
   "metadata": {},
   "outputs": [],
   "source": []
  },
  {
   "cell_type": "code",
   "execution_count": null,
   "metadata": {},
   "outputs": [],
   "source": []
  },
  {
   "cell_type": "code",
   "execution_count": null,
   "metadata": {},
   "outputs": [],
   "source": []
  },
  {
   "cell_type": "code",
   "execution_count": null,
   "metadata": {},
   "outputs": [],
   "source": []
  },
  {
   "cell_type": "code",
   "execution_count": null,
   "metadata": {},
   "outputs": [],
   "source": []
  },
  {
   "cell_type": "code",
   "execution_count": null,
   "metadata": {},
   "outputs": [],
   "source": []
  },
  {
   "cell_type": "code",
   "execution_count": null,
   "metadata": {},
   "outputs": [],
   "source": []
  },
  {
   "cell_type": "code",
   "execution_count": null,
   "metadata": {},
   "outputs": [],
   "source": []
  },
  {
   "cell_type": "code",
   "execution_count": null,
   "metadata": {},
   "outputs": [],
   "source": []
  },
  {
   "cell_type": "code",
   "execution_count": null,
   "metadata": {},
   "outputs": [],
   "source": []
  },
  {
   "cell_type": "code",
   "execution_count": null,
   "metadata": {},
   "outputs": [],
   "source": []
  },
  {
   "cell_type": "code",
   "execution_count": null,
   "metadata": {},
   "outputs": [],
   "source": []
  },
  {
   "cell_type": "code",
   "execution_count": null,
   "metadata": {},
   "outputs": [],
   "source": []
  },
  {
   "cell_type": "code",
   "execution_count": null,
   "metadata": {},
   "outputs": [],
   "source": []
  },
  {
   "cell_type": "code",
   "execution_count": null,
   "metadata": {},
   "outputs": [],
   "source": []
  },
  {
   "cell_type": "code",
   "execution_count": null,
   "metadata": {},
   "outputs": [],
   "source": []
  },
  {
   "cell_type": "code",
   "execution_count": null,
   "metadata": {},
   "outputs": [],
   "source": []
  },
  {
   "cell_type": "code",
   "execution_count": null,
   "metadata": {},
   "outputs": [],
   "source": []
  },
  {
   "cell_type": "code",
   "execution_count": null,
   "metadata": {},
   "outputs": [],
   "source": []
  },
  {
   "cell_type": "code",
   "execution_count": null,
   "metadata": {},
   "outputs": [],
   "source": []
  },
  {
   "cell_type": "code",
   "execution_count": 494,
   "metadata": {},
   "outputs": [],
   "source": []
  },
  {
   "cell_type": "code",
   "execution_count": 509,
   "metadata": {},
   "outputs": [],
   "source": []
  },
  {
   "cell_type": "code",
   "execution_count": null,
   "metadata": {},
   "outputs": [],
   "source": []
  }
 ],
 "metadata": {
  "kernelspec": {
   "display_name": "Python 3",
   "language": "python",
   "name": "python3"
  },
  "language_info": {
   "codemirror_mode": {
    "name": "ipython",
    "version": 3
   },
   "file_extension": ".py",
   "mimetype": "text/x-python",
   "name": "python",
   "nbconvert_exporter": "python",
   "pygments_lexer": "ipython3",
   "version": "3.7.3"
  }
 },
 "nbformat": 4,
 "nbformat_minor": 2
}
